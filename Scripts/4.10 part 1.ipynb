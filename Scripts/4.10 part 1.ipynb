{
 "cells": [
  {
   "cell_type": "code",
   "execution_count": 1,
   "id": "720c351e",
   "metadata": {},
   "outputs": [],
   "source": [
    "# Import libraries\n",
    "\n",
    "import pandas as pd\n",
    "import numpy as np\n",
    "import os\n",
    "import matplotlib.pyplot as plt\n",
    "import seaborn as sns\n",
    "import scipy"
   ]
  },
  {
   "cell_type": "code",
   "execution_count": 2,
   "id": "559a338e",
   "metadata": {},
   "outputs": [],
   "source": [
    "#project folder path way\n",
    "path = r'C:\\Users\\Nbdav\\Instacart Basket Analysis'\n"
   ]
  },
  {
   "cell_type": "code",
   "execution_count": 3,
   "id": "b9889dab",
   "metadata": {},
   "outputs": [],
   "source": [
    "#importing file\n",
    "ords_prods_cust = pd.read_pickle(os.path.join(path, '02 data', 'Prepared data', 'orders_products_cust.pkl'))"
   ]
  },
  {
   "cell_type": "code",
   "execution_count": 4,
   "id": "f8b490ea",
   "metadata": {},
   "outputs": [
    {
     "data": {
      "text/html": [
       "<div>\n",
       "<style scoped>\n",
       "    .dataframe tbody tr th:only-of-type {\n",
       "        vertical-align: middle;\n",
       "    }\n",
       "\n",
       "    .dataframe tbody tr th {\n",
       "        vertical-align: top;\n",
       "    }\n",
       "\n",
       "    .dataframe thead th {\n",
       "        text-align: right;\n",
       "    }\n",
       "</style>\n",
       "<table border=\"1\" class=\"dataframe\">\n",
       "  <thead>\n",
       "    <tr style=\"text-align: right;\">\n",
       "      <th></th>\n",
       "      <th>order_id</th>\n",
       "      <th>user_id</th>\n",
       "      <th>order_number</th>\n",
       "      <th>orders_day_of_week</th>\n",
       "      <th>order_hour_of_day</th>\n",
       "      <th>days_since_prior_order</th>\n",
       "      <th>first_order</th>\n",
       "      <th>product_id</th>\n",
       "      <th>add_to_cart_order</th>\n",
       "      <th>reordered</th>\n",
       "      <th>...</th>\n",
       "      <th>customer_freq</th>\n",
       "      <th>first_name</th>\n",
       "      <th>last_name</th>\n",
       "      <th>Gender</th>\n",
       "      <th>STATE</th>\n",
       "      <th>Age</th>\n",
       "      <th>date_joined</th>\n",
       "      <th>num_of_dependants</th>\n",
       "      <th>fam_status</th>\n",
       "      <th>income</th>\n",
       "    </tr>\n",
       "  </thead>\n",
       "  <tbody>\n",
       "    <tr>\n",
       "      <th>0</th>\n",
       "      <td>2539329</td>\n",
       "      <td>1</td>\n",
       "      <td>1</td>\n",
       "      <td>2</td>\n",
       "      <td>8</td>\n",
       "      <td>NaN</td>\n",
       "      <td>True</td>\n",
       "      <td>196</td>\n",
       "      <td>1</td>\n",
       "      <td>0</td>\n",
       "      <td>...</td>\n",
       "      <td>Non-frequent customer</td>\n",
       "      <td>Linda</td>\n",
       "      <td>Nguyen</td>\n",
       "      <td>Female</td>\n",
       "      <td>Alabama</td>\n",
       "      <td>31</td>\n",
       "      <td>2/17/2019</td>\n",
       "      <td>3</td>\n",
       "      <td>married</td>\n",
       "      <td>40423</td>\n",
       "    </tr>\n",
       "    <tr>\n",
       "      <th>1</th>\n",
       "      <td>2398795</td>\n",
       "      <td>1</td>\n",
       "      <td>2</td>\n",
       "      <td>3</td>\n",
       "      <td>7</td>\n",
       "      <td>15.0</td>\n",
       "      <td>False</td>\n",
       "      <td>196</td>\n",
       "      <td>1</td>\n",
       "      <td>1</td>\n",
       "      <td>...</td>\n",
       "      <td>Non-frequent customer</td>\n",
       "      <td>Linda</td>\n",
       "      <td>Nguyen</td>\n",
       "      <td>Female</td>\n",
       "      <td>Alabama</td>\n",
       "      <td>31</td>\n",
       "      <td>2/17/2019</td>\n",
       "      <td>3</td>\n",
       "      <td>married</td>\n",
       "      <td>40423</td>\n",
       "    </tr>\n",
       "    <tr>\n",
       "      <th>2</th>\n",
       "      <td>473747</td>\n",
       "      <td>1</td>\n",
       "      <td>3</td>\n",
       "      <td>3</td>\n",
       "      <td>12</td>\n",
       "      <td>21.0</td>\n",
       "      <td>False</td>\n",
       "      <td>196</td>\n",
       "      <td>1</td>\n",
       "      <td>1</td>\n",
       "      <td>...</td>\n",
       "      <td>Non-frequent customer</td>\n",
       "      <td>Linda</td>\n",
       "      <td>Nguyen</td>\n",
       "      <td>Female</td>\n",
       "      <td>Alabama</td>\n",
       "      <td>31</td>\n",
       "      <td>2/17/2019</td>\n",
       "      <td>3</td>\n",
       "      <td>married</td>\n",
       "      <td>40423</td>\n",
       "    </tr>\n",
       "    <tr>\n",
       "      <th>3</th>\n",
       "      <td>2254736</td>\n",
       "      <td>1</td>\n",
       "      <td>4</td>\n",
       "      <td>4</td>\n",
       "      <td>7</td>\n",
       "      <td>29.0</td>\n",
       "      <td>False</td>\n",
       "      <td>196</td>\n",
       "      <td>1</td>\n",
       "      <td>1</td>\n",
       "      <td>...</td>\n",
       "      <td>Non-frequent customer</td>\n",
       "      <td>Linda</td>\n",
       "      <td>Nguyen</td>\n",
       "      <td>Female</td>\n",
       "      <td>Alabama</td>\n",
       "      <td>31</td>\n",
       "      <td>2/17/2019</td>\n",
       "      <td>3</td>\n",
       "      <td>married</td>\n",
       "      <td>40423</td>\n",
       "    </tr>\n",
       "    <tr>\n",
       "      <th>4</th>\n",
       "      <td>431534</td>\n",
       "      <td>1</td>\n",
       "      <td>5</td>\n",
       "      <td>4</td>\n",
       "      <td>15</td>\n",
       "      <td>28.0</td>\n",
       "      <td>False</td>\n",
       "      <td>196</td>\n",
       "      <td>1</td>\n",
       "      <td>1</td>\n",
       "      <td>...</td>\n",
       "      <td>Non-frequent customer</td>\n",
       "      <td>Linda</td>\n",
       "      <td>Nguyen</td>\n",
       "      <td>Female</td>\n",
       "      <td>Alabama</td>\n",
       "      <td>31</td>\n",
       "      <td>2/17/2019</td>\n",
       "      <td>3</td>\n",
       "      <td>married</td>\n",
       "      <td>40423</td>\n",
       "    </tr>\n",
       "  </tbody>\n",
       "</table>\n",
       "<p>5 rows × 33 columns</p>\n",
       "</div>"
      ],
      "text/plain": [
       "   order_id user_id  order_number  orders_day_of_week  order_hour_of_day  \\\n",
       "0   2539329       1             1                   2                  8   \n",
       "1   2398795       1             2                   3                  7   \n",
       "2    473747       1             3                   3                 12   \n",
       "3   2254736       1             4                   4                  7   \n",
       "4    431534       1             5                   4                 15   \n",
       "\n",
       "   days_since_prior_order  first_order  product_id  add_to_cart_order  \\\n",
       "0                     NaN         True         196                  1   \n",
       "1                    15.0        False         196                  1   \n",
       "2                    21.0        False         196                  1   \n",
       "3                    29.0        False         196                  1   \n",
       "4                    28.0        False         196                  1   \n",
       "\n",
       "   reordered  ...          customer_freq  first_name  last_name  Gender  \\\n",
       "0          0  ...  Non-frequent customer       Linda     Nguyen  Female   \n",
       "1          1  ...  Non-frequent customer       Linda     Nguyen  Female   \n",
       "2          1  ...  Non-frequent customer       Linda     Nguyen  Female   \n",
       "3          1  ...  Non-frequent customer       Linda     Nguyen  Female   \n",
       "4          1  ...  Non-frequent customer       Linda     Nguyen  Female   \n",
       "\n",
       "     STATE Age date_joined num_of_dependants  fam_status income  \n",
       "0  Alabama  31   2/17/2019                 3     married  40423  \n",
       "1  Alabama  31   2/17/2019                 3     married  40423  \n",
       "2  Alabama  31   2/17/2019                 3     married  40423  \n",
       "3  Alabama  31   2/17/2019                 3     married  40423  \n",
       "4  Alabama  31   2/17/2019                 3     married  40423  \n",
       "\n",
       "[5 rows x 33 columns]"
      ]
     },
     "execution_count": 4,
     "metadata": {},
     "output_type": "execute_result"
    }
   ],
   "source": [
    "#checking headers\n",
    "ords_prods_cust.head()"
   ]
  },
  {
   "cell_type": "code",
   "execution_count": 6,
   "id": "3d9cf421",
   "metadata": {},
   "outputs": [
    {
     "data": {
      "text/plain": [
       "(32404859, 33)"
      ]
     },
     "execution_count": 6,
     "metadata": {},
     "output_type": "execute_result"
    }
   ],
   "source": [
    "#checking shape\n",
    "ords_prods_cust.shape"
   ]
  },
  {
   "cell_type": "markdown",
   "id": "57bea9a8",
   "metadata": {},
   "source": [
    "# 3. PII data"
   ]
  },
  {
   "cell_type": "markdown",
   "id": "9858ed7c",
   "metadata": {},
   "source": [
    "The columns \"first name\" and \"last name\" contain sensitive information that could be traced back to them. Their names are not needed for the data to be useful"
   ]
  },
  {
   "cell_type": "code",
   "execution_count": 4,
   "id": "1eb57a3f",
   "metadata": {},
   "outputs": [],
   "source": [
    "# Copy of 'ords_prods_cust' without 'first_name' and 'last_name' columns\n",
    "\n",
    "ords_prods_cust_2 = ords_prods_cust.drop(columns = ['first_name', 'last_name'])"
   ]
  },
  {
   "cell_type": "code",
   "execution_count": 5,
   "id": "e24ceb13",
   "metadata": {},
   "outputs": [
    {
     "data": {
      "text/html": [
       "<div>\n",
       "<style scoped>\n",
       "    .dataframe tbody tr th:only-of-type {\n",
       "        vertical-align: middle;\n",
       "    }\n",
       "\n",
       "    .dataframe tbody tr th {\n",
       "        vertical-align: top;\n",
       "    }\n",
       "\n",
       "    .dataframe thead th {\n",
       "        text-align: right;\n",
       "    }\n",
       "</style>\n",
       "<table border=\"1\" class=\"dataframe\">\n",
       "  <thead>\n",
       "    <tr style=\"text-align: right;\">\n",
       "      <th></th>\n",
       "      <th>order_id</th>\n",
       "      <th>user_id</th>\n",
       "      <th>order_number</th>\n",
       "      <th>orders_day_of_week</th>\n",
       "      <th>order_hour_of_day</th>\n",
       "      <th>days_since_prior_order</th>\n",
       "      <th>first_order</th>\n",
       "      <th>product_id</th>\n",
       "      <th>add_to_cart_order</th>\n",
       "      <th>reordered</th>\n",
       "      <th>...</th>\n",
       "      <th>spending_habits</th>\n",
       "      <th>buying_freq</th>\n",
       "      <th>customer_freq</th>\n",
       "      <th>gender</th>\n",
       "      <th>state</th>\n",
       "      <th>age</th>\n",
       "      <th>date_joined</th>\n",
       "      <th>num_of_dependants</th>\n",
       "      <th>fam_status</th>\n",
       "      <th>income</th>\n",
       "    </tr>\n",
       "  </thead>\n",
       "  <tbody>\n",
       "    <tr>\n",
       "      <th>0</th>\n",
       "      <td>2539329</td>\n",
       "      <td>1</td>\n",
       "      <td>1</td>\n",
       "      <td>2</td>\n",
       "      <td>8</td>\n",
       "      <td>NaN</td>\n",
       "      <td>True</td>\n",
       "      <td>196</td>\n",
       "      <td>1</td>\n",
       "      <td>0</td>\n",
       "      <td>...</td>\n",
       "      <td>low spender</td>\n",
       "      <td>20.5</td>\n",
       "      <td>Non-frequent customer</td>\n",
       "      <td>Female</td>\n",
       "      <td>Alabama</td>\n",
       "      <td>31</td>\n",
       "      <td>2/17/2019</td>\n",
       "      <td>3</td>\n",
       "      <td>married</td>\n",
       "      <td>40423</td>\n",
       "    </tr>\n",
       "    <tr>\n",
       "      <th>1</th>\n",
       "      <td>2398795</td>\n",
       "      <td>1</td>\n",
       "      <td>2</td>\n",
       "      <td>3</td>\n",
       "      <td>7</td>\n",
       "      <td>15.0</td>\n",
       "      <td>False</td>\n",
       "      <td>196</td>\n",
       "      <td>1</td>\n",
       "      <td>1</td>\n",
       "      <td>...</td>\n",
       "      <td>low spender</td>\n",
       "      <td>20.5</td>\n",
       "      <td>Non-frequent customer</td>\n",
       "      <td>Female</td>\n",
       "      <td>Alabama</td>\n",
       "      <td>31</td>\n",
       "      <td>2/17/2019</td>\n",
       "      <td>3</td>\n",
       "      <td>married</td>\n",
       "      <td>40423</td>\n",
       "    </tr>\n",
       "    <tr>\n",
       "      <th>2</th>\n",
       "      <td>473747</td>\n",
       "      <td>1</td>\n",
       "      <td>3</td>\n",
       "      <td>3</td>\n",
       "      <td>12</td>\n",
       "      <td>21.0</td>\n",
       "      <td>False</td>\n",
       "      <td>196</td>\n",
       "      <td>1</td>\n",
       "      <td>1</td>\n",
       "      <td>...</td>\n",
       "      <td>low spender</td>\n",
       "      <td>20.5</td>\n",
       "      <td>Non-frequent customer</td>\n",
       "      <td>Female</td>\n",
       "      <td>Alabama</td>\n",
       "      <td>31</td>\n",
       "      <td>2/17/2019</td>\n",
       "      <td>3</td>\n",
       "      <td>married</td>\n",
       "      <td>40423</td>\n",
       "    </tr>\n",
       "    <tr>\n",
       "      <th>3</th>\n",
       "      <td>2254736</td>\n",
       "      <td>1</td>\n",
       "      <td>4</td>\n",
       "      <td>4</td>\n",
       "      <td>7</td>\n",
       "      <td>29.0</td>\n",
       "      <td>False</td>\n",
       "      <td>196</td>\n",
       "      <td>1</td>\n",
       "      <td>1</td>\n",
       "      <td>...</td>\n",
       "      <td>low spender</td>\n",
       "      <td>20.5</td>\n",
       "      <td>Non-frequent customer</td>\n",
       "      <td>Female</td>\n",
       "      <td>Alabama</td>\n",
       "      <td>31</td>\n",
       "      <td>2/17/2019</td>\n",
       "      <td>3</td>\n",
       "      <td>married</td>\n",
       "      <td>40423</td>\n",
       "    </tr>\n",
       "    <tr>\n",
       "      <th>4</th>\n",
       "      <td>431534</td>\n",
       "      <td>1</td>\n",
       "      <td>5</td>\n",
       "      <td>4</td>\n",
       "      <td>15</td>\n",
       "      <td>28.0</td>\n",
       "      <td>False</td>\n",
       "      <td>196</td>\n",
       "      <td>1</td>\n",
       "      <td>1</td>\n",
       "      <td>...</td>\n",
       "      <td>low spender</td>\n",
       "      <td>20.5</td>\n",
       "      <td>Non-frequent customer</td>\n",
       "      <td>Female</td>\n",
       "      <td>Alabama</td>\n",
       "      <td>31</td>\n",
       "      <td>2/17/2019</td>\n",
       "      <td>3</td>\n",
       "      <td>married</td>\n",
       "      <td>40423</td>\n",
       "    </tr>\n",
       "  </tbody>\n",
       "</table>\n",
       "<p>5 rows × 31 columns</p>\n",
       "</div>"
      ],
      "text/plain": [
       "   order_id user_id  order_number  orders_day_of_week  order_hour_of_day  \\\n",
       "0   2539329       1             1                   2                  8   \n",
       "1   2398795       1             2                   3                  7   \n",
       "2    473747       1             3                   3                 12   \n",
       "3   2254736       1             4                   4                  7   \n",
       "4    431534       1             5                   4                 15   \n",
       "\n",
       "   days_since_prior_order  first_order  product_id  add_to_cart_order  \\\n",
       "0                     NaN         True         196                  1   \n",
       "1                    15.0        False         196                  1   \n",
       "2                    21.0        False         196                  1   \n",
       "3                    29.0        False         196                  1   \n",
       "4                    28.0        False         196                  1   \n",
       "\n",
       "   reordered  ... spending_habits  buying_freq          customer_freq  gender  \\\n",
       "0          0  ...     low spender         20.5  Non-frequent customer  Female   \n",
       "1          1  ...     low spender         20.5  Non-frequent customer  Female   \n",
       "2          1  ...     low spender         20.5  Non-frequent customer  Female   \n",
       "3          1  ...     low spender         20.5  Non-frequent customer  Female   \n",
       "4          1  ...     low spender         20.5  Non-frequent customer  Female   \n",
       "\n",
       "     state age date_joined num_of_dependants  fam_status income  \n",
       "0  Alabama  31   2/17/2019                 3     married  40423  \n",
       "1  Alabama  31   2/17/2019                 3     married  40423  \n",
       "2  Alabama  31   2/17/2019                 3     married  40423  \n",
       "3  Alabama  31   2/17/2019                 3     married  40423  \n",
       "4  Alabama  31   2/17/2019                 3     married  40423  \n",
       "\n",
       "[5 rows x 31 columns]"
      ]
     },
     "execution_count": 5,
     "metadata": {},
     "output_type": "execute_result"
    }
   ],
   "source": [
    "# Checking headers of ords_prods_custs_2 - ensuring there is no PII data\n",
    "\n",
    "ords_prods_cust_2.head()"
   ]
  },
  {
   "cell_type": "markdown",
   "id": "c55baa6d",
   "metadata": {},
   "source": [
    "# Creating a region column "
   ]
  },
  {
   "cell_type": "code",
   "execution_count": 6,
   "id": "073e84b1",
   "metadata": {},
   "outputs": [
    {
     "data": {
      "text/plain": [
       "Pennsylvania            667082\n",
       "California              659783\n",
       "Rhode Island            656913\n",
       "Georgia                 656389\n",
       "New Mexico              654494\n",
       "Arizona                 653964\n",
       "North Carolina          651900\n",
       "Oklahoma                651739\n",
       "Alaska                  648495\n",
       "Minnesota               647825\n",
       "Massachusetts           646358\n",
       "Wyoming                 644255\n",
       "Virginia                641421\n",
       "Missouri                640732\n",
       "Texas                   640394\n",
       "Colorado                639280\n",
       "Maine                   638583\n",
       "North Dakota            638491\n",
       "Alabama                 638003\n",
       "Kansas                  637538\n",
       "Louisiana               637482\n",
       "Delaware                637024\n",
       "South Carolina          636754\n",
       "Oregon                  636425\n",
       "Arkansas                636144\n",
       "Nevada                  636139\n",
       "New York                635983\n",
       "Montana                 635265\n",
       "South Dakota            633772\n",
       "Illinois                633024\n",
       "Hawaii                  632901\n",
       "Washington              632852\n",
       "Mississippi             632675\n",
       "Kentucky                632490\n",
       "Michigan                630928\n",
       "Florida                 629027\n",
       "Ohio                    628319\n",
       "Wisconsin               628108\n",
       "New Jersey              627692\n",
       "Indiana                 627282\n",
       "Maryland                626579\n",
       "Nebraska                625813\n",
       "Iowa                    625493\n",
       "Connecticut             623022\n",
       "Tennessee               617873\n",
       "New Hampshire           615378\n",
       "District of Columbia    613695\n",
       "West Virginia           612296\n",
       "Utah                    611941\n",
       "Vermont                 611725\n",
       "Idaho                   607119\n",
       "Name: state, dtype: int64"
      ]
     },
     "execution_count": 6,
     "metadata": {},
     "output_type": "execute_result"
    }
   ],
   "source": [
    "# Checking value counts of 'state' column\n",
    "\n",
    "ords_prods_cust_2['state'].value_counts(dropna = False)"
   ]
  },
  {
   "cell_type": "code",
   "execution_count": 7,
   "id": "f926dfd2",
   "metadata": {},
   "outputs": [],
   "source": [
    "# Creating a list of region values using if-statement with for-loops\n",
    "\n",
    "region = []\n",
    "\n",
    "for value in ords_prods_cust_2['state']:\n",
    "    if (value in ['Maine', 'New Hampshire', 'Vermont', 'Massachusetts', 'Rhode Island', 'Connecticut', 'New York', 'Pennsylvania', 'New Jersey']):\n",
    "        region.append('Northeast')\n",
    "    elif (value in ['Wisconsin', 'Michigan', 'Illinois', 'Ohio', 'North Dakota', 'South Dakota', 'Nebraska', 'Minnesota', 'Iowa', 'Missouri']):\n",
    "        region.append('Midwest')\n",
    "    elif (value in ['Delaware', 'Maryland', 'District of Columbia', 'Virginia', 'West Virginia', 'North Carolina', 'South Carolina', 'Georgia', 'Florida', 'Kentucky', 'Tennessee', 'Mississippi', 'Alabama', 'Oklahoma', 'Texas', 'Arkansas', 'Louisiana']):\n",
    "        region.append('South')\n",
    "    else:\n",
    "        region.append('West')"
   ]
  },
  {
   "cell_type": "code",
   "execution_count": 8,
   "id": "334e248a",
   "metadata": {},
   "outputs": [],
   "source": [
    "# Creating new 'region' column within df, using 'region' values\n",
    "\n",
    "ords_prods_cust_2['region'] = region"
   ]
  },
  {
   "cell_type": "code",
   "execution_count": 9,
   "id": "bfb8e359",
   "metadata": {},
   "outputs": [
    {
     "data": {
      "text/html": [
       "<div>\n",
       "<style scoped>\n",
       "    .dataframe tbody tr th:only-of-type {\n",
       "        vertical-align: middle;\n",
       "    }\n",
       "\n",
       "    .dataframe tbody tr th {\n",
       "        vertical-align: top;\n",
       "    }\n",
       "\n",
       "    .dataframe thead th {\n",
       "        text-align: right;\n",
       "    }\n",
       "</style>\n",
       "<table border=\"1\" class=\"dataframe\">\n",
       "  <thead>\n",
       "    <tr style=\"text-align: right;\">\n",
       "      <th></th>\n",
       "      <th>order_id</th>\n",
       "      <th>user_id</th>\n",
       "      <th>order_number</th>\n",
       "      <th>orders_day_of_week</th>\n",
       "      <th>order_hour_of_day</th>\n",
       "      <th>days_since_prior_order</th>\n",
       "      <th>first_order</th>\n",
       "      <th>product_id</th>\n",
       "      <th>add_to_cart_order</th>\n",
       "      <th>reordered</th>\n",
       "      <th>...</th>\n",
       "      <th>buying_freq</th>\n",
       "      <th>customer_freq</th>\n",
       "      <th>gender</th>\n",
       "      <th>state</th>\n",
       "      <th>age</th>\n",
       "      <th>date_joined</th>\n",
       "      <th>num_of_dependants</th>\n",
       "      <th>fam_status</th>\n",
       "      <th>income</th>\n",
       "      <th>region</th>\n",
       "    </tr>\n",
       "  </thead>\n",
       "  <tbody>\n",
       "    <tr>\n",
       "      <th>0</th>\n",
       "      <td>2539329</td>\n",
       "      <td>1</td>\n",
       "      <td>1</td>\n",
       "      <td>2</td>\n",
       "      <td>8</td>\n",
       "      <td>NaN</td>\n",
       "      <td>True</td>\n",
       "      <td>196</td>\n",
       "      <td>1</td>\n",
       "      <td>0</td>\n",
       "      <td>...</td>\n",
       "      <td>20.5</td>\n",
       "      <td>Non-frequent customer</td>\n",
       "      <td>Female</td>\n",
       "      <td>Alabama</td>\n",
       "      <td>31</td>\n",
       "      <td>2/17/2019</td>\n",
       "      <td>3</td>\n",
       "      <td>married</td>\n",
       "      <td>40423</td>\n",
       "      <td>South</td>\n",
       "    </tr>\n",
       "    <tr>\n",
       "      <th>1</th>\n",
       "      <td>2398795</td>\n",
       "      <td>1</td>\n",
       "      <td>2</td>\n",
       "      <td>3</td>\n",
       "      <td>7</td>\n",
       "      <td>15.0</td>\n",
       "      <td>False</td>\n",
       "      <td>196</td>\n",
       "      <td>1</td>\n",
       "      <td>1</td>\n",
       "      <td>...</td>\n",
       "      <td>20.5</td>\n",
       "      <td>Non-frequent customer</td>\n",
       "      <td>Female</td>\n",
       "      <td>Alabama</td>\n",
       "      <td>31</td>\n",
       "      <td>2/17/2019</td>\n",
       "      <td>3</td>\n",
       "      <td>married</td>\n",
       "      <td>40423</td>\n",
       "      <td>South</td>\n",
       "    </tr>\n",
       "    <tr>\n",
       "      <th>2</th>\n",
       "      <td>473747</td>\n",
       "      <td>1</td>\n",
       "      <td>3</td>\n",
       "      <td>3</td>\n",
       "      <td>12</td>\n",
       "      <td>21.0</td>\n",
       "      <td>False</td>\n",
       "      <td>196</td>\n",
       "      <td>1</td>\n",
       "      <td>1</td>\n",
       "      <td>...</td>\n",
       "      <td>20.5</td>\n",
       "      <td>Non-frequent customer</td>\n",
       "      <td>Female</td>\n",
       "      <td>Alabama</td>\n",
       "      <td>31</td>\n",
       "      <td>2/17/2019</td>\n",
       "      <td>3</td>\n",
       "      <td>married</td>\n",
       "      <td>40423</td>\n",
       "      <td>South</td>\n",
       "    </tr>\n",
       "    <tr>\n",
       "      <th>3</th>\n",
       "      <td>2254736</td>\n",
       "      <td>1</td>\n",
       "      <td>4</td>\n",
       "      <td>4</td>\n",
       "      <td>7</td>\n",
       "      <td>29.0</td>\n",
       "      <td>False</td>\n",
       "      <td>196</td>\n",
       "      <td>1</td>\n",
       "      <td>1</td>\n",
       "      <td>...</td>\n",
       "      <td>20.5</td>\n",
       "      <td>Non-frequent customer</td>\n",
       "      <td>Female</td>\n",
       "      <td>Alabama</td>\n",
       "      <td>31</td>\n",
       "      <td>2/17/2019</td>\n",
       "      <td>3</td>\n",
       "      <td>married</td>\n",
       "      <td>40423</td>\n",
       "      <td>South</td>\n",
       "    </tr>\n",
       "    <tr>\n",
       "      <th>4</th>\n",
       "      <td>431534</td>\n",
       "      <td>1</td>\n",
       "      <td>5</td>\n",
       "      <td>4</td>\n",
       "      <td>15</td>\n",
       "      <td>28.0</td>\n",
       "      <td>False</td>\n",
       "      <td>196</td>\n",
       "      <td>1</td>\n",
       "      <td>1</td>\n",
       "      <td>...</td>\n",
       "      <td>20.5</td>\n",
       "      <td>Non-frequent customer</td>\n",
       "      <td>Female</td>\n",
       "      <td>Alabama</td>\n",
       "      <td>31</td>\n",
       "      <td>2/17/2019</td>\n",
       "      <td>3</td>\n",
       "      <td>married</td>\n",
       "      <td>40423</td>\n",
       "      <td>South</td>\n",
       "    </tr>\n",
       "  </tbody>\n",
       "</table>\n",
       "<p>5 rows × 32 columns</p>\n",
       "</div>"
      ],
      "text/plain": [
       "   order_id user_id  order_number  orders_day_of_week  order_hour_of_day  \\\n",
       "0   2539329       1             1                   2                  8   \n",
       "1   2398795       1             2                   3                  7   \n",
       "2    473747       1             3                   3                 12   \n",
       "3   2254736       1             4                   4                  7   \n",
       "4    431534       1             5                   4                 15   \n",
       "\n",
       "   days_since_prior_order  first_order  product_id  add_to_cart_order  \\\n",
       "0                     NaN         True         196                  1   \n",
       "1                    15.0        False         196                  1   \n",
       "2                    21.0        False         196                  1   \n",
       "3                    29.0        False         196                  1   \n",
       "4                    28.0        False         196                  1   \n",
       "\n",
       "   reordered  ... buying_freq          customer_freq  gender    state age  \\\n",
       "0          0  ...        20.5  Non-frequent customer  Female  Alabama  31   \n",
       "1          1  ...        20.5  Non-frequent customer  Female  Alabama  31   \n",
       "2          1  ...        20.5  Non-frequent customer  Female  Alabama  31   \n",
       "3          1  ...        20.5  Non-frequent customer  Female  Alabama  31   \n",
       "4          1  ...        20.5  Non-frequent customer  Female  Alabama  31   \n",
       "\n",
       "  date_joined num_of_dependants fam_status  income region  \n",
       "0   2/17/2019                 3    married   40423  South  \n",
       "1   2/17/2019                 3    married   40423  South  \n",
       "2   2/17/2019                 3    married   40423  South  \n",
       "3   2/17/2019                 3    married   40423  South  \n",
       "4   2/17/2019                 3    married   40423  South  \n",
       "\n",
       "[5 rows x 32 columns]"
      ]
     },
     "execution_count": 9,
     "metadata": {},
     "output_type": "execute_result"
    }
   ],
   "source": [
    "#checking df header()\n",
    "\n",
    "ords_prods_cust_2.head()"
   ]
  },
  {
   "cell_type": "code",
   "execution_count": 9,
   "id": "9f7b992c",
   "metadata": {},
   "outputs": [
    {
     "data": {
      "text/plain": [
       "South        10791885\n",
       "West          9557733\n",
       "Midwest       6332505\n",
       "Northeast     5722736\n",
       "Name: region, dtype: int64"
      ]
     },
     "execution_count": 9,
     "metadata": {},
     "output_type": "execute_result"
    }
   ],
   "source": [
    "# Checking 'region' value counts\n",
    "\n",
    "ords_prods_cust_2['region'].value_counts(dropna = False)"
   ]
  },
  {
   "cell_type": "markdown",
   "id": "ec5e544d",
   "metadata": {},
   "source": [
    "# Checking spending habits in different regions"
   ]
  },
  {
   "cell_type": "code",
   "execution_count": 10,
   "id": "3605eb5a",
   "metadata": {},
   "outputs": [],
   "source": [
    "# Creating crosstab\n",
    "\n",
    "crosstab = pd.crosstab(ords_prods_cust_2['region'], ords_prods_cust_2['spending_habits'], dropna = False)"
   ]
  },
  {
   "cell_type": "code",
   "execution_count": 11,
   "id": "08589aca",
   "metadata": {},
   "outputs": [
    {
     "data": {
      "text/html": [
       "<div>\n",
       "<style scoped>\n",
       "    .dataframe tbody tr th:only-of-type {\n",
       "        vertical-align: middle;\n",
       "    }\n",
       "\n",
       "    .dataframe tbody tr th {\n",
       "        vertical-align: top;\n",
       "    }\n",
       "\n",
       "    .dataframe thead th {\n",
       "        text-align: right;\n",
       "    }\n",
       "</style>\n",
       "<table border=\"1\" class=\"dataframe\">\n",
       "  <thead>\n",
       "    <tr style=\"text-align: right;\">\n",
       "      <th>spending_habits</th>\n",
       "      <th>high spender</th>\n",
       "      <th>low spender</th>\n",
       "    </tr>\n",
       "    <tr>\n",
       "      <th>region</th>\n",
       "      <th></th>\n",
       "      <th></th>\n",
       "    </tr>\n",
       "  </thead>\n",
       "  <tbody>\n",
       "    <tr>\n",
       "      <th>Midwest</th>\n",
       "      <td>127656</td>\n",
       "      <td>6204849</td>\n",
       "    </tr>\n",
       "    <tr>\n",
       "      <th>Northeast</th>\n",
       "      <td>108225</td>\n",
       "      <td>5614511</td>\n",
       "    </tr>\n",
       "    <tr>\n",
       "      <th>South</th>\n",
       "      <td>209691</td>\n",
       "      <td>10582194</td>\n",
       "    </tr>\n",
       "    <tr>\n",
       "      <th>West</th>\n",
       "      <td>188673</td>\n",
       "      <td>9369060</td>\n",
       "    </tr>\n",
       "  </tbody>\n",
       "</table>\n",
       "</div>"
      ],
      "text/plain": [
       "spending_habits  high spender  low spender\n",
       "region                                    \n",
       "Midwest                127656      6204849\n",
       "Northeast              108225      5614511\n",
       "South                  209691     10582194\n",
       "West                   188673      9369060"
      ]
     },
     "execution_count": 11,
     "metadata": {},
     "output_type": "execute_result"
    }
   ],
   "source": [
    "crosstab"
   ]
  },
  {
   "cell_type": "code",
   "execution_count": 12,
   "id": "d845719b",
   "metadata": {},
   "outputs": [],
   "source": [
    "# High spender percentages by region\n",
    "\n",
    "Midwest = (127656/(127656+6204849))*100\n",
    "Northeast = (108225/(108225+5614511))*100\n",
    "South = (209691/(209691+10582194))*100\n",
    "West = (188673/(188673+9369060))*100"
   ]
  },
  {
   "cell_type": "code",
   "execution_count": 13,
   "id": "3a67720e",
   "metadata": {},
   "outputs": [
    {
     "data": {
      "text/plain": [
       "(2.0158847091316945,\n",
       " 1.8911408808653762,\n",
       " 1.9430433144904713,\n",
       " 1.9740350562209679)"
      ]
     },
     "execution_count": 13,
     "metadata": {},
     "output_type": "execute_result"
    }
   ],
   "source": [
    "# Percentage results\n",
    "\n",
    "Midwest, Northeast, South, West"
   ]
  },
  {
   "cell_type": "markdown",
   "id": "5247ca2a",
   "metadata": {},
   "source": [
    "There are not significant spending differences between the regions, south had the largest number of high and low spenders\n",
    "The midwest had the highest percentage of high spenders."
   ]
  },
  {
   "cell_type": "markdown",
   "id": "c4ea217e",
   "metadata": {},
   "source": [
    "# Excluding low activity customers"
   ]
  },
  {
   "cell_type": "code",
   "execution_count": 10,
   "id": "e749d61a",
   "metadata": {},
   "outputs": [],
   "source": [
    "# Creating low-activity flag - customers w/ less than 5 orders\n",
    "\n",
    "ords_prods_cust_2.loc[ords_prods_cust_2['max_order'] < 5, 'activity_flag'] = 'Low activity'"
   ]
  },
  {
   "cell_type": "code",
   "execution_count": 11,
   "id": "d483969d",
   "metadata": {},
   "outputs": [],
   "source": [
    "# Creating low-activity flag - customers w/ more than 5 orders\n",
    "\n",
    "ords_prods_cust_2.loc[ords_prods_cust_2['max_order'] >= 5, 'activity_flag'] = 'Normal activity'"
   ]
  },
  {
   "cell_type": "code",
   "execution_count": 17,
   "id": "092a76b8",
   "metadata": {},
   "outputs": [
    {
     "data": {
      "text/plain": [
       "Normal activity    30964564\n",
       "Low activity        1440295\n",
       "Name: activity_flag, dtype: int64"
      ]
     },
     "execution_count": 17,
     "metadata": {},
     "output_type": "execute_result"
    }
   ],
   "source": [
    "# Checking values under 'activity_flag' column\n",
    "\n",
    "ords_prods_cust_2['activity_flag'].value_counts(dropna = False)"
   ]
  },
  {
   "cell_type": "code",
   "execution_count": 19,
   "id": "9e9a4a4e",
   "metadata": {},
   "outputs": [],
   "source": [
    "# Creating df with only 'Low activity' customers\n",
    "\n",
    "ords_prods_low_activity_cust = ords_prods_cust_2[ords_prods_cust_2['activity_flag']=='Low activity']\n"
   ]
  },
  {
   "cell_type": "code",
   "execution_count": 21,
   "id": "4256cbd5",
   "metadata": {},
   "outputs": [
    {
     "data": {
      "text/plain": [
       "4    753543\n",
       "3    686741\n",
       "2         6\n",
       "1         5\n",
       "Name: max_order, dtype: int64"
      ]
     },
     "execution_count": 21,
     "metadata": {},
     "output_type": "execute_result"
    }
   ],
   "source": [
    "# Checking 'max_order' value count of low activity df\n",
    "\n",
    "ords_prods_low_activity_cust['max_order'].value_counts(dropna = False)"
   ]
  },
  {
   "cell_type": "markdown",
   "id": "0257b3d0",
   "metadata": {},
   "source": [
    "total of 1,440,295 users with less than 5 orders"
   ]
  },
  {
   "cell_type": "code",
   "execution_count": 12,
   "id": "8fcb4bdb",
   "metadata": {},
   "outputs": [],
   "source": [
    "\n",
    "# Creating df with 'Normal activity' customers\n",
    "\n",
    "ords_prods_norm_activity_cust = ords_prods_cust_2[ords_prods_cust_2['activity_flag']=='Normal activity']"
   ]
  },
  {
   "cell_type": "code",
   "execution_count": 13,
   "id": "728923ec",
   "metadata": {},
   "outputs": [],
   "source": [
    "# Exporting dataframe containing normal activity customers\n",
    "\n",
    "ords_prods_norm_activity_cust.to_pickle(os.path.join(path,'02 Data','Prepared Data','ords_prods_normal_activity_cust.pkl'))"
   ]
  },
  {
   "cell_type": "markdown",
   "id": "d1357c9f",
   "metadata": {},
   "source": [
    "# Customer profiling"
   ]
  },
  {
   "cell_type": "code",
   "execution_count": 24,
   "id": "4326740b",
   "metadata": {},
   "outputs": [
    {
     "data": {
      "text/html": [
       "<div>\n",
       "<style scoped>\n",
       "    .dataframe tbody tr th:only-of-type {\n",
       "        vertical-align: middle;\n",
       "    }\n",
       "\n",
       "    .dataframe tbody tr th {\n",
       "        vertical-align: top;\n",
       "    }\n",
       "\n",
       "    .dataframe thead th {\n",
       "        text-align: right;\n",
       "    }\n",
       "</style>\n",
       "<table border=\"1\" class=\"dataframe\">\n",
       "  <thead>\n",
       "    <tr style=\"text-align: right;\">\n",
       "      <th></th>\n",
       "      <th>order_id</th>\n",
       "      <th>user_id</th>\n",
       "      <th>order_number</th>\n",
       "      <th>orders_day_of_week</th>\n",
       "      <th>order_hour_of_day</th>\n",
       "      <th>days_since_prior_order</th>\n",
       "      <th>first_order</th>\n",
       "      <th>product_id</th>\n",
       "      <th>add_to_cart_order</th>\n",
       "      <th>reordered</th>\n",
       "      <th>...</th>\n",
       "      <th>customer_freq</th>\n",
       "      <th>Gender</th>\n",
       "      <th>STATE</th>\n",
       "      <th>Age</th>\n",
       "      <th>date_joined</th>\n",
       "      <th>num_of_dependants</th>\n",
       "      <th>fam_status</th>\n",
       "      <th>income</th>\n",
       "      <th>region</th>\n",
       "      <th>activity_flag</th>\n",
       "    </tr>\n",
       "  </thead>\n",
       "  <tbody>\n",
       "    <tr>\n",
       "      <th>0</th>\n",
       "      <td>2539329</td>\n",
       "      <td>1</td>\n",
       "      <td>1</td>\n",
       "      <td>2</td>\n",
       "      <td>8</td>\n",
       "      <td>NaN</td>\n",
       "      <td>True</td>\n",
       "      <td>196</td>\n",
       "      <td>1</td>\n",
       "      <td>0</td>\n",
       "      <td>...</td>\n",
       "      <td>Non-frequent customer</td>\n",
       "      <td>Female</td>\n",
       "      <td>Alabama</td>\n",
       "      <td>31</td>\n",
       "      <td>2/17/2019</td>\n",
       "      <td>3</td>\n",
       "      <td>married</td>\n",
       "      <td>40423</td>\n",
       "      <td>South</td>\n",
       "      <td>Normal activity</td>\n",
       "    </tr>\n",
       "  </tbody>\n",
       "</table>\n",
       "<p>1 rows × 33 columns</p>\n",
       "</div>"
      ],
      "text/plain": [
       "   order_id user_id  order_number  orders_day_of_week  order_hour_of_day  \\\n",
       "0   2539329       1             1                   2                  8   \n",
       "\n",
       "   days_since_prior_order  first_order  product_id  add_to_cart_order  \\\n",
       "0                     NaN         True         196                  1   \n",
       "\n",
       "   reordered  ...          customer_freq  Gender    STATE  Age date_joined  \\\n",
       "0          0  ...  Non-frequent customer  Female  Alabama   31   2/17/2019   \n",
       "\n",
       "  num_of_dependants fam_status income  region    activity_flag  \n",
       "0                 3    married  40423   South  Normal activity  \n",
       "\n",
       "[1 rows x 33 columns]"
      ]
     },
     "execution_count": 24,
     "metadata": {},
     "output_type": "execute_result"
    }
   ],
   "source": [
    "# Checking headers\n",
    "\n",
    "ords_prods_cust_2.head(1)"
   ]
  },
  {
   "cell_type": "code",
   "execution_count": 27,
   "id": "5d13fa34",
   "metadata": {},
   "outputs": [
    {
     "data": {
      "text/plain": [
       "18    500474\n",
       "19    519606\n",
       "20    502848\n",
       "21    512527\n",
       "22    513853\n",
       "       ...  \n",
       "77    502120\n",
       "78    495311\n",
       "79    529742\n",
       "80    515246\n",
       "81    509284\n",
       "Name: Age, Length: 64, dtype: int64"
      ]
     },
     "execution_count": 27,
     "metadata": {},
     "output_type": "execute_result"
    }
   ],
   "source": [
    "# Checking age range of customers\n",
    "\n",
    "ords_prods_cust_2['age'].value_counts().sort_index()"
   ]
  },
  {
   "cell_type": "code",
   "execution_count": 14,
   "id": "69b40cf4",
   "metadata": {},
   "outputs": [],
   "source": [
    "# Classifying age groups using the if-statement w/ for-loops\n",
    "\n",
    "generation = []\n",
    "\n",
    "for value in ords_prods_cust_2['age']:\n",
    "    if (value >=18) and (value <=25):\n",
    "        generation.append('Gen Z 18-25')\n",
    "    elif (value >=26) and (value <=41):\n",
    "        generation.append('Millennials 26-41')\n",
    "    elif (value >=42) and (value <=57):\n",
    "        generation.append('Gen X 42-57')\n",
    "    elif (value >=58) and (value<=76):\n",
    "        generation.append('Baby Boomers 58-76')\n",
    "    else:\n",
    "        generation.append('Silent Generation >76')\n",
    "        "
   ]
  },
  {
   "cell_type": "code",
   "execution_count": 15,
   "id": "67584363",
   "metadata": {},
   "outputs": [],
   "source": [
    "# Adding 'generation' column with results from generation list\n",
    "\n",
    "ords_prods_cust_2['generation'] = generation"
   ]
  },
  {
   "cell_type": "code",
   "execution_count": 30,
   "id": "576a0936",
   "metadata": {},
   "outputs": [
    {
     "data": {
      "text/plain": [
       "Baby Boomers 58-76       9520639\n",
       "Gen X 42-57              8187246\n",
       "Millennials 26-41        8100082\n",
       "Gen Z 18-25              4045189\n",
       "Silent Generation >76    2551703\n",
       "Name: generation, dtype: int64"
      ]
     },
     "execution_count": 30,
     "metadata": {},
     "output_type": "execute_result"
    }
   ],
   "source": [
    "# Check value counts of 'generation' column\n",
    "\n",
    "ords_prods_cust_2['generation'].value_counts(dropna = False)"
   ]
  },
  {
   "cell_type": "markdown",
   "id": "afca881a",
   "metadata": {},
   "source": [
    "# classifying income"
   ]
  },
  {
   "cell_type": "code",
   "execution_count": 32,
   "id": "8728bdcd",
   "metadata": {},
   "outputs": [
    {
     "data": {
      "text/plain": [
       "25903      20\n",
       "25911      28\n",
       "25937      39\n",
       "25941      31\n",
       "25955     392\n",
       "         ... \n",
       "584097    826\n",
       "590790     54\n",
       "591089    176\n",
       "592409    318\n",
       "593901    640\n",
       "Name: income, Length: 108012, dtype: int64"
      ]
     },
     "execution_count": 32,
     "metadata": {},
     "output_type": "execute_result"
    }
   ],
   "source": [
    "# Checking income range of customers\n",
    "\n",
    "ords_prods_cust_2['income'].value_counts().sort_index()"
   ]
  },
  {
   "cell_type": "code",
   "execution_count": 16,
   "id": "9480ed91",
   "metadata": {},
   "outputs": [],
   "source": [
    "# Classifying income groups using if-statement w/ for-loops\n",
    "\n",
    "income_group = []\n",
    "\n",
    "for value in ords_prods_cust_2['income']:\n",
    "    if (value < 32000):\n",
    "        income_group.append('Lower class <32K')\n",
    "    elif (value >= 32000) and (value <= 53000):\n",
    "        income_group.append('Lower-middle class 32K-53K')\n",
    "    elif (value > 53000) and (value <= 107000):\n",
    "        income_group.append('Middle class 53K-107K')\n",
    "    elif (value > 107000) and (value <=374000):\n",
    "        income_group.append('Upper middle class 107K-374K')\n",
    "    else:\n",
    "        income_group.append('Upper class >374K')\n",
    "    "
   ]
  },
  {
   "cell_type": "code",
   "execution_count": 17,
   "id": "064105c8",
   "metadata": {},
   "outputs": [],
   "source": [
    "# Adding 'income_group' column with results from income_group list\n",
    "\n",
    "ords_prods_cust_2['income_group'] = income_group"
   ]
  },
  {
   "cell_type": "code",
   "execution_count": 36,
   "id": "10e9cf7a",
   "metadata": {
    "scrolled": true
   },
   "outputs": [
    {
     "data": {
      "text/plain": [
       "Middle class 53K-107K           15403902\n",
       "Upper middle class 107K-374K    12772553\n",
       "Lower-middle class 32K-53K       3651538\n",
       "Lower class <32K                  517878\n",
       "Upper class >374K                  58988\n",
       "Name: income_group, dtype: int64"
      ]
     },
     "execution_count": 36,
     "metadata": {},
     "output_type": "execute_result"
    }
   ],
   "source": [
    "ords_prods_cust_2['income_group'].value_counts(dropna = False)"
   ]
  },
  {
   "cell_type": "markdown",
   "id": "af4a54ff",
   "metadata": {},
   "source": [
    "Parent status based on dependents "
   ]
  },
  {
   "cell_type": "code",
   "execution_count": 38,
   "id": "b07f4edf",
   "metadata": {},
   "outputs": [
    {
     "data": {
      "text/plain": [
       "3    8135109\n",
       "0    8097503\n",
       "2    8091143\n",
       "1    8081104\n",
       "Name: num_of_dependants, dtype: int64"
      ]
     },
     "execution_count": 38,
     "metadata": {},
     "output_type": "execute_result"
    }
   ],
   "source": [
    "# Checking number of dependants\n",
    "\n",
    "ords_prods_cust_2['num_of_dependants'].value_counts(dropna = False)"
   ]
  },
  {
   "cell_type": "code",
   "execution_count": 18,
   "id": "061be625",
   "metadata": {},
   "outputs": [],
   "source": [
    "# Classifying customers as parent/non-parent based on 'number_of_depedants' using loc() function\n",
    "\n",
    "ords_prods_cust_2.loc[ords_prods_cust_2['num_of_dependants'] == 0, 'parent_status'] = 'Non-parent'\n",
    "ords_prods_cust_2.loc[ords_prods_cust_2['num_of_dependants'] >= 1, 'parent_status'] = 'Parent'"
   ]
  },
  {
   "cell_type": "code",
   "execution_count": 42,
   "id": "b7ea3b78",
   "metadata": {},
   "outputs": [
    {
     "data": {
      "text/plain": [
       "Parent        24307356\n",
       "Non-parent     8097503\n",
       "Name: parent_status, dtype: int64"
      ]
     },
     "execution_count": 42,
     "metadata": {},
     "output_type": "execute_result"
    }
   ],
   "source": [
    "# Checking values for 'parent_status' column\n",
    "\n",
    "ords_prods_cust_2['parent_status'].value_counts(dropna = False)"
   ]
  },
  {
   "cell_type": "code",
   "execution_count": 19,
   "id": "dad83f91",
   "metadata": {},
   "outputs": [
    {
     "data": {
      "text/html": [
       "<div>\n",
       "<style scoped>\n",
       "    .dataframe tbody tr th:only-of-type {\n",
       "        vertical-align: middle;\n",
       "    }\n",
       "\n",
       "    .dataframe tbody tr th {\n",
       "        vertical-align: top;\n",
       "    }\n",
       "\n",
       "    .dataframe thead th {\n",
       "        text-align: right;\n",
       "    }\n",
       "</style>\n",
       "<table border=\"1\" class=\"dataframe\">\n",
       "  <thead>\n",
       "    <tr style=\"text-align: right;\">\n",
       "      <th></th>\n",
       "      <th>order_id</th>\n",
       "      <th>user_id</th>\n",
       "      <th>order_number</th>\n",
       "      <th>orders_day_of_week</th>\n",
       "      <th>order_hour_of_day</th>\n",
       "      <th>days_since_prior_order</th>\n",
       "      <th>first_order</th>\n",
       "      <th>product_id</th>\n",
       "      <th>add_to_cart_order</th>\n",
       "      <th>reordered</th>\n",
       "      <th>...</th>\n",
       "      <th>age</th>\n",
       "      <th>date_joined</th>\n",
       "      <th>num_of_dependants</th>\n",
       "      <th>fam_status</th>\n",
       "      <th>income</th>\n",
       "      <th>region</th>\n",
       "      <th>activity_flag</th>\n",
       "      <th>generation</th>\n",
       "      <th>income_group</th>\n",
       "      <th>parent_status</th>\n",
       "    </tr>\n",
       "  </thead>\n",
       "  <tbody>\n",
       "    <tr>\n",
       "      <th>0</th>\n",
       "      <td>2539329</td>\n",
       "      <td>1</td>\n",
       "      <td>1</td>\n",
       "      <td>2</td>\n",
       "      <td>8</td>\n",
       "      <td>NaN</td>\n",
       "      <td>True</td>\n",
       "      <td>196</td>\n",
       "      <td>1</td>\n",
       "      <td>0</td>\n",
       "      <td>...</td>\n",
       "      <td>31</td>\n",
       "      <td>2/17/2019</td>\n",
       "      <td>3</td>\n",
       "      <td>married</td>\n",
       "      <td>40423</td>\n",
       "      <td>South</td>\n",
       "      <td>Normal activity</td>\n",
       "      <td>Millennials 26-41</td>\n",
       "      <td>Lower-middle class 32K-53K</td>\n",
       "      <td>Parent</td>\n",
       "    </tr>\n",
       "  </tbody>\n",
       "</table>\n",
       "<p>1 rows × 36 columns</p>\n",
       "</div>"
      ],
      "text/plain": [
       "   order_id user_id  order_number  orders_day_of_week  order_hour_of_day  \\\n",
       "0   2539329       1             1                   2                  8   \n",
       "\n",
       "   days_since_prior_order  first_order  product_id  add_to_cart_order  \\\n",
       "0                     NaN         True         196                  1   \n",
       "\n",
       "   reordered  ... age  date_joined  num_of_dependants  fam_status income  \\\n",
       "0          0  ...  31    2/17/2019                  3     married  40423   \n",
       "\n",
       "  region    activity_flag         generation                income_group  \\\n",
       "0  South  Normal activity  Millennials 26-41  Lower-middle class 32K-53K   \n",
       "\n",
       "  parent_status  \n",
       "0        Parent  \n",
       "\n",
       "[1 rows x 36 columns]"
      ]
     },
     "execution_count": 19,
     "metadata": {},
     "output_type": "execute_result"
    }
   ],
   "source": [
    "# Checking columns\n",
    "\n",
    "ords_prods_cust_2.head(1)"
   ]
  },
  {
   "cell_type": "code",
   "execution_count": null,
   "id": "913e3547",
   "metadata": {},
   "outputs": [],
   "source": [
    "#listing out name of week day"
   ]
  },
  {
   "cell_type": "code",
   "execution_count": 20,
   "id": "6e2652bc",
   "metadata": {},
   "outputs": [],
   "source": [
    "# Creating weekday column based on 'orders_day_of_the_week'\n",
    "\n",
    "ords_prods_cust_2.loc[ords_prods_cust_2['orders_day_of_week'] == 0, 'weekday'] = 'Saturday'\n",
    "ords_prods_cust_2.loc[ords_prods_cust_2['orders_day_of_week'] == 1, 'weekday'] = 'Sunday'\n",
    "ords_prods_cust_2.loc[ords_prods_cust_2['orders_day_of_week'] == 2, 'weekday'] = 'Monday'\n",
    "ords_prods_cust_2.loc[ords_prods_cust_2['orders_day_of_week'] == 3, 'weekday'] = 'Tuesday'\n",
    "ords_prods_cust_2.loc[ords_prods_cust_2['orders_day_of_week'] == 4, 'weekday'] = 'Wednesday'\n",
    "ords_prods_cust_2.loc[ords_prods_cust_2['orders_day_of_week'] == 5, 'weekday'] = 'Thursday'\n",
    "ords_prods_cust_2.loc[ords_prods_cust_2['orders_day_of_week'] == 6, 'weekday'] = 'Friday'"
   ]
  },
  {
   "cell_type": "code",
   "execution_count": 47,
   "id": "16e7454d",
   "metadata": {},
   "outputs": [
    {
     "data": {
      "text/plain": [
       "Saturday     6204182\n",
       "Sunday       5660230\n",
       "Friday       4496490\n",
       "Monday       4213830\n",
       "Thursday     4205791\n",
       "Tuesday      3840534\n",
       "Wednesday    3783802\n",
       "Name: weekday, dtype: int64"
      ]
     },
     "execution_count": 47,
     "metadata": {},
     "output_type": "execute_result"
    }
   ],
   "source": [
    "# Checking values for 'weekday'\n",
    "\n",
    "ords_prods_cust_2['weekday'].value_counts(dropna = False)"
   ]
  },
  {
   "cell_type": "markdown",
   "id": "69c09b4b",
   "metadata": {},
   "source": [
    "# listing out department names"
   ]
  },
  {
   "cell_type": "code",
   "execution_count": 21,
   "id": "6fdab08d",
   "metadata": {},
   "outputs": [],
   "source": [
    "# Creating department_name column based on department_id\n",
    "\n",
    "ords_prods_cust_2.loc[ords_prods_cust_2['department_id'] == 1, 'department_name'] = 'Frozen'\n",
    "ords_prods_cust_2.loc[ords_prods_cust_2['department_id'] == 2, 'department_name'] = 'Other'\n",
    "ords_prods_cust_2.loc[ords_prods_cust_2['department_id'] == 3, 'department_name'] = 'Bakery'\n",
    "ords_prods_cust_2.loc[ords_prods_cust_2['department_id'] == 4, 'department_name'] = 'Produce'\n",
    "ords_prods_cust_2.loc[ords_prods_cust_2['department_id'] == 5, 'department_name'] = 'Alcohol'\n",
    "ords_prods_cust_2.loc[ords_prods_cust_2['department_id'] == 6, 'department_name'] = 'International'\n",
    "ords_prods_cust_2.loc[ords_prods_cust_2['department_id'] == 7, 'department_name'] = 'Beverages'\n",
    "ords_prods_cust_2.loc[ords_prods_cust_2['department_id'] == 8, 'department_name'] = 'Pets'\n",
    "ords_prods_cust_2.loc[ords_prods_cust_2['department_id'] == 9, 'department_name'] = 'Dry goods'\n",
    "ords_prods_cust_2.loc[ords_prods_cust_2['department_id'] == 10, 'department_name'] = 'Bulk'\n",
    "ords_prods_cust_2.loc[ords_prods_cust_2['department_id'] == 11, 'department_name'] = 'Personal care'\n",
    "ords_prods_cust_2.loc[ords_prods_cust_2['department_id'] == 12, 'department_name'] = 'Meat seafood'\n",
    "ords_prods_cust_2.loc[ords_prods_cust_2['department_id'] == 13, 'department_name'] = 'Pantry'\n",
    "ords_prods_cust_2.loc[ords_prods_cust_2['department_id'] == 14, 'department_name'] = 'Breakfast'\n",
    "ords_prods_cust_2.loc[ords_prods_cust_2['department_id'] == 15, 'department_name'] = 'Canned goods'\n",
    "ords_prods_cust_2.loc[ords_prods_cust_2['department_id'] == 16, 'department_name'] = 'Dairy Eggs'\n",
    "ords_prods_cust_2.loc[ords_prods_cust_2['department_id'] == 17, 'department_name'] = 'Household'\n",
    "ords_prods_cust_2.loc[ords_prods_cust_2['department_id'] == 18, 'department_name'] = 'Babies'\n",
    "ords_prods_cust_2.loc[ords_prods_cust_2['department_id'] == 19, 'department_name'] = 'Snacks'\n",
    "ords_prods_cust_2.loc[ords_prods_cust_2['department_id'] == 20, 'department_name'] = 'Deli'\n",
    "ords_prods_cust_2.loc[ords_prods_cust_2['department_id'] == 21, 'department_name'] = 'Missing'"
   ]
  },
  {
   "cell_type": "code",
   "execution_count": 50,
   "id": "cc78d159",
   "metadata": {},
   "outputs": [
    {
     "data": {
      "text/plain": [
       "Produce          9479291\n",
       "Dairy Eggs       5398747\n",
       "Snacks           2887550\n",
       "Beverages        2688123\n",
       "Frozen           2234743\n",
       "Pantry           1875369\n",
       "Bakery           1172428\n",
       "Canned goods     1068058\n",
       "Deli             1051249\n",
       "Dry goods         866627\n",
       "Household         738666\n",
       "Meat seafood      708927\n",
       "Breakfast         703033\n",
       "Personal care     447572\n",
       "Babies            423802\n",
       "International     269253\n",
       "Alcohol           153696\n",
       "Pets               97716\n",
       "Missing            69145\n",
       "Other              36291\n",
       "Bulk               34573\n",
       "Name: department_name, dtype: int64"
      ]
     },
     "execution_count": 50,
     "metadata": {},
     "output_type": "execute_result"
    }
   ],
   "source": [
    "# Checking values for 'department_name'\n",
    "\n",
    "ords_prods_cust_2['department_name'].value_counts(dropna = False)"
   ]
  },
  {
   "cell_type": "code",
   "execution_count": 24,
   "id": "ba3a7674",
   "metadata": {},
   "outputs": [
    {
     "data": {
      "text/plain": [
       "order_id                        0\n",
       "user_id                         0\n",
       "order_number                    0\n",
       "orders_day_of_week              0\n",
       "order_hour_of_day               0\n",
       "days_since_prior_order    2076096\n",
       "first_order                     0\n",
       "product_id                      0\n",
       "add_to_cart_order               0\n",
       "reordered                       0\n",
       "product_name                    0\n",
       "aisle_id                        0\n",
       "department_id                   0\n",
       "prices                       5127\n",
       "_merge                          0\n",
       "price_range_loc                 0\n",
       "Busiest day                     0\n",
       "Busiest Hours                   0\n",
       "max_order                       0\n",
       "loyalty_flag                    0\n",
       "avg_spending                    0\n",
       "spending_habits                 0\n",
       "buying_freq                     5\n",
       "customer_freq                   5\n",
       "gender                          0\n",
       "state                           0\n",
       "age                             0\n",
       "date_joined                     0\n",
       "num_of_dependants               0\n",
       "fam_status                      0\n",
       "income                          0\n",
       "region                          0\n",
       "activity_flag                   0\n",
       "generation                      0\n",
       "income_group                    0\n",
       "parent_status                   0\n",
       "weekday                         0\n",
       "department_name                 0\n",
       "dtype: int64"
      ]
     },
     "execution_count": 24,
     "metadata": {},
     "output_type": "execute_result"
    }
   ],
   "source": [
    "# Checking headers\n",
    "\n",
    "ords_prods_cust_2.isnull().sum()"
   ]
  },
  {
   "cell_type": "code",
   "execution_count": 55,
   "id": "a96d3c5e",
   "metadata": {},
   "outputs": [
    {
     "ename": "KeyboardInterrupt",
     "evalue": "",
     "output_type": "error",
     "traceback": [
      "\u001b[1;31m---------------------------------------------------------------------------\u001b[0m",
      "\u001b[1;31mKeyboardInterrupt\u001b[0m                         Traceback (most recent call last)",
      "\u001b[1;32m~\\anaconda3\\lib\\site-packages\\pandas\\io\\pickle.py\u001b[0m in \u001b[0;36mto_pickle\u001b[1;34m(obj, filepath_or_buffer, compression, protocol, storage_options)\u001b[0m\n\u001b[0;32m    112\u001b[0m             \u001b[1;31m# letting pickle write directly to the buffer is more memory-efficient\u001b[0m\u001b[1;33m\u001b[0m\u001b[1;33m\u001b[0m\u001b[0m\n\u001b[1;32m--> 113\u001b[1;33m             pickle.dump(\n\u001b[0m\u001b[0;32m    114\u001b[0m                 \u001b[1;31m# error: Argument 2 to \"dump\" has incompatible type \"Union[IO[Any],\u001b[0m\u001b[1;33m\u001b[0m\u001b[1;33m\u001b[0m\u001b[0m\n",
      "\u001b[1;31mKeyboardInterrupt\u001b[0m: ",
      "\nDuring handling of the above exception, another exception occurred:\n",
      "\u001b[1;31mKeyboardInterrupt\u001b[0m                         Traceback (most recent call last)",
      "\u001b[1;32m~\\AppData\\Local\\Temp/ipykernel_12940/104384896.py\u001b[0m in \u001b[0;36m<module>\u001b[1;34m\u001b[0m\n\u001b[0;32m      1\u001b[0m \u001b[1;31m# Exporting current df as csv file. Computer had issues trying to export as pickle file\u001b[0m\u001b[1;33m\u001b[0m\u001b[1;33m\u001b[0m\u001b[0m\n\u001b[0;32m      2\u001b[0m \u001b[1;33m\u001b[0m\u001b[0m\n\u001b[1;32m----> 3\u001b[1;33m \u001b[0mords_prods_cust_2\u001b[0m\u001b[1;33m.\u001b[0m\u001b[0mto_pickle\u001b[0m\u001b[1;33m(\u001b[0m\u001b[0mos\u001b[0m\u001b[1;33m.\u001b[0m\u001b[0mpath\u001b[0m\u001b[1;33m.\u001b[0m\u001b[0mjoin\u001b[0m\u001b[1;33m(\u001b[0m\u001b[0mpath\u001b[0m\u001b[1;33m,\u001b[0m \u001b[1;34m'02 Data'\u001b[0m\u001b[1;33m,\u001b[0m\u001b[1;34m'Prepared data'\u001b[0m\u001b[1;33m,\u001b[0m \u001b[1;34m'ords_prods_custs_merged_2.pkl'\u001b[0m\u001b[1;33m)\u001b[0m\u001b[1;33m)\u001b[0m\u001b[1;33m\u001b[0m\u001b[1;33m\u001b[0m\u001b[0m\n\u001b[0m",
      "\u001b[1;32m~\\anaconda3\\lib\\site-packages\\pandas\\core\\generic.py\u001b[0m in \u001b[0;36mto_pickle\u001b[1;34m(self, path, compression, protocol, storage_options)\u001b[0m\n\u001b[0;32m   2955\u001b[0m         \u001b[1;32mfrom\u001b[0m \u001b[0mpandas\u001b[0m\u001b[1;33m.\u001b[0m\u001b[0mio\u001b[0m\u001b[1;33m.\u001b[0m\u001b[0mpickle\u001b[0m \u001b[1;32mimport\u001b[0m \u001b[0mto_pickle\u001b[0m\u001b[1;33m\u001b[0m\u001b[1;33m\u001b[0m\u001b[0m\n\u001b[0;32m   2956\u001b[0m \u001b[1;33m\u001b[0m\u001b[0m\n\u001b[1;32m-> 2957\u001b[1;33m         to_pickle(\n\u001b[0m\u001b[0;32m   2958\u001b[0m             \u001b[0mself\u001b[0m\u001b[1;33m,\u001b[0m\u001b[1;33m\u001b[0m\u001b[1;33m\u001b[0m\u001b[0m\n\u001b[0;32m   2959\u001b[0m             \u001b[0mpath\u001b[0m\u001b[1;33m,\u001b[0m\u001b[1;33m\u001b[0m\u001b[1;33m\u001b[0m\u001b[0m\n",
      "\u001b[1;32m~\\anaconda3\\lib\\site-packages\\pandas\\io\\pickle.py\u001b[0m in \u001b[0;36mto_pickle\u001b[1;34m(obj, filepath_or_buffer, compression, protocol, storage_options)\u001b[0m\n\u001b[0;32m    111\u001b[0m         \u001b[1;32melse\u001b[0m\u001b[1;33m:\u001b[0m\u001b[1;33m\u001b[0m\u001b[1;33m\u001b[0m\u001b[0m\n\u001b[0;32m    112\u001b[0m             \u001b[1;31m# letting pickle write directly to the buffer is more memory-efficient\u001b[0m\u001b[1;33m\u001b[0m\u001b[1;33m\u001b[0m\u001b[0m\n\u001b[1;32m--> 113\u001b[1;33m             pickle.dump(\n\u001b[0m\u001b[0;32m    114\u001b[0m                 \u001b[1;31m# error: Argument 2 to \"dump\" has incompatible type \"Union[IO[Any],\u001b[0m\u001b[1;33m\u001b[0m\u001b[1;33m\u001b[0m\u001b[0m\n\u001b[0;32m    115\u001b[0m                 \u001b[1;31m# RawIOBase, BufferedIOBase, TextIOBase, TextIOWrapper, mmap]\"; expected\u001b[0m\u001b[1;33m\u001b[0m\u001b[1;33m\u001b[0m\u001b[0m\n",
      "\u001b[1;32m~\\anaconda3\\lib\\site-packages\\pandas\\io\\common.py\u001b[0m in \u001b[0;36m__exit__\u001b[1;34m(self, *args)\u001b[0m\n\u001b[0;32m    120\u001b[0m \u001b[1;33m\u001b[0m\u001b[0m\n\u001b[0;32m    121\u001b[0m     \u001b[1;32mdef\u001b[0m \u001b[0m__exit__\u001b[0m\u001b[1;33m(\u001b[0m\u001b[0mself\u001b[0m\u001b[1;33m,\u001b[0m \u001b[1;33m*\u001b[0m\u001b[0margs\u001b[0m\u001b[1;33m:\u001b[0m \u001b[0mAny\u001b[0m\u001b[1;33m)\u001b[0m \u001b[1;33m->\u001b[0m \u001b[1;32mNone\u001b[0m\u001b[1;33m:\u001b[0m\u001b[1;33m\u001b[0m\u001b[1;33m\u001b[0m\u001b[0m\n\u001b[1;32m--> 122\u001b[1;33m         \u001b[0mself\u001b[0m\u001b[1;33m.\u001b[0m\u001b[0mclose\u001b[0m\u001b[1;33m(\u001b[0m\u001b[1;33m)\u001b[0m\u001b[1;33m\u001b[0m\u001b[1;33m\u001b[0m\u001b[0m\n\u001b[0m\u001b[0;32m    123\u001b[0m \u001b[1;33m\u001b[0m\u001b[0m\n\u001b[0;32m    124\u001b[0m \u001b[1;33m\u001b[0m\u001b[0m\n",
      "\u001b[1;32m~\\anaconda3\\lib\\site-packages\\pandas\\io\\common.py\u001b[0m in \u001b[0;36mclose\u001b[1;34m(self)\u001b[0m\n\u001b[0;32m    110\u001b[0m         \u001b[1;32mtry\u001b[0m\u001b[1;33m:\u001b[0m\u001b[1;33m\u001b[0m\u001b[1;33m\u001b[0m\u001b[0m\n\u001b[0;32m    111\u001b[0m             \u001b[1;32mfor\u001b[0m \u001b[0mhandle\u001b[0m \u001b[1;32min\u001b[0m \u001b[0mself\u001b[0m\u001b[1;33m.\u001b[0m\u001b[0mcreated_handles\u001b[0m\u001b[1;33m:\u001b[0m\u001b[1;33m\u001b[0m\u001b[1;33m\u001b[0m\u001b[0m\n\u001b[1;32m--> 112\u001b[1;33m                 \u001b[0mhandle\u001b[0m\u001b[1;33m.\u001b[0m\u001b[0mclose\u001b[0m\u001b[1;33m(\u001b[0m\u001b[1;33m)\u001b[0m\u001b[1;33m\u001b[0m\u001b[1;33m\u001b[0m\u001b[0m\n\u001b[0m\u001b[0;32m    113\u001b[0m         \u001b[1;32mexcept\u001b[0m \u001b[1;33m(\u001b[0m\u001b[0mOSError\u001b[0m\u001b[1;33m,\u001b[0m \u001b[0mValueError\u001b[0m\u001b[1;33m)\u001b[0m\u001b[1;33m:\u001b[0m\u001b[1;33m\u001b[0m\u001b[1;33m\u001b[0m\u001b[0m\n\u001b[0;32m    114\u001b[0m             \u001b[1;32mpass\u001b[0m\u001b[1;33m\u001b[0m\u001b[1;33m\u001b[0m\u001b[0m\n",
      "\u001b[1;31mKeyboardInterrupt\u001b[0m: "
     ]
    }
   ],
   "source": [
    "# Exporting current df as csv file. Computer had issues trying to export as pickle file\n",
    "\n",
    "ords_prods_cust_2.to_pickle(os.path.join(path, '02 Data','Prepared data', 'ords_prods_custs_merged_2.pkl'))"
   ]
  },
  {
   "cell_type": "code",
   "execution_count": 26,
   "id": "42b3ab7c",
   "metadata": {},
   "outputs": [],
   "source": [
    "# Exporting current df as csv file. Computer had issues trying to export as pickle file\n",
    "\n",
    "ords_prods_cust_2.to_csv(os.path.join(path, '02 Data','Prepared Data', 'ords_prods_custs_merged_2.csv'))"
   ]
  },
  {
   "cell_type": "code",
   "execution_count": null,
   "id": "012cef5f",
   "metadata": {},
   "outputs": [],
   "source": []
  }
 ],
 "metadata": {
  "kernelspec": {
   "display_name": "Python 3 (ipykernel)",
   "language": "python",
   "name": "python3"
  },
  "language_info": {
   "codemirror_mode": {
    "name": "ipython",
    "version": 3
   },
   "file_extension": ".py",
   "mimetype": "text/x-python",
   "name": "python",
   "nbconvert_exporter": "python",
   "pygments_lexer": "ipython3",
   "version": "3.9.7"
  }
 },
 "nbformat": 4,
 "nbformat_minor": 5
}
