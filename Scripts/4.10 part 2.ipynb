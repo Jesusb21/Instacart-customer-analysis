{
 "cells": [
  {
   "cell_type": "code",
   "execution_count": 1,
   "id": "b3b8b577",
   "metadata": {},
   "outputs": [],
   "source": [
    "# Import libraries\n",
    "\n",
    "import pandas as pd\n",
    "import numpy as np\n",
    "import os\n",
    "import matplotlib.pyplot as plt\n",
    "import seaborn as sns\n",
    "import scipy"
   ]
  },
  {
   "cell_type": "code",
   "execution_count": 2,
   "id": "40985635",
   "metadata": {},
   "outputs": [],
   "source": [
    "#project folder path way\n",
    "path = r'C:\\Users\\Nbdav\\Instacart Basket Analysis'"
   ]
  },
  {
   "cell_type": "code",
   "execution_count": 3,
   "id": "a618c7c1",
   "metadata": {},
   "outputs": [],
   "source": [
    "# Importing most updated merged data set\n",
    "\n",
    "ords_prods_custs_merged_2 = pd.read_csv(os.path.join(path,'02 Data','Prepared data','ords_prods_custs_merged_2.csv'))"
   ]
  },
  {
   "cell_type": "code",
   "execution_count": 5,
   "id": "414c5ecf",
   "metadata": {},
   "outputs": [
    {
     "data": {
      "text/plain": [
       "(32404859, 39)"
      ]
     },
     "execution_count": 5,
     "metadata": {},
     "output_type": "execute_result"
    }
   ],
   "source": [
    "# Checking shape\n",
    "\n",
    "ords_prods_custs_merged_2.shape"
   ]
  },
  {
   "cell_type": "code",
   "execution_count": 4,
   "id": "7ad832e1",
   "metadata": {},
   "outputs": [],
   "source": [
    "pd.set_option('display.max_columns', None)"
   ]
  },
  {
   "cell_type": "code",
   "execution_count": 4,
   "id": "9b3dcdd2",
   "metadata": {},
   "outputs": [
    {
     "data": {
      "text/html": [
       "<div>\n",
       "<style scoped>\n",
       "    .dataframe tbody tr th:only-of-type {\n",
       "        vertical-align: middle;\n",
       "    }\n",
       "\n",
       "    .dataframe tbody tr th {\n",
       "        vertical-align: top;\n",
       "    }\n",
       "\n",
       "    .dataframe thead th {\n",
       "        text-align: right;\n",
       "    }\n",
       "</style>\n",
       "<table border=\"1\" class=\"dataframe\">\n",
       "  <thead>\n",
       "    <tr style=\"text-align: right;\">\n",
       "      <th></th>\n",
       "      <th>Unnamed: 0</th>\n",
       "      <th>order_id</th>\n",
       "      <th>user_id</th>\n",
       "      <th>order_number</th>\n",
       "      <th>orders_day_of_week</th>\n",
       "      <th>order_hour_of_day</th>\n",
       "      <th>days_since_prior_order</th>\n",
       "      <th>first_order</th>\n",
       "      <th>product_id</th>\n",
       "      <th>add_to_cart_order</th>\n",
       "      <th>...</th>\n",
       "      <th>num_of_dependants</th>\n",
       "      <th>fam_status</th>\n",
       "      <th>income</th>\n",
       "      <th>region</th>\n",
       "      <th>activity_flag</th>\n",
       "      <th>generation</th>\n",
       "      <th>income_group</th>\n",
       "      <th>parent_status</th>\n",
       "      <th>weekday</th>\n",
       "      <th>department_name</th>\n",
       "    </tr>\n",
       "  </thead>\n",
       "  <tbody>\n",
       "    <tr>\n",
       "      <th>0</th>\n",
       "      <td>0</td>\n",
       "      <td>2539329</td>\n",
       "      <td>1</td>\n",
       "      <td>1</td>\n",
       "      <td>2</td>\n",
       "      <td>8</td>\n",
       "      <td>NaN</td>\n",
       "      <td>True</td>\n",
       "      <td>196</td>\n",
       "      <td>1</td>\n",
       "      <td>...</td>\n",
       "      <td>3</td>\n",
       "      <td>married</td>\n",
       "      <td>40423</td>\n",
       "      <td>South</td>\n",
       "      <td>Normal activity</td>\n",
       "      <td>Millennials 26-41</td>\n",
       "      <td>Lower-middle class 32K-53K</td>\n",
       "      <td>Parent</td>\n",
       "      <td>Monday</td>\n",
       "      <td>Beverages</td>\n",
       "    </tr>\n",
       "  </tbody>\n",
       "</table>\n",
       "<p>1 rows × 39 columns</p>\n",
       "</div>"
      ],
      "text/plain": [
       "   Unnamed: 0  order_id  user_id  order_number  orders_day_of_week  \\\n",
       "0           0   2539329        1             1                   2   \n",
       "\n",
       "   order_hour_of_day  days_since_prior_order  first_order  product_id  \\\n",
       "0                  8                     NaN         True         196   \n",
       "\n",
       "   add_to_cart_order  ...  num_of_dependants fam_status  income  region  \\\n",
       "0                  1  ...                  3    married   40423   South   \n",
       "\n",
       "     activity_flag         generation                income_group  \\\n",
       "0  Normal activity  Millennials 26-41  Lower-middle class 32K-53K   \n",
       "\n",
       "  parent_status weekday  department_name  \n",
       "0        Parent  Monday        Beverages  \n",
       "\n",
       "[1 rows x 39 columns]"
      ]
     },
     "execution_count": 4,
     "metadata": {},
     "output_type": "execute_result"
    }
   ],
   "source": [
    "# Checking headers\n",
    "\n",
    "ords_prods_custs_merged_2.head(1)"
   ]
  },
  {
   "cell_type": "code",
   "execution_count": 5,
   "id": "ea47371e",
   "metadata": {},
   "outputs": [],
   "source": [
    "# Removing extra column 'Unnamed:0'\n",
    "\n",
    "ords_prods_custs_merged_3 = ords_prods_custs_merged_2.drop(columns = ['Unnamed: 0'])"
   ]
  },
  {
   "cell_type": "markdown",
   "id": "d0375317",
   "metadata": {},
   "source": [
    "# Key Question 1: What are the busiest days of the week and hours of the day?"
   ]
  },
  {
   "cell_type": "code",
   "execution_count": null,
   "id": "55b535bd",
   "metadata": {},
   "outputs": [],
   "source": []
  },
  {
   "cell_type": "code",
   "execution_count": 11,
   "id": "a57f4bc4",
   "metadata": {},
   "outputs": [
    {
     "data": {
      "image/png": "[encoded data removed]",
      "text/plain": [
       "<Figure size 432x288 with 1 Axes>"
      ]
     },
     "metadata": {
      "needs_background": "light"
     },
     "output_type": "display_data"
    }
   ],
   "source": [
    "# Creating a bar chart for 'weekday' value counts\n",
    "\n",
    "bar = ords_prods_custs_merged_3['weekday'].value_counts().plot.bar(color = 'blue')\n",
    "plt.ylabel('buying_freq')\n",
    "plt.tight_layout()"
   ]
  },
  {
   "cell_type": "code",
   "execution_count": 12,
   "id": "e3987c34",
   "metadata": {},
   "outputs": [],
   "source": [
    "# Exporting bar chart\n",
    "\n",
    "bar.figure.savefig(os.path.join(path, '04 Analysis', 'Visualizations', 'weekday_order_freq.png'))"
   ]
  },
  {
   "cell_type": "code",
   "execution_count": 13,
   "id": "80e9e548",
   "metadata": {},
   "outputs": [
    {
     "data": {
      "image/png": "[encoded data removed]",
      "text/plain": [
       "<Figure size 432x288 with 1 Axes>"
      ]
     },
     "metadata": {
      "needs_background": "light"
     },
     "output_type": "display_data"
    }
   ],
   "source": [
    "# Creating histogram for 'order_hour_of_day'\n",
    "\n",
    "bar_2 = ords_prods_custs_merged_3['order_hour_of_day'].value_counts().sort_index().plot.bar(color = 'blue')"
   ]
  },
  {
   "cell_type": "code",
   "execution_count": 14,
   "id": "160baa7b",
   "metadata": {},
   "outputs": [],
   "source": [
    "# Exporting bar_2\n",
    "\n",
    "bar_2.figure.savefig(os.path.join(path, '04 Analysis', 'Visualizations', 'order_hour_freq.png'))"
   ]
  },
  {
   "cell_type": "code",
   "execution_count": 15,
   "id": "28b30cd8",
   "metadata": {},
   "outputs": [],
   "source": [
    "# Calculating mean price per day\n",
    "\n",
    "price_per_day = ords_prods_custs_merged_3.groupby('weekday').agg({'prices': ['mean']})"
   ]
  },
  {
   "cell_type": "code",
   "execution_count": 16,
   "id": "fad4672b",
   "metadata": {},
   "outputs": [
    {
     "data": {
      "text/plain": [
       "Text(0, 0.5, 'mean_price')"
      ]
     },
     "execution_count": 16,
     "metadata": {},
     "output_type": "execute_result"
    },
    {
     "data": {
      "image/png": "[encoded data removed]",
      "text/plain": [
       "<Figure size 432x288 with 1 Axes>"
      ]
     },
     "metadata": {
      "needs_background": "light"
     },
     "output_type": "display_data"
    }
   ],
   "source": [
    "mean_price_per_day = sns.lineplot(data = price_per_day, legend = False)\n",
    "plt.ylabel('mean_price')"
   ]
  },
  {
   "cell_type": "code",
   "execution_count": 17,
   "id": "d0a7a4ac",
   "metadata": {},
   "outputs": [],
   "source": [
    "# Exporting price_per_day line graph\n",
    "\n",
    "mean_price_per_day.figure.savefig(os.path.join(path, '04 Analysis', 'Visualizations', 'mean_price_per_day.png'))"
   ]
  },
  {
   "cell_type": "markdown",
   "id": "ae43b207",
   "metadata": {},
   "source": [
    "# Key Question 2: Are there particular times of the day people spend the most money?"
   ]
  },
  {
   "cell_type": "code",
   "execution_count": 18,
   "id": "bf248982",
   "metadata": {},
   "outputs": [],
   "source": [
    "# Calculating mean price per hour\n",
    "\n",
    "price_per_hour = ords_prods_custs_merged_3.groupby('order_hour_of_day').agg({'prices': ['mean']})"
   ]
  },
  {
   "cell_type": "code",
   "execution_count": 19,
   "id": "b464ad1b",
   "metadata": {},
   "outputs": [
    {
     "data": {
      "text/plain": [
       "Text(0, 0.5, 'mean_price')"
      ]
     },
     "execution_count": 19,
     "metadata": {},
     "output_type": "execute_result"
    },
    {
     "data": {
      "image/png": "[encoded data removed]",
      "text/plain": [
       "<Figure size 432x288 with 1 Axes>"
      ]
     },
     "metadata": {
      "needs_background": "light"
     },
     "output_type": "display_data"
    }
   ],
   "source": [
    "# Creating a line chart for mean price per hour\n",
    "\n",
    "mean_price_per_hour = sns.lineplot(data = price_per_hour, legend = False)\n",
    "plt.ylabel('mean_price')"
   ]
  },
  {
   "cell_type": "code",
   "execution_count": 20,
   "id": "4cd2b532",
   "metadata": {},
   "outputs": [],
   "source": [
    "# Exporting mean_price_per_hour line graph\n",
    "\n",
    "mean_price_per_hour.figure.savefig(os.path.join(path, '04 Analysis', 'Visualizations', 'mean_price_per_hour.png'))"
   ]
  },
  {
   "cell_type": "markdown",
   "id": "5d57f75d",
   "metadata": {},
   "source": [
    "# Is there a way to use simpler price range groupings to help marketing and sales with their efforts?"
   ]
  },
  {
   "cell_type": "code",
   "execution_count": 21,
   "id": "f466b392",
   "metadata": {},
   "outputs": [
    {
     "data": {
      "image/png": "[encoded data removed]",
      "text/plain": [
       "<Figure size 432x288 with 1 Axes>"
      ]
     },
     "metadata": {
      "needs_background": "light"
     },
     "output_type": "display_data"
    }
   ],
   "source": [
    "hist = ords_prods_custs_merged_3['prices'].plot.hist(bins = 25)"
   ]
  },
  {
   "cell_type": "code",
   "execution_count": 22,
   "id": "025ffbd6",
   "metadata": {},
   "outputs": [],
   "source": [
    "# Exporting histogram\n",
    "\n",
    "hist.figure.savefig(os.path.join(path, '04 Analysis', 'Visualizations', 'prices_histogram.png'))"
   ]
  },
  {
   "cell_type": "code",
   "execution_count": 6,
   "id": "da9d79ed",
   "metadata": {},
   "outputs": [
    {
     "data": {
      "text/plain": [
       "Text(0, 0.5, '')"
      ]
     },
     "execution_count": 6,
     "metadata": {},
     "output_type": "execute_result"
    },
    {
     "data": {
      "image/png": "[encoded data removed]",
      "text/plain": [
       "<Figure size 432x288 with 1 Axes>"
      ]
     },
     "metadata": {},
     "output_type": "display_data"
    }
   ],
   "source": [
    "# Showing pie chart of prince range categories\n",
    "\n",
    "pie = ords_prods_custs_merged_3['price_range_loc'].value_counts().plot.pie(autopct = '%1.1f%%', colors = sns.color_palette('bright',3))\n",
    "plt.ylabel('')"
   ]
  },
  {
   "cell_type": "code",
   "execution_count": 7,
   "id": "e973b347",
   "metadata": {},
   "outputs": [],
   "source": [
    "# Exporting pie chart\n",
    "\n",
    "pie.figure.savefig(os.path.join(path, '04 Analysis', 'Visualizations', 'price_range_pie.png'))"
   ]
  },
  {
   "cell_type": "code",
   "execution_count": 10,
   "id": "cba43e8d",
   "metadata": {},
   "outputs": [],
   "source": [
    "# Sales by price_range assigned to variable\n",
    "\n",
    "price_range_sum = ords_prods_custs_merged_3.groupby('price_range_loc').agg({'prices' : ['sum']})"
   ]
  },
  {
   "cell_type": "code",
   "execution_count": 11,
   "id": "1d45a9bf",
   "metadata": {},
   "outputs": [
    {
     "data": {
      "image/png": "[encoded data removed]",
      "text/plain": [
       "<Figure size 432x288 with 1 Axes>"
      ]
     },
     "metadata": {
      "needs_background": "light"
     },
     "output_type": "display_data"
    }
   ],
   "source": [
    "\n",
    "bar_price_range_sum = price_range_sum.plot.bar(color = 'purple')\n",
    "plt.tight_layout()"
   ]
  },
  {
   "cell_type": "code",
   "execution_count": 12,
   "id": "923afb79",
   "metadata": {},
   "outputs": [],
   "source": [
    "# Exporting bar_price_range_sum\n",
    "\n",
    "bar_price_range_sum.figure.savefig(os.path.join(path, '04 Analysis', 'Visualizations', 'sales_by_price_range.png'))"
   ]
  },
  {
   "cell_type": "markdown",
   "id": "5d6fc345",
   "metadata": {},
   "source": [
    "# Are certain type of products more popular than others?"
   ]
  },
  {
   "cell_type": "code",
   "execution_count": 7,
   "id": "97f0202b",
   "metadata": {},
   "outputs": [],
   "source": [
    "# Total sales by product name\n",
    "\n",
    "sales_by_product_name = ords_prods_custs_merged_3.groupby('product_name').agg({'prices' : ['min', 'max', 'sum']})"
   ]
  },
  {
   "cell_type": "code",
   "execution_count": 30,
   "id": "1805c0c1",
   "metadata": {},
   "outputs": [],
   "source": [
    "# Excel view\n",
    "\n",
    "sales_by_product_name.to_clipboard()"
   ]
  },
  {
   "cell_type": "code",
   "execution_count": 8,
   "id": "c37c64ca",
   "metadata": {},
   "outputs": [],
   "source": [
    "# Creating list with top 10 best selling products\n",
    "\n",
    "top_10_products = ['Banana', 'Bag of Organic Bananas', 'Large Lemon', 'Limes', 'Organic Baby Spinach', 'Organic Strawberries', 'Organic Whole Milk', 'Cucumber Kirby', 'Apple Honeycrisp Organic', 'Organic Cucumber']"
   ]
  },
  {
   "cell_type": "code",
   "execution_count": 9,
   "id": "b7825864",
   "metadata": {},
   "outputs": [],
   "source": [
    "# Writing loop to create a flag for top 10 best selling products\n",
    "\n",
    "top_10 = []\n",
    "\n",
    "for value in ords_prods_custs_merged_3['product_name']:\n",
    "    if value in top_10_products:\n",
    "        top_10.append('Top 10 selling product')\n",
    "    else:\n",
    "        top_10.append('Not applicable')"
   ]
  },
  {
   "cell_type": "code",
   "execution_count": 33,
   "id": "167e1a6a",
   "metadata": {},
   "outputs": [
    {
     "data": {
      "text/plain": [
       "['Not applicable',\n",
       " 'Not applicable',\n",
       " 'Not applicable',\n",
       " 'Not applicable',\n",
       " 'Not applicable',\n",
       " 'Not applicable',\n",
       " 'Not applicable',\n",
       " 'Not applicable',\n",
       " 'Not applicable',\n",
       " 'Not applicable',\n",
       " 'Not applicable',\n",
       " 'Not applicable',\n",
       " 'Not applicable',\n",
       " 'Not applicable',\n",
       " 'Not applicable',\n",
       " 'Not applicable',\n",
       " 'Not applicable',\n",
       " 'Not applicable',\n",
       " 'Not applicable',\n",
       " 'Not applicable',\n",
       " 'Not applicable',\n",
       " 'Not applicable',\n",
       " 'Not applicable',\n",
       " 'Not applicable',\n",
       " 'Not applicable',\n",
       " 'Not applicable',\n",
       " 'Not applicable',\n",
       " 'Not applicable',\n",
       " 'Not applicable',\n",
       " 'Not applicable',\n",
       " 'Not applicable',\n",
       " 'Not applicable',\n",
       " 'Not applicable',\n",
       " 'Not applicable',\n",
       " 'Top 10 selling product',\n",
       " 'Top 10 selling product',\n",
       " 'Not applicable',\n",
       " 'Not applicable',\n",
       " 'Not applicable',\n",
       " 'Not applicable',\n",
       " 'Not applicable',\n",
       " 'Not applicable',\n",
       " 'Not applicable',\n",
       " 'Not applicable',\n",
       " 'Not applicable',\n",
       " 'Not applicable',\n",
       " 'Not applicable',\n",
       " 'Not applicable',\n",
       " 'Not applicable',\n",
       " 'Not applicable',\n",
       " 'Not applicable',\n",
       " 'Not applicable',\n",
       " 'Not applicable',\n",
       " 'Not applicable',\n",
       " 'Not applicable',\n",
       " 'Not applicable',\n",
       " 'Not applicable',\n",
       " 'Not applicable',\n",
       " 'Not applicable',\n",
       " 'Not applicable',\n",
       " 'Not applicable',\n",
       " 'Not applicable',\n",
       " 'Not applicable',\n",
       " 'Not applicable',\n",
       " 'Not applicable',\n",
       " 'Not applicable',\n",
       " 'Not applicable',\n",
       " 'Not applicable',\n",
       " 'Not applicable',\n",
       " 'Not applicable',\n",
       " 'Not applicable',\n",
       " 'Not applicable',\n",
       " 'Not applicable',\n",
       " 'Not applicable',\n",
       " 'Not applicable',\n",
       " 'Not applicable',\n",
       " 'Not applicable',\n",
       " 'Not applicable',\n",
       " 'Not applicable',\n",
       " 'Not applicable',\n",
       " 'Not applicable',\n",
       " 'Not applicable',\n",
       " 'Not applicable',\n",
       " 'Not applicable',\n",
       " 'Not applicable',\n",
       " 'Not applicable',\n",
       " 'Not applicable',\n",
       " 'Not applicable',\n",
       " 'Not applicable',\n",
       " 'Not applicable',\n",
       " 'Not applicable',\n",
       " 'Not applicable',\n",
       " 'Not applicable',\n",
       " 'Not applicable',\n",
       " 'Not applicable',\n",
       " 'Not applicable',\n",
       " 'Not applicable',\n",
       " 'Not applicable',\n",
       " 'Not applicable',\n",
       " 'Not applicable',\n",
       " 'Not applicable',\n",
       " 'Not applicable',\n",
       " 'Not applicable',\n",
       " 'Not applicable',\n",
       " 'Not applicable',\n",
       " 'Not applicable',\n",
       " 'Not applicable',\n",
       " 'Not applicable',\n",
       " 'Not applicable',\n",
       " 'Not applicable',\n",
       " 'Not applicable',\n",
       " 'Not applicable',\n",
       " 'Not applicable',\n",
       " 'Not applicable',\n",
       " 'Not applicable',\n",
       " 'Not applicable',\n",
       " 'Not applicable',\n",
       " 'Not applicable',\n",
       " 'Not applicable',\n",
       " 'Not applicable',\n",
       " 'Not applicable',\n",
       " 'Not applicable',\n",
       " 'Not applicable',\n",
       " 'Not applicable',\n",
       " 'Not applicable',\n",
       " 'Not applicable',\n",
       " 'Not applicable',\n",
       " 'Not applicable',\n",
       " 'Not applicable',\n",
       " 'Not applicable',\n",
       " 'Not applicable',\n",
       " 'Not applicable',\n",
       " 'Not applicable',\n",
       " 'Not applicable',\n",
       " 'Not applicable',\n",
       " 'Not applicable',\n",
       " 'Not applicable',\n",
       " 'Not applicable',\n",
       " 'Not applicable',\n",
       " 'Not applicable',\n",
       " 'Not applicable',\n",
       " 'Not applicable',\n",
       " 'Not applicable',\n",
       " 'Not applicable',\n",
       " 'Not applicable',\n",
       " 'Not applicable',\n",
       " 'Not applicable',\n",
       " 'Not applicable',\n",
       " 'Not applicable',\n",
       " 'Not applicable',\n",
       " 'Not applicable',\n",
       " 'Not applicable',\n",
       " 'Not applicable',\n",
       " 'Not applicable',\n",
       " 'Not applicable',\n",
       " 'Not applicable',\n",
       " 'Not applicable',\n",
       " 'Not applicable',\n",
       " 'Not applicable',\n",
       " 'Not applicable',\n",
       " 'Not applicable',\n",
       " 'Not applicable',\n",
       " 'Not applicable',\n",
       " 'Not applicable',\n",
       " 'Not applicable',\n",
       " 'Not applicable',\n",
       " 'Not applicable',\n",
       " 'Not applicable',\n",
       " 'Not applicable',\n",
       " 'Not applicable',\n",
       " 'Not applicable',\n",
       " 'Not applicable',\n",
       " 'Not applicable',\n",
       " 'Not applicable',\n",
       " 'Not applicable',\n",
       " 'Not applicable',\n",
       " 'Not applicable',\n",
       " 'Not applicable',\n",
       " 'Not applicable',\n",
       " 'Not applicable',\n",
       " 'Not applicable',\n",
       " 'Not applicable',\n",
       " 'Not applicable',\n",
       " 'Not applicable',\n",
       " 'Not applicable',\n",
       " 'Not applicable',\n",
       " 'Not applicable',\n",
       " 'Not applicable',\n",
       " 'Not applicable',\n",
       " 'Not applicable',\n",
       " 'Not applicable',\n",
       " 'Not applicable',\n",
       " 'Not applicable',\n",
       " 'Not applicable',\n",
       " 'Not applicable',\n",
       " 'Not applicable',\n",
       " 'Not applicable',\n",
       " 'Not applicable',\n",
       " 'Not applicable',\n",
       " 'Not applicable',\n",
       " 'Not applicable',\n",
       " 'Not applicable',\n",
       " 'Not applicable',\n",
       " 'Not applicable',\n",
       " 'Not applicable',\n",
       " 'Not applicable',\n",
       " 'Not applicable',\n",
       " 'Not applicable',\n",
       " 'Not applicable',\n",
       " 'Not applicable',\n",
       " 'Not applicable',\n",
       " 'Not applicable',\n",
       " 'Not applicable',\n",
       " 'Not applicable',\n",
       " 'Not applicable',\n",
       " 'Not applicable',\n",
       " 'Not applicable',\n",
       " 'Not applicable',\n",
       " 'Not applicable',\n",
       " 'Not applicable',\n",
       " 'Not applicable',\n",
       " 'Not applicable',\n",
       " 'Not applicable',\n",
       " 'Not applicable',\n",
       " 'Not applicable',\n",
       " 'Not applicable',\n",
       " 'Not applicable',\n",
       " 'Not applicable',\n",
       " 'Not applicable',\n",
       " 'Not applicable',\n",
       " 'Not applicable',\n",
       " 'Not applicable',\n",
       " 'Not applicable',\n",
       " 'Not applicable',\n",
       " 'Not applicable',\n",
       " 'Not applicable',\n",
       " 'Not applicable',\n",
       " 'Not applicable',\n",
       " 'Not applicable',\n",
       " 'Not applicable',\n",
       " 'Not applicable',\n",
       " 'Not applicable',\n",
       " 'Not applicable',\n",
       " 'Not applicable',\n",
       " 'Not applicable',\n",
       " 'Not applicable',\n",
       " 'Not applicable',\n",
       " 'Not applicable',\n",
       " 'Not applicable',\n",
       " 'Not applicable',\n",
       " 'Not applicable',\n",
       " 'Not applicable',\n",
       " 'Not applicable',\n",
       " 'Not applicable',\n",
       " 'Not applicable',\n",
       " 'Not applicable',\n",
       " 'Not applicable',\n",
       " 'Not applicable',\n",
       " 'Not applicable',\n",
       " 'Not applicable',\n",
       " 'Not applicable',\n",
       " 'Not applicable',\n",
       " 'Not applicable',\n",
       " 'Not applicable',\n",
       " 'Not applicable',\n",
       " 'Not applicable',\n",
       " 'Not applicable',\n",
       " 'Not applicable',\n",
       " 'Not applicable',\n",
       " 'Not applicable',\n",
       " 'Not applicable',\n",
       " 'Not applicable',\n",
       " 'Not applicable',\n",
       " 'Not applicable',\n",
       " 'Not applicable',\n",
       " 'Not applicable',\n",
       " 'Not applicable',\n",
       " 'Not applicable',\n",
       " 'Not applicable',\n",
       " 'Not applicable',\n",
       " 'Not applicable',\n",
       " 'Not applicable',\n",
       " 'Not applicable',\n",
       " 'Not applicable',\n",
       " 'Not applicable',\n",
       " 'Not applicable',\n",
       " 'Not applicable',\n",
       " 'Not applicable',\n",
       " 'Not applicable',\n",
       " 'Not applicable',\n",
       " 'Not applicable',\n",
       " 'Not applicable',\n",
       " 'Not applicable',\n",
       " 'Not applicable',\n",
       " 'Not applicable',\n",
       " 'Not applicable',\n",
       " 'Not applicable',\n",
       " 'Not applicable',\n",
       " 'Not applicable',\n",
       " 'Not applicable',\n",
       " 'Not applicable',\n",
       " 'Not applicable',\n",
       " 'Not applicable',\n",
       " 'Not applicable',\n",
       " 'Not applicable',\n",
       " 'Not applicable',\n",
       " 'Not applicable',\n",
       " 'Not applicable',\n",
       " 'Not applicable',\n",
       " 'Not applicable',\n",
       " 'Not applicable',\n",
       " 'Not applicable',\n",
       " 'Not applicable',\n",
       " 'Not applicable',\n",
       " 'Not applicable',\n",
       " 'Not applicable',\n",
       " 'Not applicable',\n",
       " 'Not applicable',\n",
       " 'Not applicable',\n",
       " 'Not applicable',\n",
       " 'Not applicable',\n",
       " 'Not applicable',\n",
       " 'Not applicable',\n",
       " 'Not applicable',\n",
       " 'Not applicable',\n",
       " 'Not applicable',\n",
       " 'Not applicable',\n",
       " 'Not applicable',\n",
       " 'Not applicable',\n",
       " 'Not applicable',\n",
       " 'Not applicable',\n",
       " 'Not applicable',\n",
       " 'Not applicable',\n",
       " 'Not applicable',\n",
       " 'Not applicable',\n",
       " 'Not applicable',\n",
       " 'Not applicable',\n",
       " 'Not applicable',\n",
       " 'Not applicable',\n",
       " 'Not applicable',\n",
       " 'Not applicable',\n",
       " 'Not applicable',\n",
       " 'Not applicable',\n",
       " 'Not applicable',\n",
       " 'Not applicable',\n",
       " 'Not applicable',\n",
       " 'Not applicable',\n",
       " 'Top 10 selling product',\n",
       " 'Top 10 selling product',\n",
       " 'Top 10 selling product',\n",
       " 'Not applicable',\n",
       " 'Not applicable',\n",
       " 'Not applicable',\n",
       " 'Not applicable',\n",
       " 'Not applicable',\n",
       " 'Not applicable',\n",
       " 'Not applicable',\n",
       " 'Not applicable',\n",
       " 'Not applicable',\n",
       " 'Top 10 selling product',\n",
       " 'Not applicable',\n",
       " 'Not applicable',\n",
       " 'Top 10 selling product',\n",
       " 'Not applicable',\n",
       " 'Not applicable',\n",
       " 'Not applicable',\n",
       " 'Not applicable',\n",
       " 'Not applicable',\n",
       " 'Not applicable',\n",
       " 'Not applicable',\n",
       " 'Not applicable',\n",
       " 'Not applicable',\n",
       " 'Not applicable',\n",
       " 'Not applicable',\n",
       " 'Not applicable',\n",
       " 'Not applicable',\n",
       " 'Not applicable',\n",
       " 'Not applicable',\n",
       " 'Not applicable',\n",
       " 'Not applicable',\n",
       " 'Not applicable',\n",
       " 'Not applicable',\n",
       " 'Not applicable',\n",
       " 'Not applicable',\n",
       " 'Not applicable',\n",
       " 'Not applicable',\n",
       " 'Not applicable',\n",
       " 'Not applicable',\n",
       " 'Not applicable',\n",
       " 'Not applicable',\n",
       " 'Not applicable',\n",
       " 'Not applicable',\n",
       " 'Not applicable',\n",
       " 'Not applicable',\n",
       " 'Not applicable',\n",
       " 'Not applicable',\n",
       " 'Not applicable',\n",
       " 'Not applicable',\n",
       " 'Not applicable',\n",
       " 'Not applicable',\n",
       " 'Not applicable',\n",
       " 'Not applicable',\n",
       " 'Not applicable',\n",
       " 'Not applicable',\n",
       " 'Not applicable',\n",
       " 'Not applicable',\n",
       " 'Not applicable',\n",
       " 'Not applicable',\n",
       " 'Not applicable',\n",
       " 'Not applicable',\n",
       " 'Not applicable',\n",
       " 'Not applicable',\n",
       " 'Not applicable',\n",
       " 'Not applicable',\n",
       " 'Not applicable',\n",
       " 'Not applicable',\n",
       " 'Not applicable',\n",
       " 'Not applicable',\n",
       " 'Not applicable',\n",
       " 'Not applicable',\n",
       " 'Not applicable',\n",
       " 'Not applicable',\n",
       " 'Not applicable',\n",
       " 'Not applicable',\n",
       " 'Not applicable',\n",
       " 'Not applicable',\n",
       " 'Not applicable',\n",
       " 'Not applicable',\n",
       " 'Not applicable',\n",
       " 'Not applicable',\n",
       " 'Not applicable',\n",
       " 'Not applicable',\n",
       " 'Not applicable',\n",
       " 'Not applicable',\n",
       " 'Not applicable',\n",
       " 'Not applicable',\n",
       " 'Not applicable',\n",
       " 'Not applicable',\n",
       " 'Not applicable',\n",
       " 'Not applicable',\n",
       " 'Not applicable',\n",
       " 'Not applicable',\n",
       " 'Not applicable',\n",
       " 'Not applicable',\n",
       " 'Not applicable',\n",
       " 'Not applicable',\n",
       " 'Not applicable',\n",
       " 'Not applicable',\n",
       " 'Not applicable',\n",
       " 'Not applicable',\n",
       " 'Not applicable',\n",
       " 'Not applicable',\n",
       " 'Not applicable',\n",
       " 'Not applicable',\n",
       " 'Not applicable',\n",
       " 'Not applicable',\n",
       " 'Not applicable',\n",
       " 'Not applicable',\n",
       " 'Not applicable',\n",
       " 'Not applicable',\n",
       " 'Not applicable',\n",
       " 'Not applicable',\n",
       " 'Not applicable',\n",
       " 'Not applicable',\n",
       " 'Not applicable',\n",
       " 'Not applicable',\n",
       " 'Not applicable',\n",
       " 'Not applicable',\n",
       " 'Not applicable',\n",
       " 'Not applicable',\n",
       " 'Not applicable',\n",
       " 'Not applicable',\n",
       " 'Not applicable',\n",
       " 'Not applicable',\n",
       " 'Not applicable',\n",
       " 'Not applicable',\n",
       " 'Not applicable',\n",
       " 'Not applicable',\n",
       " 'Not applicable',\n",
       " 'Not applicable',\n",
       " 'Not applicable',\n",
       " 'Not applicable',\n",
       " 'Not applicable',\n",
       " 'Not applicable',\n",
       " 'Not applicable',\n",
       " 'Not applicable',\n",
       " 'Not applicable',\n",
       " 'Not applicable',\n",
       " 'Not applicable',\n",
       " 'Not applicable',\n",
       " 'Not applicable',\n",
       " 'Not applicable',\n",
       " 'Not applicable',\n",
       " 'Not applicable',\n",
       " 'Not applicable',\n",
       " 'Not applicable',\n",
       " 'Not applicable',\n",
       " 'Not applicable',\n",
       " 'Not applicable',\n",
       " 'Not applicable',\n",
       " 'Not applicable',\n",
       " 'Not applicable',\n",
       " 'Not applicable',\n",
       " 'Not applicable',\n",
       " 'Not applicable',\n",
       " 'Not applicable',\n",
       " 'Not applicable',\n",
       " 'Not applicable',\n",
       " 'Not applicable',\n",
       " 'Not applicable',\n",
       " 'Not applicable',\n",
       " 'Not applicable',\n",
       " 'Not applicable',\n",
       " 'Not applicable',\n",
       " 'Not applicable',\n",
       " 'Not applicable',\n",
       " 'Not applicable',\n",
       " 'Not applicable',\n",
       " 'Not applicable',\n",
       " 'Not applicable',\n",
       " 'Not applicable',\n",
       " 'Not applicable',\n",
       " 'Not applicable',\n",
       " 'Not applicable',\n",
       " 'Not applicable',\n",
       " 'Not applicable',\n",
       " 'Not applicable',\n",
       " 'Not applicable',\n",
       " 'Not applicable',\n",
       " 'Not applicable',\n",
       " 'Not applicable',\n",
       " 'Not applicable',\n",
       " 'Not applicable',\n",
       " 'Not applicable',\n",
       " 'Not applicable',\n",
       " 'Not applicable',\n",
       " 'Not applicable',\n",
       " 'Not applicable',\n",
       " 'Not applicable',\n",
       " 'Not applicable',\n",
       " 'Not applicable',\n",
       " 'Not applicable',\n",
       " 'Not applicable',\n",
       " 'Not applicable',\n",
       " 'Not applicable',\n",
       " 'Not applicable',\n",
       " 'Not applicable',\n",
       " 'Not applicable',\n",
       " 'Not applicable',\n",
       " 'Not applicable',\n",
       " 'Not applicable',\n",
       " 'Not applicable',\n",
       " 'Not applicable',\n",
       " 'Not applicable',\n",
       " 'Not applicable',\n",
       " 'Not applicable',\n",
       " 'Not applicable',\n",
       " 'Not applicable',\n",
       " 'Not applicable',\n",
       " 'Not applicable',\n",
       " 'Not applicable',\n",
       " 'Not applicable',\n",
       " 'Not applicable',\n",
       " 'Not applicable',\n",
       " 'Not applicable',\n",
       " 'Not applicable',\n",
       " 'Not applicable',\n",
       " 'Not applicable',\n",
       " 'Not applicable',\n",
       " 'Not applicable',\n",
       " 'Not applicable',\n",
       " 'Not applicable',\n",
       " 'Not applicable',\n",
       " 'Not applicable',\n",
       " 'Not applicable',\n",
       " 'Not applicable',\n",
       " 'Not applicable',\n",
       " 'Not applicable',\n",
       " 'Not applicable',\n",
       " 'Not applicable',\n",
       " 'Not applicable',\n",
       " 'Not applicable',\n",
       " 'Not applicable',\n",
       " 'Not applicable',\n",
       " 'Not applicable',\n",
       " 'Not applicable',\n",
       " 'Not applicable',\n",
       " 'Not applicable',\n",
       " 'Not applicable',\n",
       " 'Not applicable',\n",
       " 'Not applicable',\n",
       " 'Not applicable',\n",
       " 'Not applicable',\n",
       " 'Not applicable',\n",
       " 'Not applicable',\n",
       " 'Not applicable',\n",
       " 'Not applicable',\n",
       " 'Not applicable',\n",
       " 'Not applicable',\n",
       " 'Not applicable',\n",
       " 'Not applicable',\n",
       " 'Not applicable',\n",
       " 'Not applicable',\n",
       " 'Not applicable',\n",
       " 'Not applicable',\n",
       " 'Not applicable',\n",
       " 'Not applicable',\n",
       " 'Not applicable',\n",
       " 'Not applicable',\n",
       " 'Not applicable',\n",
       " 'Not applicable',\n",
       " 'Not applicable',\n",
       " 'Not applicable',\n",
       " 'Not applicable',\n",
       " 'Not applicable',\n",
       " 'Not applicable',\n",
       " 'Not applicable',\n",
       " 'Not applicable',\n",
       " 'Not applicable',\n",
       " 'Not applicable',\n",
       " 'Not applicable',\n",
       " 'Not applicable',\n",
       " 'Not applicable',\n",
       " 'Not applicable',\n",
       " 'Not applicable',\n",
       " 'Not applicable',\n",
       " 'Not applicable',\n",
       " 'Not applicable',\n",
       " 'Not applicable',\n",
       " 'Not applicable',\n",
       " 'Not applicable',\n",
       " 'Not applicable',\n",
       " 'Not applicable',\n",
       " 'Not applicable',\n",
       " 'Not applicable',\n",
       " 'Not applicable',\n",
       " 'Not applicable',\n",
       " 'Not applicable',\n",
       " 'Not applicable',\n",
       " 'Not applicable',\n",
       " 'Not applicable',\n",
       " 'Not applicable',\n",
       " 'Not applicable',\n",
       " 'Not applicable',\n",
       " 'Not applicable',\n",
       " 'Not applicable',\n",
       " 'Not applicable',\n",
       " 'Not applicable',\n",
       " 'Not applicable',\n",
       " 'Not applicable',\n",
       " 'Not applicable',\n",
       " 'Not applicable',\n",
       " 'Not applicable',\n",
       " 'Not applicable',\n",
       " 'Not applicable',\n",
       " 'Not applicable',\n",
       " 'Not applicable',\n",
       " 'Not applicable',\n",
       " 'Not applicable',\n",
       " 'Not applicable',\n",
       " 'Not applicable',\n",
       " 'Not applicable',\n",
       " 'Not applicable',\n",
       " 'Not applicable',\n",
       " 'Not applicable',\n",
       " 'Not applicable',\n",
       " 'Not applicable',\n",
       " 'Not applicable',\n",
       " 'Not applicable',\n",
       " 'Not applicable',\n",
       " 'Not applicable',\n",
       " 'Not applicable',\n",
       " 'Not applicable',\n",
       " 'Not applicable',\n",
       " 'Not applicable',\n",
       " 'Not applicable',\n",
       " 'Not applicable',\n",
       " 'Not applicable',\n",
       " 'Not applicable',\n",
       " 'Not applicable',\n",
       " 'Not applicable',\n",
       " 'Not applicable',\n",
       " 'Not applicable',\n",
       " 'Not applicable',\n",
       " 'Not applicable',\n",
       " 'Not applicable',\n",
       " 'Not applicable',\n",
       " 'Not applicable',\n",
       " 'Not applicable',\n",
       " 'Not applicable',\n",
       " 'Not applicable',\n",
       " 'Not applicable',\n",
       " 'Not applicable',\n",
       " 'Not applicable',\n",
       " 'Not applicable',\n",
       " 'Not applicable',\n",
       " 'Not applicable',\n",
       " 'Not applicable',\n",
       " 'Not applicable',\n",
       " 'Not applicable',\n",
       " 'Not applicable',\n",
       " 'Not applicable',\n",
       " 'Not applicable',\n",
       " 'Not applicable',\n",
       " 'Not applicable',\n",
       " 'Not applicable',\n",
       " 'Not applicable',\n",
       " 'Not applicable',\n",
       " 'Not applicable',\n",
       " 'Not applicable',\n",
       " 'Not applicable',\n",
       " 'Not applicable',\n",
       " 'Not applicable',\n",
       " 'Not applicable',\n",
       " 'Not applicable',\n",
       " 'Not applicable',\n",
       " 'Not applicable',\n",
       " 'Not applicable',\n",
       " 'Not applicable',\n",
       " 'Not applicable',\n",
       " 'Not applicable',\n",
       " 'Not applicable',\n",
       " 'Not applicable',\n",
       " 'Not applicable',\n",
       " 'Not applicable',\n",
       " 'Not applicable',\n",
       " 'Not applicable',\n",
       " 'Not applicable',\n",
       " 'Not applicable',\n",
       " 'Not applicable',\n",
       " 'Not applicable',\n",
       " 'Not applicable',\n",
       " 'Not applicable',\n",
       " 'Not applicable',\n",
       " 'Not applicable',\n",
       " 'Not applicable',\n",
       " 'Not applicable',\n",
       " 'Not applicable',\n",
       " 'Not applicable',\n",
       " 'Not applicable',\n",
       " 'Not applicable',\n",
       " 'Not applicable',\n",
       " 'Not applicable',\n",
       " 'Not applicable',\n",
       " 'Not applicable',\n",
       " 'Not applicable',\n",
       " 'Not applicable',\n",
       " 'Not applicable',\n",
       " 'Not applicable',\n",
       " 'Not applicable',\n",
       " 'Not applicable',\n",
       " 'Not applicable',\n",
       " 'Not applicable',\n",
       " 'Not applicable',\n",
       " 'Not applicable',\n",
       " 'Not applicable',\n",
       " 'Not applicable',\n",
       " 'Not applicable',\n",
       " 'Not applicable',\n",
       " 'Not applicable',\n",
       " 'Not applicable',\n",
       " 'Not applicable',\n",
       " 'Not applicable',\n",
       " 'Not applicable',\n",
       " 'Not applicable',\n",
       " 'Not applicable',\n",
       " 'Not applicable',\n",
       " 'Not applicable',\n",
       " 'Not applicable',\n",
       " 'Not applicable',\n",
       " 'Not applicable',\n",
       " 'Not applicable',\n",
       " 'Not applicable',\n",
       " 'Not applicable',\n",
       " 'Not applicable',\n",
       " 'Not applicable',\n",
       " 'Not applicable',\n",
       " 'Not applicable',\n",
       " 'Not applicable',\n",
       " 'Not applicable',\n",
       " 'Not applicable',\n",
       " 'Not applicable',\n",
       " 'Not applicable',\n",
       " 'Not applicable',\n",
       " 'Not applicable',\n",
       " 'Not applicable',\n",
       " 'Not applicable',\n",
       " 'Not applicable',\n",
       " 'Not applicable',\n",
       " 'Not applicable',\n",
       " 'Not applicable',\n",
       " 'Not applicable',\n",
       " 'Not applicable',\n",
       " 'Not applicable',\n",
       " 'Not applicable',\n",
       " 'Not applicable',\n",
       " 'Not applicable',\n",
       " 'Not applicable',\n",
       " 'Not applicable',\n",
       " 'Not applicable',\n",
       " 'Not applicable',\n",
       " 'Not applicable',\n",
       " 'Not applicable',\n",
       " 'Not applicable',\n",
       " 'Not applicable',\n",
       " 'Not applicable',\n",
       " 'Not applicable',\n",
       " 'Not applicable',\n",
       " 'Not applicable',\n",
       " 'Not applicable',\n",
       " 'Not applicable',\n",
       " 'Not applicable',\n",
       " 'Not applicable',\n",
       " 'Not applicable',\n",
       " 'Not applicable',\n",
       " 'Not applicable',\n",
       " 'Not applicable',\n",
       " 'Not applicable',\n",
       " 'Not applicable',\n",
       " 'Not applicable',\n",
       " 'Not applicable',\n",
       " 'Not applicable',\n",
       " 'Not applicable',\n",
       " 'Not applicable',\n",
       " 'Not applicable',\n",
       " 'Not applicable',\n",
       " 'Not applicable',\n",
       " 'Not applicable',\n",
       " 'Not applicable',\n",
       " 'Not applicable',\n",
       " 'Not applicable',\n",
       " 'Not applicable',\n",
       " 'Not applicable',\n",
       " 'Not applicable',\n",
       " 'Not applicable',\n",
       " 'Not applicable',\n",
       " 'Not applicable',\n",
       " 'Not applicable',\n",
       " 'Not applicable',\n",
       " 'Not applicable',\n",
       " 'Not applicable',\n",
       " 'Not applicable',\n",
       " 'Not applicable',\n",
       " 'Not applicable',\n",
       " 'Top 10 selling product',\n",
       " 'Top 10 selling product',\n",
       " 'Top 10 selling product',\n",
       " 'Top 10 selling product',\n",
       " 'Top 10 selling product',\n",
       " 'Top 10 selling product',\n",
       " 'Top 10 selling product',\n",
       " 'Top 10 selling product',\n",
       " 'Not applicable',\n",
       " 'Not applicable',\n",
       " 'Not applicable',\n",
       " 'Not applicable',\n",
       " 'Not applicable',\n",
       " 'Not applicable',\n",
       " 'Not applicable',\n",
       " 'Not applicable',\n",
       " 'Not applicable',\n",
       " 'Not applicable',\n",
       " 'Not applicable',\n",
       " 'Not applicable',\n",
       " 'Not applicable',\n",
       " 'Not applicable',\n",
       " 'Not applicable',\n",
       " 'Not applicable',\n",
       " 'Not applicable',\n",
       " 'Not applicable',\n",
       " 'Not applicable',\n",
       " 'Not applicable',\n",
       " 'Not applicable',\n",
       " 'Not applicable',\n",
       " 'Not applicable',\n",
       " 'Not applicable',\n",
       " 'Not applicable',\n",
       " 'Not applicable',\n",
       " 'Not applicable',\n",
       " 'Not applicable',\n",
       " 'Not applicable',\n",
       " 'Not applicable',\n",
       " 'Not applicable',\n",
       " 'Not applicable',\n",
       " 'Not applicable',\n",
       " 'Not applicable',\n",
       " 'Not applicable',\n",
       " 'Not applicable',\n",
       " 'Not applicable',\n",
       " 'Not applicable',\n",
       " 'Not applicable',\n",
       " 'Not applicable',\n",
       " 'Not applicable',\n",
       " 'Not applicable',\n",
       " 'Not applicable',\n",
       " 'Not applicable',\n",
       " 'Not applicable',\n",
       " 'Not applicable',\n",
       " 'Not applicable',\n",
       " 'Not applicable',\n",
       " 'Not applicable',\n",
       " 'Not applicable',\n",
       " 'Not applicable',\n",
       " 'Not applicable',\n",
       " 'Not applicable',\n",
       " 'Not applicable',\n",
       " 'Not applicable',\n",
       " 'Not applicable',\n",
       " 'Not applicable',\n",
       " 'Not applicable',\n",
       " 'Not applicable',\n",
       " 'Not applicable',\n",
       " 'Not applicable',\n",
       " 'Not applicable',\n",
       " 'Not applicable',\n",
       " 'Not applicable',\n",
       " 'Not applicable',\n",
       " 'Not applicable',\n",
       " 'Not applicable',\n",
       " 'Not applicable',\n",
       " 'Not applicable',\n",
       " 'Not applicable',\n",
       " 'Not applicable',\n",
       " 'Not applicable',\n",
       " 'Not applicable',\n",
       " 'Not applicable',\n",
       " 'Not applicable',\n",
       " 'Not applicable',\n",
       " 'Not applicable',\n",
       " 'Not applicable',\n",
       " 'Not applicable',\n",
       " 'Not applicable',\n",
       " 'Not applicable',\n",
       " 'Not applicable',\n",
       " 'Not applicable',\n",
       " 'Not applicable',\n",
       " 'Not applicable',\n",
       " 'Not applicable',\n",
       " 'Not applicable',\n",
       " 'Not applicable',\n",
       " 'Not applicable',\n",
       " 'Not applicable',\n",
       " 'Not applicable',\n",
       " 'Not applicable',\n",
       " 'Not applicable',\n",
       " 'Not applicable',\n",
       " 'Not applicable',\n",
       " 'Not applicable',\n",
       " 'Not applicable',\n",
       " 'Not applicable',\n",
       " 'Not applicable',\n",
       " 'Not applicable',\n",
       " 'Not applicable',\n",
       " 'Not applicable',\n",
       " 'Not applicable',\n",
       " 'Not applicable',\n",
       " 'Not applicable',\n",
       " 'Not applicable',\n",
       " 'Not applicable',\n",
       " 'Not applicable',\n",
       " 'Not applicable',\n",
       " 'Not applicable',\n",
       " 'Not applicable',\n",
       " 'Not applicable',\n",
       " 'Not applicable',\n",
       " 'Not applicable',\n",
       " 'Not applicable',\n",
       " 'Not applicable',\n",
       " 'Not applicable',\n",
       " 'Not applicable',\n",
       " 'Not applicable',\n",
       " 'Not applicable',\n",
       " 'Not applicable',\n",
       " 'Not applicable',\n",
       " 'Not applicable',\n",
       " 'Not applicable',\n",
       " 'Not applicable',\n",
       " 'Not applicable',\n",
       " 'Not applicable',\n",
       " 'Not applicable',\n",
       " 'Not applicable',\n",
       " 'Not applicable',\n",
       " 'Not applicable',\n",
       " 'Not applicable',\n",
       " 'Not applicable',\n",
       " 'Not applicable',\n",
       " 'Not applicable',\n",
       " 'Not applicable',\n",
       " 'Not applicable',\n",
       " 'Not applicable',\n",
       " 'Not applicable',\n",
       " 'Not applicable',\n",
       " 'Not applicable',\n",
       " 'Not applicable',\n",
       " 'Not applicable',\n",
       " 'Not applicable',\n",
       " 'Not applicable',\n",
       " 'Not applicable',\n",
       " 'Not applicable',\n",
       " 'Not applicable',\n",
       " ...]"
      ]
     },
     "execution_count": 33,
     "metadata": {},
     "output_type": "execute_result"
    }
   ],
   "source": [
    "# Checking top_10 list results\n",
    "\n",
    "top_10"
   ]
  },
  {
   "cell_type": "code",
   "execution_count": 10,
   "id": "0163776c",
   "metadata": {},
   "outputs": [],
   "source": [
    "# Creating new column in df for 'best_seller'\n",
    "\n",
    "ords_prods_custs_merged_3['best_seller'] = top_10"
   ]
  },
  {
   "cell_type": "code",
   "execution_count": 11,
   "id": "8dc0d5dc",
   "metadata": {},
   "outputs": [],
   "source": [
    "# Creating new df with just the top 10 selling products\n",
    "\n",
    "df_top_10_products = ords_prods_custs_merged_3[ords_prods_custs_merged_3['best_seller'] == 'Top 10 selling product']"
   ]
  },
  {
   "cell_type": "code",
   "execution_count": 12,
   "id": "50239fee",
   "metadata": {},
   "outputs": [
    {
     "data": {
      "image/png": "[encoded data removed]",
      "text/plain": [
       "<Figure size 432x288 with 1 Axes>"
      ]
     },
     "metadata": {
      "needs_background": "light"
     },
     "output_type": "display_data"
    }
   ],
   "source": [
    "# Creating bar chart for top 10 selling products\n",
    "\n",
    "bar_3 = df_top_10_products['product_name'].value_counts().plot.bar(color = 'purple')"
   ]
  },
  {
   "cell_type": "code",
   "execution_count": 13,
   "id": "bd53b823",
   "metadata": {},
   "outputs": [],
   "source": [
    "# Exporting bar_3\n",
    "\n",
    "bar_3.figure.savefig(os.path.join(path, '04 Analysis', 'Visualizations', 'top_10_selling_prods.png'))"
   ]
  },
  {
   "cell_type": "markdown",
   "id": "19d433f0",
   "metadata": {},
   "source": [
    "# Key Question 4b: Which departments have the highest frequency of product orders?"
   ]
  },
  {
   "cell_type": "code",
   "execution_count": 14,
   "id": "595bb48e",
   "metadata": {},
   "outputs": [
    {
     "data": {
      "text/html": [
       "<div>\n",
       "<style scoped>\n",
       "    .dataframe tbody tr th:only-of-type {\n",
       "        vertical-align: middle;\n",
       "    }\n",
       "\n",
       "    .dataframe tbody tr th {\n",
       "        vertical-align: top;\n",
       "    }\n",
       "\n",
       "    .dataframe thead th {\n",
       "        text-align: right;\n",
       "    }\n",
       "</style>\n",
       "<table border=\"1\" class=\"dataframe\">\n",
       "  <thead>\n",
       "    <tr style=\"text-align: right;\">\n",
       "      <th></th>\n",
       "      <th>order_id</th>\n",
       "      <th>user_id</th>\n",
       "      <th>order_number</th>\n",
       "      <th>orders_day_of_week</th>\n",
       "      <th>order_hour_of_day</th>\n",
       "      <th>days_since_prior_order</th>\n",
       "      <th>first_order</th>\n",
       "      <th>product_id</th>\n",
       "      <th>add_to_cart_order</th>\n",
       "      <th>reordered</th>\n",
       "      <th>product_name</th>\n",
       "      <th>aisle_id</th>\n",
       "      <th>department_id</th>\n",
       "      <th>prices</th>\n",
       "      <th>_merge</th>\n",
       "      <th>price_range_loc</th>\n",
       "      <th>Busiest day</th>\n",
       "      <th>Busiest Hours</th>\n",
       "      <th>max_order</th>\n",
       "      <th>loyalty_flag</th>\n",
       "      <th>avg_spending</th>\n",
       "      <th>spending_habits</th>\n",
       "      <th>buying_freq</th>\n",
       "      <th>customer_freq</th>\n",
       "      <th>Gender</th>\n",
       "      <th>STATE</th>\n",
       "      <th>Age</th>\n",
       "      <th>date_joined</th>\n",
       "      <th>num_of_dependants</th>\n",
       "      <th>fam_status</th>\n",
       "      <th>income</th>\n",
       "      <th>region</th>\n",
       "      <th>activity_flag</th>\n",
       "      <th>generation</th>\n",
       "      <th>income_group</th>\n",
       "      <th>parent_status</th>\n",
       "      <th>weekday</th>\n",
       "      <th>department_name</th>\n",
       "      <th>best_seller</th>\n",
       "    </tr>\n",
       "  </thead>\n",
       "  <tbody>\n",
       "    <tr>\n",
       "      <th>0</th>\n",
       "      <td>2539329</td>\n",
       "      <td>1</td>\n",
       "      <td>1</td>\n",
       "      <td>2</td>\n",
       "      <td>8</td>\n",
       "      <td>NaN</td>\n",
       "      <td>True</td>\n",
       "      <td>196</td>\n",
       "      <td>1</td>\n",
       "      <td>0</td>\n",
       "      <td>Soda</td>\n",
       "      <td>77</td>\n",
       "      <td>7</td>\n",
       "      <td>9.0</td>\n",
       "      <td>both</td>\n",
       "      <td>Mid-range product</td>\n",
       "      <td>Regularly busy</td>\n",
       "      <td>Average_orders</td>\n",
       "      <td>10</td>\n",
       "      <td>New customer</td>\n",
       "      <td>6.367797</td>\n",
       "      <td>low spender</td>\n",
       "      <td>20.5</td>\n",
       "      <td>Non-frequent customer</td>\n",
       "      <td>Female</td>\n",
       "      <td>Alabama</td>\n",
       "      <td>31</td>\n",
       "      <td>2/17/2019</td>\n",
       "      <td>3</td>\n",
       "      <td>married</td>\n",
       "      <td>40423</td>\n",
       "      <td>South</td>\n",
       "      <td>Normal activity</td>\n",
       "      <td>Millennials 26-41</td>\n",
       "      <td>Lower-middle class 32K-53K</td>\n",
       "      <td>Parent</td>\n",
       "      <td>Monday</td>\n",
       "      <td>Beverages</td>\n",
       "      <td>Not applicable</td>\n",
       "    </tr>\n",
       "  </tbody>\n",
       "</table>\n",
       "</div>"
      ],
      "text/plain": [
       "   order_id  user_id  order_number  orders_day_of_week  order_hour_of_day  \\\n",
       "0   2539329        1             1                   2                  8   \n",
       "\n",
       "   days_since_prior_order  first_order  product_id  add_to_cart_order  \\\n",
       "0                     NaN         True         196                  1   \n",
       "\n",
       "   reordered product_name  aisle_id  department_id  prices _merge  \\\n",
       "0          0         Soda        77              7     9.0   both   \n",
       "\n",
       "     price_range_loc     Busiest day   Busiest Hours  max_order  loyalty_flag  \\\n",
       "0  Mid-range product  Regularly busy  Average_orders         10  New customer   \n",
       "\n",
       "   avg_spending spending_habits  buying_freq          customer_freq  Gender  \\\n",
       "0      6.367797     low spender         20.5  Non-frequent customer  Female   \n",
       "\n",
       "     STATE  Age date_joined  num_of_dependants fam_status  income region  \\\n",
       "0  Alabama   31   2/17/2019                  3    married   40423  South   \n",
       "\n",
       "     activity_flag         generation                income_group  \\\n",
       "0  Normal activity  Millennials 26-41  Lower-middle class 32K-53K   \n",
       "\n",
       "  parent_status weekday department_name     best_seller  \n",
       "0        Parent  Monday       Beverages  Not applicable  "
      ]
     },
     "execution_count": 14,
     "metadata": {},
     "output_type": "execute_result"
    }
   ],
   "source": [
    "ords_prods_custs_merged_3.head(1)"
   ]
  },
  {
   "cell_type": "code",
   "execution_count": 14,
   "id": "8e718f44",
   "metadata": {},
   "outputs": [
    {
     "data": {
      "image/png": "[encoded data removed]",
      "text/plain": [
       "<Figure size 432x288 with 1 Axes>"
      ]
     },
     "metadata": {
      "needs_background": "light"
     },
     "output_type": "display_data"
    }
   ],
   "source": [
    "\n",
    "bar_4 = ords_prods_custs_merged_3['department_name'].value_counts().plot.bar(color = 'maroon')\n",
    "plt.tight_layout()"
   ]
  },
  {
   "cell_type": "code",
   "execution_count": 15,
   "id": "ab18f0ef",
   "metadata": {},
   "outputs": [],
   "source": [
    "# Exporting bar_4\n",
    "\n",
    "bar_4.figure.savefig(os.path.join(path, '04 Analysis', 'Visualizations', 'ord_freq_by_dept.png'))"
   ]
  },
  {
   "cell_type": "code",
   "execution_count": 15,
   "id": "a2b7865f",
   "metadata": {},
   "outputs": [
    {
     "data": {
      "text/plain": [
       "Text(0, 0.5, '')"
      ]
     },
     "execution_count": 15,
     "metadata": {},
     "output_type": "execute_result"
    },
    {
     "data": {
      "image/png": "[encoded data removed]",
      "text/plain": [
       "<Figure size 432x288 with 1 Axes>"
      ]
     },
     "metadata": {},
     "output_type": "display_data"
    }
   ],
   "source": [
    "# Showing pie chart of customers based on loyalty status\n",
    "\n",
    "pie_2 = ords_prods_custs_merged_3['loyalty_flag'].value_counts().plot.pie(autopct = '%1.1f%%')\n",
    "plt.ylabel('')"
   ]
  },
  {
   "cell_type": "code",
   "execution_count": 16,
   "id": "ac8ab7cc",
   "metadata": {},
   "outputs": [],
   "source": [
    "# Exporting pie_2\n",
    "\n",
    "pie_2.figure.savefig(os.path.join(path, '04 Analysis', 'Visualizations', 'loyalty_flag_pie.png'))"
   ]
  },
  {
   "cell_type": "markdown",
   "id": "d71f94a0",
   "metadata": {},
   "source": [
    "# Key Question 5b: Are there differences in ordering habits based on a customer’s loyalty status?"
   ]
  },
  {
   "cell_type": "code",
   "execution_count": 17,
   "id": "88f45514",
   "metadata": {},
   "outputs": [],
   "source": [
    "# Creating crosstab of 'frequency_flag' and 'loyalty_flag'\n",
    "\n",
    "loyalty_and_spending_flags = pd.crosstab(ords_prods_custs_merged_3['customer_freq'], ords_prods_custs_merged_3['loyalty_flag'], dropna = False)"
   ]
  },
  {
   "cell_type": "code",
   "execution_count": 23,
   "id": "7e952d66",
   "metadata": {},
   "outputs": [
    {
     "data": {
      "image/png": "[encoded data removed]",
      "text/plain": [
       "<Figure size 432x288 with 1 Axes>"
      ]
     },
     "metadata": {
      "needs_background": "light"
     },
     "output_type": "display_data"
    }
   ],
   "source": [
    "# Creating stacked bar chart - frequency_flag counts grouped by loyalty_flag\n",
    "\n",
    "bar_5 = loyalty_and_spending_flags.plot(kind = 'bar', stacked = True)\n",
    "plt.tight_layout()"
   ]
  },
  {
   "cell_type": "code",
   "execution_count": 24,
   "id": "e7955c4d",
   "metadata": {},
   "outputs": [],
   "source": [
    "# Exporting bar_5\n",
    "\n",
    "bar_5.figure.savefig(os.path.join(path, '04 Analysis', 'Visualizations', 'loyalty_freq_flags.png'))"
   ]
  },
  {
   "cell_type": "code",
   "execution_count": 25,
   "id": "8aee973d",
   "metadata": {},
   "outputs": [],
   "source": [
    "# Creating crosstab between 'department_name' and 'loyalty_flag'\n",
    "\n",
    "dept_name_loyalty_flag = pd.crosstab(ords_prods_custs_merged_3['department_name'], ords_prods_custs_merged_3['loyalty_flag'], dropna = False)"
   ]
  },
  {
   "cell_type": "code",
   "execution_count": 26,
   "id": "ef09fd04",
   "metadata": {},
   "outputs": [
    {
     "data": {
      "image/png": "[encoded data removed]",
      "text/plain": [
       "<Figure size 432x288 with 1 Axes>"
      ]
     },
     "metadata": {
      "needs_background": "light"
     },
     "output_type": "display_data"
    }
   ],
   "source": [
    "# Creating stacked bar chart - department_name counts by loyalty_flag\n",
    "\n",
    "bar_6 = dept_name_loyalty_flag.plot(kind = 'bar', stacked = True)"
   ]
  },
  {
   "cell_type": "code",
   "execution_count": 27,
   "id": "e4e69de3",
   "metadata": {},
   "outputs": [],
   "source": [
    "# Exporting bar_6\n",
    "\n",
    "bar_6.figure.savefig(os.path.join(path, '04 Analysis', 'Visualizations', 'dept_name_loyalty_flag.png'))"
   ]
  },
  {
   "cell_type": "markdown",
   "id": "3c6f33bb",
   "metadata": {},
   "source": [
    "# are there differences in ordering habits based on regions?"
   ]
  },
  {
   "cell_type": "code",
   "execution_count": 28,
   "id": "8290aa91",
   "metadata": {},
   "outputs": [],
   "source": [
    "# Creating crosstab between 'department_name' and 'region' - index argument gives data proportions\n",
    "\n",
    "dept_name_region = pd.crosstab(ords_prods_custs_merged_3['department_name'], ords_prods_custs_merged_3['region'], normalize='index')"
   ]
  },
  {
   "cell_type": "code",
   "execution_count": 29,
   "id": "10d70348",
   "metadata": {},
   "outputs": [
    {
     "data": {
      "text/html": [
       "<div>\n",
       "<style scoped>\n",
       "    .dataframe tbody tr th:only-of-type {\n",
       "        vertical-align: middle;\n",
       "    }\n",
       "\n",
       "    .dataframe tbody tr th {\n",
       "        vertical-align: top;\n",
       "    }\n",
       "\n",
       "    .dataframe thead th {\n",
       "        text-align: right;\n",
       "    }\n",
       "</style>\n",
       "<table border=\"1\" class=\"dataframe\">\n",
       "  <thead>\n",
       "    <tr style=\"text-align: right;\">\n",
       "      <th>region</th>\n",
       "      <th>Midwest</th>\n",
       "      <th>Northeast</th>\n",
       "      <th>South</th>\n",
       "      <th>West</th>\n",
       "    </tr>\n",
       "    <tr>\n",
       "      <th>department_name</th>\n",
       "      <th></th>\n",
       "      <th></th>\n",
       "      <th></th>\n",
       "      <th></th>\n",
       "    </tr>\n",
       "  </thead>\n",
       "  <tbody>\n",
       "    <tr>\n",
       "      <th>Alcohol</th>\n",
       "      <td>0.199114</td>\n",
       "      <td>0.172692</td>\n",
       "      <td>0.335884</td>\n",
       "      <td>0.292311</td>\n",
       "    </tr>\n",
       "    <tr>\n",
       "      <th>Babies</th>\n",
       "      <td>0.195329</td>\n",
       "      <td>0.177297</td>\n",
       "      <td>0.338965</td>\n",
       "      <td>0.288408</td>\n",
       "    </tr>\n",
       "    <tr>\n",
       "      <th>Bakery</th>\n",
       "      <td>0.194832</td>\n",
       "      <td>0.177921</td>\n",
       "      <td>0.331632</td>\n",
       "      <td>0.295615</td>\n",
       "    </tr>\n",
       "    <tr>\n",
       "      <th>Beverages</th>\n",
       "      <td>0.193804</td>\n",
       "      <td>0.179835</td>\n",
       "      <td>0.334412</td>\n",
       "      <td>0.291949</td>\n",
       "    </tr>\n",
       "    <tr>\n",
       "      <th>Breakfast</th>\n",
       "      <td>0.193716</td>\n",
       "      <td>0.175773</td>\n",
       "      <td>0.333201</td>\n",
       "      <td>0.297310</td>\n",
       "    </tr>\n",
       "    <tr>\n",
       "      <th>Bulk</th>\n",
       "      <td>0.197987</td>\n",
       "      <td>0.167819</td>\n",
       "      <td>0.333584</td>\n",
       "      <td>0.300610</td>\n",
       "    </tr>\n",
       "    <tr>\n",
       "      <th>Canned goods</th>\n",
       "      <td>0.195368</td>\n",
       "      <td>0.174855</td>\n",
       "      <td>0.333329</td>\n",
       "      <td>0.296448</td>\n",
       "    </tr>\n",
       "    <tr>\n",
       "      <th>Dairy Eggs</th>\n",
       "      <td>0.194982</td>\n",
       "      <td>0.176712</td>\n",
       "      <td>0.332849</td>\n",
       "      <td>0.295456</td>\n",
       "    </tr>\n",
       "    <tr>\n",
       "      <th>Deli</th>\n",
       "      <td>0.193888</td>\n",
       "      <td>0.177710</td>\n",
       "      <td>0.332385</td>\n",
       "      <td>0.296017</td>\n",
       "    </tr>\n",
       "    <tr>\n",
       "      <th>Dry goods</th>\n",
       "      <td>0.196257</td>\n",
       "      <td>0.175180</td>\n",
       "      <td>0.331681</td>\n",
       "      <td>0.296881</td>\n",
       "    </tr>\n",
       "    <tr>\n",
       "      <th>Frozen</th>\n",
       "      <td>0.194880</td>\n",
       "      <td>0.174927</td>\n",
       "      <td>0.334669</td>\n",
       "      <td>0.295523</td>\n",
       "    </tr>\n",
       "    <tr>\n",
       "      <th>Household</th>\n",
       "      <td>0.198398</td>\n",
       "      <td>0.178003</td>\n",
       "      <td>0.329066</td>\n",
       "      <td>0.294532</td>\n",
       "    </tr>\n",
       "    <tr>\n",
       "      <th>International</th>\n",
       "      <td>0.196243</td>\n",
       "      <td>0.174152</td>\n",
       "      <td>0.331072</td>\n",
       "      <td>0.298533</td>\n",
       "    </tr>\n",
       "    <tr>\n",
       "      <th>Meat seafood</th>\n",
       "      <td>0.195140</td>\n",
       "      <td>0.175787</td>\n",
       "      <td>0.332548</td>\n",
       "      <td>0.296526</td>\n",
       "    </tr>\n",
       "    <tr>\n",
       "      <th>Missing</th>\n",
       "      <td>0.201692</td>\n",
       "      <td>0.178957</td>\n",
       "      <td>0.335426</td>\n",
       "      <td>0.283925</td>\n",
       "    </tr>\n",
       "    <tr>\n",
       "      <th>Other</th>\n",
       "      <td>0.193188</td>\n",
       "      <td>0.181450</td>\n",
       "      <td>0.336502</td>\n",
       "      <td>0.288859</td>\n",
       "    </tr>\n",
       "    <tr>\n",
       "      <th>Pantry</th>\n",
       "      <td>0.196580</td>\n",
       "      <td>0.175669</td>\n",
       "      <td>0.331901</td>\n",
       "      <td>0.295850</td>\n",
       "    </tr>\n",
       "    <tr>\n",
       "      <th>Personal care</th>\n",
       "      <td>0.196359</td>\n",
       "      <td>0.176095</td>\n",
       "      <td>0.335924</td>\n",
       "      <td>0.291622</td>\n",
       "    </tr>\n",
       "    <tr>\n",
       "      <th>Pets</th>\n",
       "      <td>0.188393</td>\n",
       "      <td>0.190358</td>\n",
       "      <td>0.319999</td>\n",
       "      <td>0.301251</td>\n",
       "    </tr>\n",
       "    <tr>\n",
       "      <th>Produce</th>\n",
       "      <td>0.196055</td>\n",
       "      <td>0.175735</td>\n",
       "      <td>0.333416</td>\n",
       "      <td>0.294794</td>\n",
       "    </tr>\n",
       "    <tr>\n",
       "      <th>Snacks</th>\n",
       "      <td>0.195270</td>\n",
       "      <td>0.178239</td>\n",
       "      <td>0.331543</td>\n",
       "      <td>0.294948</td>\n",
       "    </tr>\n",
       "  </tbody>\n",
       "</table>\n",
       "</div>"
      ],
      "text/plain": [
       "region            Midwest  Northeast     South      West\n",
       "department_name                                         \n",
       "Alcohol          0.199114   0.172692  0.335884  0.292311\n",
       "Babies           0.195329   0.177297  0.338965  0.288408\n",
       "Bakery           0.194832   0.177921  0.331632  0.295615\n",
       "Beverages        0.193804   0.179835  0.334412  0.291949\n",
       "Breakfast        0.193716   0.175773  0.333201  0.297310\n",
       "Bulk             0.197987   0.167819  0.333584  0.300610\n",
       "Canned goods     0.195368   0.174855  0.333329  0.296448\n",
       "Dairy Eggs       0.194982   0.176712  0.332849  0.295456\n",
       "Deli             0.193888   0.177710  0.332385  0.296017\n",
       "Dry goods        0.196257   0.175180  0.331681  0.296881\n",
       "Frozen           0.194880   0.174927  0.334669  0.295523\n",
       "Household        0.198398   0.178003  0.329066  0.294532\n",
       "International    0.196243   0.174152  0.331072  0.298533\n",
       "Meat seafood     0.195140   0.175787  0.332548  0.296526\n",
       "Missing          0.201692   0.178957  0.335426  0.283925\n",
       "Other            0.193188   0.181450  0.336502  0.288859\n",
       "Pantry           0.196580   0.175669  0.331901  0.295850\n",
       "Personal care    0.196359   0.176095  0.335924  0.291622\n",
       "Pets             0.188393   0.190358  0.319999  0.301251\n",
       "Produce          0.196055   0.175735  0.333416  0.294794\n",
       "Snacks           0.195270   0.178239  0.331543  0.294948"
      ]
     },
     "execution_count": 29,
     "metadata": {},
     "output_type": "execute_result"
    }
   ],
   "source": [
    "# Checking crosstab results\n",
    "\n",
    "dept_name_region"
   ]
  },
  {
   "cell_type": "code",
   "execution_count": 30,
   "id": "a2ef57fc",
   "metadata": {},
   "outputs": [
    {
     "data": {
      "image/png": "[encoded data removed]",
      "text/plain": [
       "<Figure size 432x288 with 1 Axes>"
      ]
     },
     "metadata": {
      "needs_background": "light"
     },
     "output_type": "display_data"
    }
   ],
   "source": [
    "# Creating 100% stacked bar - department names by region\n",
    "\n",
    "bar100 = dept_name_region.plot(kind='bar', stacked = True)\n",
    "plt.legend(loc='right', bbox_to_anchor=(1.35, 0.50))\n",
    "plt.tight_layout()"
   ]
  },
  {
   "cell_type": "code",
   "execution_count": 31,
   "id": "8881210b",
   "metadata": {},
   "outputs": [],
   "source": [
    "# Exporting bar100\n",
    "\n",
    "bar100.figure.savefig(os.path.join(path, '04 Analysis', 'Visualizations', 'orders_by_region.png'))"
   ]
  },
  {
   "cell_type": "code",
   "execution_count": 32,
   "id": "08bf5182",
   "metadata": {},
   "outputs": [],
   "source": [
    "# Creating crosstab between 'weekday' and 'region' - index argument gives data proportions\n",
    "\n",
    "weekday_region = pd.crosstab(ords_prods_custs_merged_3['weekday'], ords_prods_custs_merged_3['region'], dropna = False)"
   ]
  },
  {
   "cell_type": "code",
   "execution_count": 33,
   "id": "fe64ae01",
   "metadata": {},
   "outputs": [
    {
     "data": {
      "image/png": "[encoded data removed]",
      "text/plain": [
       "<Figure size 432x288 with 1 Axes>"
      ]
     },
     "metadata": {
      "needs_background": "light"
     },
     "output_type": "display_data"
    }
   ],
   "source": [
    "# Creating stacked bar - weekday by region\n",
    "\n",
    "weekday_region_bar = weekday_region.plot(kind = 'bar', stacked = True)"
   ]
  },
  {
   "cell_type": "code",
   "execution_count": 34,
   "id": "978c8d2d",
   "metadata": {},
   "outputs": [],
   "source": [
    "# Exporting weekday_region_bar\n",
    "\n",
    "weekday_region_bar.figure.savefig(os.path.join(path, '04 Analysis', 'Visualizations', 'weekday_region_bar.png'))"
   ]
  },
  {
   "cell_type": "markdown",
   "id": "23d46e41",
   "metadata": {},
   "source": [
    "# Is there a connection between age and family status in terms of ordering habits"
   ]
  },
  {
   "cell_type": "code",
   "execution_count": 35,
   "id": "f4c16f1f",
   "metadata": {},
   "outputs": [],
   "source": [
    "# Creating crosstab between 'department_name' and 'generation'\n",
    "\n",
    "order_by_age = pd.crosstab(ords_prods_custs_merged_3['department_name'], ords_prods_custs_merged_3['generation'])"
   ]
  },
  {
   "cell_type": "code",
   "execution_count": 36,
   "id": "38ce90f8",
   "metadata": {},
   "outputs": [
    {
     "data": {
      "image/png": "[encoded data removed]",
      "text/plain": [
       "<Figure size 432x288 with 1 Axes>"
      ]
     },
     "metadata": {
      "needs_background": "light"
     },
     "output_type": "display_data"
    }
   ],
   "source": [
    "# Creating stacked bar - department_name by generation\n",
    "\n",
    "bar_7 = order_by_age.plot(kind = 'bar', stacked = True, color = sns.color_palette('Blues', 5))\n",
    "plt.legend\n",
    "plt.tight_layout()"
   ]
  },
  {
   "cell_type": "code",
   "execution_count": 37,
   "id": "4623f831",
   "metadata": {},
   "outputs": [],
   "source": [
    "# Exporting bar7\n",
    "\n",
    "bar_7.figure.savefig(os.path.join(path, '04 Analysis', 'Visualizations', 'orders_by_age_stack.png'))"
   ]
  },
  {
   "cell_type": "code",
   "execution_count": 38,
   "id": "ea329b63",
   "metadata": {},
   "outputs": [],
   "source": [
    "# Creating same crosstab but with values as proportions\n",
    "\n",
    "order_by_age_2 = pd.crosstab(ords_prods_custs_merged_3['department_name'], ords_prods_custs_merged_3['generation'], normalize = 'index')"
   ]
  },
  {
   "cell_type": "code",
   "execution_count": 39,
   "id": "72d3842c",
   "metadata": {},
   "outputs": [
    {
     "data": {
      "image/png": "[encoded data removed]",
      "text/plain": [
       "<Figure size 432x288 with 1 Axes>"
      ]
     },
     "metadata": {
      "needs_background": "light"
     },
     "output_type": "display_data"
    }
   ],
   "source": [
    "# Creating 100% stacked bar - department name by generation\n",
    "\n",
    "bar100_2 = order_by_age_2.plot(kind='bar', stacked = True, color = sns.color_palette('Blues', 5))\n",
    "plt.legend(loc='right', bbox_to_anchor=(1.0, 0.75))\n",
    "plt.tight_layout()"
   ]
  },
  {
   "cell_type": "code",
   "execution_count": 40,
   "id": "236abe51",
   "metadata": {},
   "outputs": [],
   "source": [
    "# Exporting bar100_2\n",
    "\n",
    "bar100_2.figure.savefig(os.path.join(path, '04 Analysis', 'Visualizations', 'orders_by_age_100stack.png'))"
   ]
  },
  {
   "cell_type": "code",
   "execution_count": 41,
   "id": "e6172211",
   "metadata": {},
   "outputs": [],
   "source": [
    "# Creating crosstab between 'department_name' and 'fam_status'\n",
    "\n",
    "order_by_fam = pd.crosstab(ords_prods_custs_merged_3['department_name'], ords_prods_custs_merged_3['fam_status'])"
   ]
  },
  {
   "cell_type": "code",
   "execution_count": 42,
   "id": "2d90257e",
   "metadata": {},
   "outputs": [
    {
     "data": {
      "image/png": "[encoded data removed]",
      "text/plain": [
       "<Figure size 432x288 with 1 Axes>"
      ]
     },
     "metadata": {
      "needs_background": "light"
     },
     "output_type": "display_data"
    }
   ],
   "source": [
    "# Creating stacked bar - department_name by fam_status\n",
    "\n",
    "bar_8 = order_by_fam.plot(kind = 'bar', stacked = True, color = sns.color_palette('Reds', 4))\n",
    "plt.legend\n",
    "plt.tight_layout()"
   ]
  },
  {
   "cell_type": "code",
   "execution_count": 43,
   "id": "ebc8059f",
   "metadata": {},
   "outputs": [],
   "source": [
    "# Exporting bar_8\n",
    "\n",
    "bar_8.figure.savefig(os.path.join(path, '04 Analysis', 'Visualizations', 'orders_by_fam_status.png'))"
   ]
  },
  {
   "cell_type": "code",
   "execution_count": 44,
   "id": "4ce2b0ec",
   "metadata": {},
   "outputs": [],
   "source": [
    "# Creating same tab but with values as proportions\n",
    "\n",
    "order_by_fam_2 = pd.crosstab(ords_prods_custs_merged_3['department_name'], ords_prods_custs_merged_3['fam_status'], normalize = 'index')"
   ]
  },
  {
   "cell_type": "code",
   "execution_count": 45,
   "id": "0c9ef030",
   "metadata": {},
   "outputs": [
    {
     "data": {
      "image/png": "[encoded data removed]",
      "text/plain": [
       "<Figure size 432x288 with 1 Axes>"
      ]
     },
     "metadata": {
      "needs_background": "light"
     },
     "output_type": "display_data"
    }
   ],
   "source": [
    "# Creating 100% stacked bar - department_name by fam_status\n",
    "\n",
    "bar100_3 = order_by_fam_2.plot(kind='bar', stacked = True, color = sns.color_palette('Reds', 5))\n",
    "plt.legend(loc='right', bbox_to_anchor=(1.0, 0.80))\n",
    "plt.tight_layout()"
   ]
  },
  {
   "cell_type": "code",
   "execution_count": 46,
   "id": "650aea07",
   "metadata": {},
   "outputs": [],
   "source": [
    "# Exporting bar100_3\n",
    "\n",
    "bar100_3.figure.savefig(os.path.join(path, '04 Analysis', 'Visualizations', 'orders_by_fam_status_stacked.png'))\n"
   ]
  },
  {
   "cell_type": "markdown",
   "id": "794a0089",
   "metadata": {},
   "source": [
    "# Aggregate the max, mean, and min variables on a customer-profile level for usage frequency and expenditure"
   ]
  },
  {
   "cell_type": "code",
   "execution_count": 47,
   "id": "a6895966",
   "metadata": {},
   "outputs": [],
   "source": [
    "# Aggregations for generation & prices\n",
    "\n",
    "age_price_agg = ords_prods_custs_merged_3.groupby('generation').agg({'prices' : ['min', 'mean', 'max']})"
   ]
  },
  {
   "cell_type": "code",
   "execution_count": 48,
   "id": "fa1f5de4",
   "metadata": {},
   "outputs": [
    {
     "data": {
      "text/html": [
       "<div>\n",
       "<style scoped>\n",
       "    .dataframe tbody tr th:only-of-type {\n",
       "        vertical-align: middle;\n",
       "    }\n",
       "\n",
       "    .dataframe tbody tr th {\n",
       "        vertical-align: top;\n",
       "    }\n",
       "\n",
       "    .dataframe thead tr th {\n",
       "        text-align: left;\n",
       "    }\n",
       "\n",
       "    .dataframe thead tr:last-of-type th {\n",
       "        text-align: right;\n",
       "    }\n",
       "</style>\n",
       "<table border=\"1\" class=\"dataframe\">\n",
       "  <thead>\n",
       "    <tr>\n",
       "      <th></th>\n",
       "      <th colspan=\"3\" halign=\"left\">prices</th>\n",
       "    </tr>\n",
       "    <tr>\n",
       "      <th></th>\n",
       "      <th>min</th>\n",
       "      <th>mean</th>\n",
       "      <th>max</th>\n",
       "    </tr>\n",
       "    <tr>\n",
       "      <th>generation</th>\n",
       "      <th></th>\n",
       "      <th></th>\n",
       "      <th></th>\n",
       "    </tr>\n",
       "  </thead>\n",
       "  <tbody>\n",
       "    <tr>\n",
       "      <th>Baby Boomers 58-76</th>\n",
       "      <td>1.0</td>\n",
       "      <td>7.796990</td>\n",
       "      <td>25.0</td>\n",
       "    </tr>\n",
       "    <tr>\n",
       "      <th>Gen X 42-57</th>\n",
       "      <td>1.0</td>\n",
       "      <td>7.790789</td>\n",
       "      <td>25.0</td>\n",
       "    </tr>\n",
       "    <tr>\n",
       "      <th>Gen Z 18-25</th>\n",
       "      <td>1.0</td>\n",
       "      <td>7.785748</td>\n",
       "      <td>25.0</td>\n",
       "    </tr>\n",
       "    <tr>\n",
       "      <th>Millennials 26-41</th>\n",
       "      <td>1.0</td>\n",
       "      <td>7.787246</td>\n",
       "      <td>25.0</td>\n",
       "    </tr>\n",
       "    <tr>\n",
       "      <th>Silent Generation &gt;76</th>\n",
       "      <td>1.0</td>\n",
       "      <td>7.789497</td>\n",
       "      <td>25.0</td>\n",
       "    </tr>\n",
       "  </tbody>\n",
       "</table>\n",
       "</div>"
      ],
      "text/plain": [
       "                      prices                \n",
       "                         min      mean   max\n",
       "generation                                  \n",
       "Baby Boomers 58-76       1.0  7.796990  25.0\n",
       "Gen X 42-57              1.0  7.790789  25.0\n",
       "Gen Z 18-25              1.0  7.785748  25.0\n",
       "Millennials 26-41        1.0  7.787246  25.0\n",
       "Silent Generation >76    1.0  7.789497  25.0"
      ]
     },
     "execution_count": 48,
     "metadata": {},
     "output_type": "execute_result"
    }
   ],
   "source": [
    "age_price_agg"
   ]
  },
  {
   "cell_type": "code",
   "execution_count": 49,
   "id": "463f806e",
   "metadata": {},
   "outputs": [],
   "source": [
    "# Aggregations for generation & order_number\n",
    "\n",
    "age_order_agg = ords_prods_custs_merged_3.groupby('generation').agg({'order_number' : ['min', 'mean', 'max']})\n"
   ]
  },
  {
   "cell_type": "code",
   "execution_count": 50,
   "id": "12ad2160",
   "metadata": {},
   "outputs": [
    {
     "data": {
      "text/html": [
       "<div>\n",
       "<style scoped>\n",
       "    .dataframe tbody tr th:only-of-type {\n",
       "        vertical-align: middle;\n",
       "    }\n",
       "\n",
       "    .dataframe tbody tr th {\n",
       "        vertical-align: top;\n",
       "    }\n",
       "\n",
       "    .dataframe thead tr th {\n",
       "        text-align: left;\n",
       "    }\n",
       "\n",
       "    .dataframe thead tr:last-of-type th {\n",
       "        text-align: right;\n",
       "    }\n",
       "</style>\n",
       "<table border=\"1\" class=\"dataframe\">\n",
       "  <thead>\n",
       "    <tr>\n",
       "      <th></th>\n",
       "      <th colspan=\"3\" halign=\"left\">order_number</th>\n",
       "    </tr>\n",
       "    <tr>\n",
       "      <th></th>\n",
       "      <th>min</th>\n",
       "      <th>mean</th>\n",
       "      <th>max</th>\n",
       "    </tr>\n",
       "    <tr>\n",
       "      <th>generation</th>\n",
       "      <th></th>\n",
       "      <th></th>\n",
       "      <th></th>\n",
       "    </tr>\n",
       "  </thead>\n",
       "  <tbody>\n",
       "    <tr>\n",
       "      <th>Baby Boomers 58-76</th>\n",
       "      <td>1</td>\n",
       "      <td>17.122193</td>\n",
       "      <td>99</td>\n",
       "    </tr>\n",
       "    <tr>\n",
       "      <th>Gen X 42-57</th>\n",
       "      <td>1</td>\n",
       "      <td>17.158065</td>\n",
       "      <td>99</td>\n",
       "    </tr>\n",
       "    <tr>\n",
       "      <th>Gen Z 18-25</th>\n",
       "      <td>1</td>\n",
       "      <td>17.173224</td>\n",
       "      <td>99</td>\n",
       "    </tr>\n",
       "    <tr>\n",
       "      <th>Millennials 26-41</th>\n",
       "      <td>1</td>\n",
       "      <td>17.144745</td>\n",
       "      <td>99</td>\n",
       "    </tr>\n",
       "    <tr>\n",
       "      <th>Silent Generation &gt;76</th>\n",
       "      <td>1</td>\n",
       "      <td>17.110013</td>\n",
       "      <td>99</td>\n",
       "    </tr>\n",
       "  </tbody>\n",
       "</table>\n",
       "</div>"
      ],
      "text/plain": [
       "                      order_number               \n",
       "                               min       mean max\n",
       "generation                                       \n",
       "Baby Boomers 58-76               1  17.122193  99\n",
       "Gen X 42-57                      1  17.158065  99\n",
       "Gen Z 18-25                      1  17.173224  99\n",
       "Millennials 26-41                1  17.144745  99\n",
       "Silent Generation >76            1  17.110013  99"
      ]
     },
     "execution_count": 50,
     "metadata": {},
     "output_type": "execute_result"
    }
   ],
   "source": [
    "age_order_agg"
   ]
  },
  {
   "cell_type": "code",
   "execution_count": 51,
   "id": "f151ad9d",
   "metadata": {},
   "outputs": [],
   "source": [
    "# Aggregations for income & price\n",
    "\n",
    "income_price_agg = ords_prods_custs_merged_3.groupby('income_group').agg({'prices' : ['min', 'mean', 'max']})"
   ]
  },
  {
   "cell_type": "code",
   "execution_count": 52,
   "id": "da586a81",
   "metadata": {},
   "outputs": [
    {
     "data": {
      "text/html": [
       "<div>\n",
       "<style scoped>\n",
       "    .dataframe tbody tr th:only-of-type {\n",
       "        vertical-align: middle;\n",
       "    }\n",
       "\n",
       "    .dataframe tbody tr th {\n",
       "        vertical-align: top;\n",
       "    }\n",
       "\n",
       "    .dataframe thead tr th {\n",
       "        text-align: left;\n",
       "    }\n",
       "\n",
       "    .dataframe thead tr:last-of-type th {\n",
       "        text-align: right;\n",
       "    }\n",
       "</style>\n",
       "<table border=\"1\" class=\"dataframe\">\n",
       "  <thead>\n",
       "    <tr>\n",
       "      <th></th>\n",
       "      <th colspan=\"3\" halign=\"left\">prices</th>\n",
       "    </tr>\n",
       "    <tr>\n",
       "      <th></th>\n",
       "      <th>min</th>\n",
       "      <th>mean</th>\n",
       "      <th>max</th>\n",
       "    </tr>\n",
       "    <tr>\n",
       "      <th>income_group</th>\n",
       "      <th></th>\n",
       "      <th></th>\n",
       "      <th></th>\n",
       "    </tr>\n",
       "  </thead>\n",
       "  <tbody>\n",
       "    <tr>\n",
       "      <th>Lower class &lt;32K</th>\n",
       "      <td>1.0</td>\n",
       "      <td>6.498681</td>\n",
       "      <td>25.0</td>\n",
       "    </tr>\n",
       "    <tr>\n",
       "      <th>Lower-middle class 32K-53K</th>\n",
       "      <td>1.0</td>\n",
       "      <td>6.843750</td>\n",
       "      <td>25.0</td>\n",
       "    </tr>\n",
       "    <tr>\n",
       "      <th>Middle class 53K-107K</th>\n",
       "      <td>1.0</td>\n",
       "      <td>7.920133</td>\n",
       "      <td>25.0</td>\n",
       "    </tr>\n",
       "    <tr>\n",
       "      <th>Upper class &gt;374K</th>\n",
       "      <td>1.0</td>\n",
       "      <td>7.755069</td>\n",
       "      <td>25.0</td>\n",
       "    </tr>\n",
       "    <tr>\n",
       "      <th>Upper middle class 107K-374K</th>\n",
       "      <td>1.0</td>\n",
       "      <td>7.958679</td>\n",
       "      <td>25.0</td>\n",
       "    </tr>\n",
       "  </tbody>\n",
       "</table>\n",
       "</div>"
      ],
      "text/plain": [
       "                             prices                \n",
       "                                min      mean   max\n",
       "income_group                                       \n",
       "Lower class <32K                1.0  6.498681  25.0\n",
       "Lower-middle class 32K-53K      1.0  6.843750  25.0\n",
       "Middle class 53K-107K           1.0  7.920133  25.0\n",
       "Upper class >374K               1.0  7.755069  25.0\n",
       "Upper middle class 107K-374K    1.0  7.958679  25.0"
      ]
     },
     "execution_count": 52,
     "metadata": {},
     "output_type": "execute_result"
    }
   ],
   "source": [
    "income_price_agg"
   ]
  },
  {
   "cell_type": "code",
   "execution_count": 53,
   "id": "337785ab",
   "metadata": {},
   "outputs": [],
   "source": [
    "# Aggregations for income & order_number\n",
    "\n",
    "income_order_agg = ords_prods_custs_merged_3.groupby('income_group').agg({'order_number' : ['min', 'mean', 'max']})"
   ]
  },
  {
   "cell_type": "code",
   "execution_count": 54,
   "id": "3bc444af",
   "metadata": {},
   "outputs": [
    {
     "data": {
      "text/html": [
       "<div>\n",
       "<style scoped>\n",
       "    .dataframe tbody tr th:only-of-type {\n",
       "        vertical-align: middle;\n",
       "    }\n",
       "\n",
       "    .dataframe tbody tr th {\n",
       "        vertical-align: top;\n",
       "    }\n",
       "\n",
       "    .dataframe thead tr th {\n",
       "        text-align: left;\n",
       "    }\n",
       "\n",
       "    .dataframe thead tr:last-of-type th {\n",
       "        text-align: right;\n",
       "    }\n",
       "</style>\n",
       "<table border=\"1\" class=\"dataframe\">\n",
       "  <thead>\n",
       "    <tr>\n",
       "      <th></th>\n",
       "      <th colspan=\"3\" halign=\"left\">order_number</th>\n",
       "    </tr>\n",
       "    <tr>\n",
       "      <th></th>\n",
       "      <th>min</th>\n",
       "      <th>mean</th>\n",
       "      <th>max</th>\n",
       "    </tr>\n",
       "    <tr>\n",
       "      <th>income_group</th>\n",
       "      <th></th>\n",
       "      <th></th>\n",
       "      <th></th>\n",
       "    </tr>\n",
       "  </thead>\n",
       "  <tbody>\n",
       "    <tr>\n",
       "      <th>Lower class &lt;32K</th>\n",
       "      <td>1</td>\n",
       "      <td>15.473165</td>\n",
       "      <td>99</td>\n",
       "    </tr>\n",
       "    <tr>\n",
       "      <th>Lower-middle class 32K-53K</th>\n",
       "      <td>1</td>\n",
       "      <td>16.073580</td>\n",
       "      <td>99</td>\n",
       "    </tr>\n",
       "    <tr>\n",
       "      <th>Middle class 53K-107K</th>\n",
       "      <td>1</td>\n",
       "      <td>17.286154</td>\n",
       "      <td>99</td>\n",
       "    </tr>\n",
       "    <tr>\n",
       "      <th>Upper class &gt;374K</th>\n",
       "      <td>1</td>\n",
       "      <td>18.913610</td>\n",
       "      <td>99</td>\n",
       "    </tr>\n",
       "    <tr>\n",
       "      <th>Upper middle class 107K-374K</th>\n",
       "      <td>1</td>\n",
       "      <td>17.333854</td>\n",
       "      <td>99</td>\n",
       "    </tr>\n",
       "  </tbody>\n",
       "</table>\n",
       "</div>"
      ],
      "text/plain": [
       "                             order_number               \n",
       "                                      min       mean max\n",
       "income_group                                            \n",
       "Lower class <32K                        1  15.473165  99\n",
       "Lower-middle class 32K-53K              1  16.073580  99\n",
       "Middle class 53K-107K                   1  17.286154  99\n",
       "Upper class >374K                       1  18.913610  99\n",
       "Upper middle class 107K-374K            1  17.333854  99"
      ]
     },
     "execution_count": 54,
     "metadata": {},
     "output_type": "execute_result"
    }
   ],
   "source": [
    "income_order_agg"
   ]
  },
  {
   "cell_type": "code",
   "execution_count": 55,
   "id": "fe79398a",
   "metadata": {},
   "outputs": [],
   "source": [
    "# Aggregations for fam_status & price\n",
    "\n",
    "fam_price_agg = ords_prods_custs_merged_3.groupby('fam_status').agg({'prices' : ['min', 'mean', 'max']})"
   ]
  },
  {
   "cell_type": "code",
   "execution_count": 56,
   "id": "286ba15b",
   "metadata": {},
   "outputs": [
    {
     "data": {
      "text/html": [
       "<div>\n",
       "<style scoped>\n",
       "    .dataframe tbody tr th:only-of-type {\n",
       "        vertical-align: middle;\n",
       "    }\n",
       "\n",
       "    .dataframe tbody tr th {\n",
       "        vertical-align: top;\n",
       "    }\n",
       "\n",
       "    .dataframe thead tr th {\n",
       "        text-align: left;\n",
       "    }\n",
       "\n",
       "    .dataframe thead tr:last-of-type th {\n",
       "        text-align: right;\n",
       "    }\n",
       "</style>\n",
       "<table border=\"1\" class=\"dataframe\">\n",
       "  <thead>\n",
       "    <tr>\n",
       "      <th></th>\n",
       "      <th colspan=\"3\" halign=\"left\">prices</th>\n",
       "    </tr>\n",
       "    <tr>\n",
       "      <th></th>\n",
       "      <th>min</th>\n",
       "      <th>mean</th>\n",
       "      <th>max</th>\n",
       "    </tr>\n",
       "    <tr>\n",
       "      <th>fam_status</th>\n",
       "      <th></th>\n",
       "      <th></th>\n",
       "      <th></th>\n",
       "    </tr>\n",
       "  </thead>\n",
       "  <tbody>\n",
       "    <tr>\n",
       "      <th>divorced/widowed</th>\n",
       "      <td>1.0</td>\n",
       "      <td>7.800975</td>\n",
       "      <td>25.0</td>\n",
       "    </tr>\n",
       "    <tr>\n",
       "      <th>living with parents and siblings</th>\n",
       "      <td>1.0</td>\n",
       "      <td>7.800712</td>\n",
       "      <td>25.0</td>\n",
       "    </tr>\n",
       "    <tr>\n",
       "      <th>married</th>\n",
       "      <td>1.0</td>\n",
       "      <td>7.790695</td>\n",
       "      <td>25.0</td>\n",
       "    </tr>\n",
       "    <tr>\n",
       "      <th>single</th>\n",
       "      <td>1.0</td>\n",
       "      <td>7.784249</td>\n",
       "      <td>25.0</td>\n",
       "    </tr>\n",
       "  </tbody>\n",
       "</table>\n",
       "</div>"
      ],
      "text/plain": [
       "                                 prices                \n",
       "                                    min      mean   max\n",
       "fam_status                                             \n",
       "divorced/widowed                    1.0  7.800975  25.0\n",
       "living with parents and siblings    1.0  7.800712  25.0\n",
       "married                             1.0  7.790695  25.0\n",
       "single                              1.0  7.784249  25.0"
      ]
     },
     "execution_count": 56,
     "metadata": {},
     "output_type": "execute_result"
    }
   ],
   "source": [
    "fam_price_agg"
   ]
  },
  {
   "cell_type": "code",
   "execution_count": 57,
   "id": "e9a34e4c",
   "metadata": {},
   "outputs": [],
   "source": [
    "# Aggregations for fam_status & order_number\n",
    "\n",
    "fam_order_agg = ords_prods_custs_merged_3.groupby('fam_status').agg({'order_number' : ['min', 'mean', 'max']})"
   ]
  },
  {
   "cell_type": "code",
   "execution_count": 58,
   "id": "4fe606d1",
   "metadata": {},
   "outputs": [
    {
     "data": {
      "text/html": [
       "<div>\n",
       "<style scoped>\n",
       "    .dataframe tbody tr th:only-of-type {\n",
       "        vertical-align: middle;\n",
       "    }\n",
       "\n",
       "    .dataframe tbody tr th {\n",
       "        vertical-align: top;\n",
       "    }\n",
       "\n",
       "    .dataframe thead tr th {\n",
       "        text-align: left;\n",
       "    }\n",
       "\n",
       "    .dataframe thead tr:last-of-type th {\n",
       "        text-align: right;\n",
       "    }\n",
       "</style>\n",
       "<table border=\"1\" class=\"dataframe\">\n",
       "  <thead>\n",
       "    <tr>\n",
       "      <th></th>\n",
       "      <th colspan=\"3\" halign=\"left\">order_number</th>\n",
       "    </tr>\n",
       "    <tr>\n",
       "      <th></th>\n",
       "      <th>min</th>\n",
       "      <th>mean</th>\n",
       "      <th>max</th>\n",
       "    </tr>\n",
       "    <tr>\n",
       "      <th>fam_status</th>\n",
       "      <th></th>\n",
       "      <th></th>\n",
       "      <th></th>\n",
       "    </tr>\n",
       "  </thead>\n",
       "  <tbody>\n",
       "    <tr>\n",
       "      <th>divorced/widowed</th>\n",
       "      <td>1</td>\n",
       "      <td>17.275873</td>\n",
       "      <td>99</td>\n",
       "    </tr>\n",
       "    <tr>\n",
       "      <th>living with parents and siblings</th>\n",
       "      <td>1</td>\n",
       "      <td>17.296372</td>\n",
       "      <td>99</td>\n",
       "    </tr>\n",
       "    <tr>\n",
       "      <th>married</th>\n",
       "      <td>1</td>\n",
       "      <td>17.088283</td>\n",
       "      <td>99</td>\n",
       "    </tr>\n",
       "    <tr>\n",
       "      <th>single</th>\n",
       "      <td>1</td>\n",
       "      <td>17.258766</td>\n",
       "      <td>99</td>\n",
       "    </tr>\n",
       "  </tbody>\n",
       "</table>\n",
       "</div>"
      ],
      "text/plain": [
       "                                 order_number               \n",
       "                                          min       mean max\n",
       "fam_status                                                  \n",
       "divorced/widowed                            1  17.275873  99\n",
       "living with parents and siblings            1  17.296372  99\n",
       "married                                     1  17.088283  99\n",
       "single                                      1  17.258766  99"
      ]
     },
     "execution_count": 58,
     "metadata": {},
     "output_type": "execute_result"
    }
   ],
   "source": [
    "fam_order_agg"
   ]
  },
  {
   "cell_type": "code",
   "execution_count": 59,
   "id": "843156a2",
   "metadata": {},
   "outputs": [],
   "source": [
    "# Aggregations for parent_status & prices\n",
    "\n",
    "parent_price_agg = ords_prods_custs_merged_3.groupby('parent_status').agg({'prices' : ['min', 'mean', 'max']})"
   ]
  },
  {
   "cell_type": "code",
   "execution_count": 60,
   "id": "eae3df54",
   "metadata": {},
   "outputs": [
    {
     "data": {
      "text/html": [
       "<div>\n",
       "<style scoped>\n",
       "    .dataframe tbody tr th:only-of-type {\n",
       "        vertical-align: middle;\n",
       "    }\n",
       "\n",
       "    .dataframe tbody tr th {\n",
       "        vertical-align: top;\n",
       "    }\n",
       "\n",
       "    .dataframe thead tr th {\n",
       "        text-align: left;\n",
       "    }\n",
       "\n",
       "    .dataframe thead tr:last-of-type th {\n",
       "        text-align: right;\n",
       "    }\n",
       "</style>\n",
       "<table border=\"1\" class=\"dataframe\">\n",
       "  <thead>\n",
       "    <tr>\n",
       "      <th></th>\n",
       "      <th colspan=\"3\" halign=\"left\">prices</th>\n",
       "    </tr>\n",
       "    <tr>\n",
       "      <th></th>\n",
       "      <th>min</th>\n",
       "      <th>mean</th>\n",
       "      <th>max</th>\n",
       "    </tr>\n",
       "    <tr>\n",
       "      <th>parent_status</th>\n",
       "      <th></th>\n",
       "      <th></th>\n",
       "      <th></th>\n",
       "    </tr>\n",
       "  </thead>\n",
       "  <tbody>\n",
       "    <tr>\n",
       "      <th>Non-parent</th>\n",
       "      <td>1.0</td>\n",
       "      <td>7.789975</td>\n",
       "      <td>25.0</td>\n",
       "    </tr>\n",
       "    <tr>\n",
       "      <th>Parent</th>\n",
       "      <td>1.0</td>\n",
       "      <td>7.791334</td>\n",
       "      <td>25.0</td>\n",
       "    </tr>\n",
       "  </tbody>\n",
       "</table>\n",
       "</div>"
      ],
      "text/plain": [
       "              prices                \n",
       "                 min      mean   max\n",
       "parent_status                       \n",
       "Non-parent       1.0  7.789975  25.0\n",
       "Parent           1.0  7.791334  25.0"
      ]
     },
     "execution_count": 60,
     "metadata": {},
     "output_type": "execute_result"
    }
   ],
   "source": [
    "parent_price_agg"
   ]
  },
  {
   "cell_type": "code",
   "execution_count": 61,
   "id": "e5bfb39a",
   "metadata": {},
   "outputs": [],
   "source": [
    "# Aggregations for parent_status & order_number\n",
    "\n",
    "parent_order_agg = ords_prods_custs_merged_3.groupby('parent_status').agg({'order_number' : ['min', 'mean', 'max']})"
   ]
  },
  {
   "cell_type": "code",
   "execution_count": 62,
   "id": "773e8746",
   "metadata": {},
   "outputs": [
    {
     "data": {
      "text/html": [
       "<div>\n",
       "<style scoped>\n",
       "    .dataframe tbody tr th:only-of-type {\n",
       "        vertical-align: middle;\n",
       "    }\n",
       "\n",
       "    .dataframe tbody tr th {\n",
       "        vertical-align: top;\n",
       "    }\n",
       "\n",
       "    .dataframe thead tr th {\n",
       "        text-align: left;\n",
       "    }\n",
       "\n",
       "    .dataframe thead tr:last-of-type th {\n",
       "        text-align: right;\n",
       "    }\n",
       "</style>\n",
       "<table border=\"1\" class=\"dataframe\">\n",
       "  <thead>\n",
       "    <tr>\n",
       "      <th></th>\n",
       "      <th colspan=\"3\" halign=\"left\">order_number</th>\n",
       "    </tr>\n",
       "    <tr>\n",
       "      <th></th>\n",
       "      <th>min</th>\n",
       "      <th>mean</th>\n",
       "      <th>max</th>\n",
       "    </tr>\n",
       "    <tr>\n",
       "      <th>parent_status</th>\n",
       "      <th></th>\n",
       "      <th></th>\n",
       "      <th></th>\n",
       "    </tr>\n",
       "  </thead>\n",
       "  <tbody>\n",
       "    <tr>\n",
       "      <th>Non-parent</th>\n",
       "      <td>1</td>\n",
       "      <td>17.264622</td>\n",
       "      <td>99</td>\n",
       "    </tr>\n",
       "    <tr>\n",
       "      <th>Parent</th>\n",
       "      <td>1</td>\n",
       "      <td>17.101557</td>\n",
       "      <td>99</td>\n",
       "    </tr>\n",
       "  </tbody>\n",
       "</table>\n",
       "</div>"
      ],
      "text/plain": [
       "              order_number               \n",
       "                       min       mean max\n",
       "parent_status                            \n",
       "Non-parent               1  17.264622  99\n",
       "Parent                   1  17.101557  99"
      ]
     },
     "execution_count": 62,
     "metadata": {},
     "output_type": "execute_result"
    }
   ],
   "source": [
    "parent_order_agg"
   ]
  },
  {
   "cell_type": "markdown",
   "id": "8c1f160b",
   "metadata": {},
   "source": [
    "# What different classifications does the demographic information suggest? Age? Income? Certain types of goods? Family status?"
   ]
  },
  {
   "cell_type": "code",
   "execution_count": 63,
   "id": "b79a9c0b",
   "metadata": {},
   "outputs": [
    {
     "data": {
      "text/plain": [
       "Text(0, 0.5, '')"
      ]
     },
     "execution_count": 63,
     "metadata": {},
     "output_type": "execute_result"
    },
    {
     "data": {
      "image/png": "[encoded data removed]",
      "text/plain": [
       "<Figure size 432x288 with 1 Axes>"
      ]
     },
     "metadata": {},
     "output_type": "display_data"
    }
   ],
   "source": [
    "# Showing pie chart of customers based on generation\n",
    "\n",
    "pie_3 = ords_prods_custs_merged_3['generation'].value_counts().plot.pie(autopct = '%1.1f%%')\n",
    "plt.ylabel('')"
   ]
  },
  {
   "cell_type": "code",
   "execution_count": 64,
   "id": "85812a00",
   "metadata": {},
   "outputs": [],
   "source": [
    "# Exporting pie_3\n",
    "\n",
    "pie_3.figure.savefig(os.path.join(path, '04 Analysis', 'Visualizations', 'custs_generation_pie.png'))"
   ]
  },
  {
   "cell_type": "code",
   "execution_count": 66,
   "id": "9afe2c0d",
   "metadata": {},
   "outputs": [
    {
     "data": {
      "image/png": "[encoded data removed]",
      "text/plain": [
       "<Figure size 432x288 with 1 Axes>"
      ]
     },
     "metadata": {
      "needs_background": "light"
     },
     "output_type": "display_data"
    }
   ],
   "source": [
    "# Bar chart of income_group count\n",
    "\n",
    "bar_9 = ords_prods_custs_merged_3['income_group'].value_counts().plot.bar(color = 'pink')"
   ]
  },
  {
   "cell_type": "code",
   "execution_count": 67,
   "id": "f0454eaa",
   "metadata": {},
   "outputs": [],
   "source": [
    "# Exporting bar_9\n",
    "\n",
    "bar_9.figure.savefig(os.path.join(path, '04 Analysis', 'Visualizations', 'count_by_income_group_bar.png'))"
   ]
  },
  {
   "cell_type": "code",
   "execution_count": 68,
   "id": "b33a78d5",
   "metadata": {},
   "outputs": [],
   "source": [
    "# Creating aggregation for total sales by income_group\n",
    "\n",
    "sales_by_income_group = ords_prods_custs_merged_3.groupby('income_group').agg({'prices' : ['sum']})"
   ]
  },
  {
   "cell_type": "code",
   "execution_count": 70,
   "id": "8002081e",
   "metadata": {},
   "outputs": [
    {
     "data": {
      "image/png": "[encoded data removed]",
      "text/plain": [
       "<Figure size 432x288 with 1 Axes>"
      ]
     },
     "metadata": {
      "needs_background": "light"
     },
     "output_type": "display_data"
    }
   ],
   "source": [
    "# Bar chart of total sales by income group\n",
    "\n",
    "income_price_bar = sales_by_income_group.plot.bar(color = 'pink')"
   ]
  },
  {
   "cell_type": "code",
   "execution_count": 71,
   "id": "a2988590",
   "metadata": {},
   "outputs": [],
   "source": [
    "# Exporting income_price_bar\n",
    "\n",
    "income_price_bar.figure.savefig(os.path.join(path, '04 Analysis', 'Visualizations', 'sales_by_income_group.png'))"
   ]
  },
  {
   "cell_type": "code",
   "execution_count": 72,
   "id": "c9ffae42",
   "metadata": {},
   "outputs": [
    {
     "data": {
      "text/plain": [
       "Text(0, 0.5, '')"
      ]
     },
     "execution_count": 72,
     "metadata": {},
     "output_type": "execute_result"
    },
    {
     "data": {
      "image/png": "[encoded data removed]",
      "text/plain": [
       "<Figure size 432x288 with 1 Axes>"
      ]
     },
     "metadata": {},
     "output_type": "display_data"
    }
   ],
   "source": [
    "# Showing pie chart of customers based on fam_status\n",
    "\n",
    "pie_4 = ords_prods_custs_merged_3['fam_status'].value_counts().plot.pie(autopct = '%1.1f%%')\n",
    "plt.ylabel('')"
   ]
  },
  {
   "cell_type": "code",
   "execution_count": 73,
   "id": "e077841e",
   "metadata": {},
   "outputs": [],
   "source": [
    "# Exporting pie_4\n",
    "\n",
    "pie_4.figure.savefig(os.path.join(path, '04 Analysis', 'Visualizations', 'count_by_fam_status_pie.png'))"
   ]
  },
  {
   "cell_type": "code",
   "execution_count": 74,
   "id": "17a2c4cb",
   "metadata": {},
   "outputs": [],
   "source": [
    "# Creating aggregation for total sales by fam_status\n",
    "\n",
    "sales_by_fam_status = ords_prods_custs_merged_3.groupby('fam_status').agg({'prices' : ['sum']})"
   ]
  },
  {
   "cell_type": "code",
   "execution_count": 76,
   "id": "a9d32f87",
   "metadata": {},
   "outputs": [
    {
     "data": {
      "text/plain": [
       "<function matplotlib.pyplot.legend(*args, **kwargs)>"
      ]
     },
     "execution_count": 76,
     "metadata": {},
     "output_type": "execute_result"
    },
    {
     "data": {
      "image/png": "[encoded data removed]",
      "text/plain": [
       "<Figure size 432x288 with 1 Axes>"
      ]
     },
     "metadata": {
      "needs_background": "light"
     },
     "output_type": "display_data"
    }
   ],
   "source": [
    "# Bar chart of total sales by fam_status\n",
    "\n",
    "bar_10 = sales_by_fam_status.plot.bar(color = 'Red')\n",
    "plt.legend"
   ]
  },
  {
   "cell_type": "code",
   "execution_count": 77,
   "id": "54c58490",
   "metadata": {},
   "outputs": [],
   "source": [
    "# Exporting bar_10\n",
    "\n",
    "bar_10.figure.savefig(os.path.join(path, '04 Analysis', 'Visualizations', 'sales_by_fam_status_bar.png'))"
   ]
  },
  {
   "cell_type": "markdown",
   "id": "b3e7b783",
   "metadata": {},
   "source": [
    "# What differences can you find in ordering habits of different customer profiles?"
   ]
  },
  {
   "cell_type": "code",
   "execution_count": 78,
   "id": "cc6677a3",
   "metadata": {},
   "outputs": [],
   "source": [
    "# Crosstab between order_hour_of_day and parent_status\n",
    "\n",
    "parent_spender = pd.crosstab(ords_prods_custs_merged_3['order_hour_of_day'], ords_prods_custs_merged_3['parent_status'], dropna = False)"
   ]
  },
  {
   "cell_type": "code",
   "execution_count": 80,
   "id": "7b47ef62",
   "metadata": {},
   "outputs": [
    {
     "data": {
      "image/png": "[encoded data removed]",
      "text/plain": [
       "<Figure size 432x288 with 1 Axes>"
      ]
     },
     "metadata": {
      "needs_background": "light"
     },
     "output_type": "display_data"
    }
   ],
   "source": [
    "# Creating stacked bar chart - order_hour_of_day by parent_status\n",
    "\n",
    "bar_11 = parent_spender.plot(kind = 'bar', stacked = True, color = sns.color_palette('Blues', 3))"
   ]
  },
  {
   "cell_type": "code",
   "execution_count": 81,
   "id": "6889ce87",
   "metadata": {},
   "outputs": [],
   "source": [
    "# Exporting bar_11\n",
    "\n",
    "bar_11.figure.savefig(os.path.join(path, '04 Analysis', 'Visualizations', 'order_hour_by_parent_status.png'))"
   ]
  },
  {
   "cell_type": "code",
   "execution_count": 84,
   "id": "a772df92",
   "metadata": {},
   "outputs": [],
   "source": [
    "# Crosstab between generation and spender_flag\n",
    "\n",
    "age_spender_type = pd.crosstab(ords_prods_custs_merged_3['generation'], ords_prods_custs_merged_3['spending_habits'], dropna = False)"
   ]
  },
  {
   "cell_type": "code",
   "execution_count": 85,
   "id": "a94a60f4",
   "metadata": {},
   "outputs": [
    {
     "data": {
      "image/png": "[encoded data removed]",
      "text/plain": [
       "<Figure size 432x288 with 1 Axes>"
      ]
     },
     "metadata": {
      "needs_background": "light"
     },
     "output_type": "display_data"
    }
   ],
   "source": [
    "# Creating stacked bar chart - generation count by spender_flag\n",
    "\n",
    "bar_12 = age_spender_type.plot(kind = 'bar', stacked = True)"
   ]
  },
  {
   "cell_type": "code",
   "execution_count": 86,
   "id": "cd2ef546",
   "metadata": {},
   "outputs": [],
   "source": [
    "# Exporting bar_12\n",
    "\n",
    "bar_12.figure.savefig(os.path.join(path, '04 Analysis', 'Visualizations', 'generation_count_by_spender_flag.png'))"
   ]
  },
  {
   "cell_type": "code",
   "execution_count": 87,
   "id": "73b2c7bd",
   "metadata": {},
   "outputs": [],
   "source": [
    "# Creating crosstab between weekday and parent_status\n",
    "\n",
    "parent_spender_2 = pd.crosstab(ords_prods_custs_merged_3['weekday'], ords_prods_custs_merged_3['parent_status'], dropna = False)"
   ]
  },
  {
   "cell_type": "code",
   "execution_count": 91,
   "id": "1820168f",
   "metadata": {},
   "outputs": [
    {
     "data": {
      "image/png": "[encoded data removed]",
      "text/plain": [
       "<Figure size 432x288 with 1 Axes>"
      ]
     },
     "metadata": {
      "needs_background": "light"
     },
     "output_type": "display_data"
    }
   ],
   "source": [
    "# Creating stacked bar - weekday by parent_status\n",
    "\n",
    "bar_13 = parent_spender_2.plot(kind = 'bar', stacked = True, color = sns.color_palette('Reds',5))"
   ]
  },
  {
   "cell_type": "code",
   "execution_count": 92,
   "id": "ef56ed1b",
   "metadata": {},
   "outputs": [],
   "source": [
    "# Exporting bar13\n",
    "\n",
    "bar_13.figure.savefig(os.path.join(path, '04 Analysis', 'Visualizations', 'weekday_by_parent_status.png'))"
   ]
  },
  {
   "cell_type": "code",
   "execution_count": 93,
   "id": "dc2e4371",
   "metadata": {},
   "outputs": [],
   "source": [
    "# Creating crosstab between weekday and generation\n",
    "\n",
    "age_spend_habit = pd.crosstab(ords_prods_custs_merged_3['weekday'], ords_prods_custs_merged_3['generation'], dropna = False)"
   ]
  },
  {
   "cell_type": "code",
   "execution_count": 94,
   "id": "d32e3fe9",
   "metadata": {},
   "outputs": [
    {
     "data": {
      "image/png": "[encoded data removed]",
      "text/plain": [
       "<Figure size 432x288 with 1 Axes>"
      ]
     },
     "metadata": {
      "needs_background": "light"
     },
     "output_type": "display_data"
    }
   ],
   "source": [
    "# Creating stacked bar - weekday by generation\n",
    "\n",
    "bar_14 = age_spend_habit.plot(kind = 'bar', stacked = True, color = sns.color_palette('Greens',5))\n",
    "plt.tight_layout()"
   ]
  },
  {
   "cell_type": "code",
   "execution_count": 95,
   "id": "94ab7b02",
   "metadata": {},
   "outputs": [],
   "source": [
    "# Exporting bar14\n",
    "\n",
    "bar_14.figure.savefig(os.path.join(path, '04 Analysis', 'Visualizations', 'age_spend_habit.png'))"
   ]
  },
  {
   "cell_type": "code",
   "execution_count": 96,
   "id": "4ee71742",
   "metadata": {},
   "outputs": [],
   "source": [
    "# Creating crosstab between generation and fam_status\n",
    "\n",
    "gen_fam = pd.crosstab(ords_prods_custs_merged_3['generation'], ords_prods_custs_merged_3['fam_status'], dropna = False)"
   ]
  },
  {
   "cell_type": "code",
   "execution_count": 97,
   "id": "1bd02fdd",
   "metadata": {},
   "outputs": [
    {
     "data": {
      "image/png": "[encoded data removed]",
      "text/plain": [
       "<Figure size 432x288 with 1 Axes>"
      ]
     },
     "metadata": {
      "needs_background": "light"
     },
     "output_type": "display_data"
    }
   ],
   "source": [
    "# Creating stacked bar - generation by fam_status\n",
    "\n",
    "bar_15 = gen_fam.plot(kind = 'bar', stacked = True, color = sns.color_palette('Blues',4))\n",
    "plt.tight_layout()"
   ]
  },
  {
   "cell_type": "code",
   "execution_count": 98,
   "id": "61c74d46",
   "metadata": {},
   "outputs": [],
   "source": [
    "# Exporting bar_15\n",
    "\n",
    "bar_15.figure.savefig(os.path.join(path, '04 Analysis', 'Visualizations', 'gen_fam_status.png'))"
   ]
  },
  {
   "cell_type": "code",
   "execution_count": 99,
   "id": "866c1a4c",
   "metadata": {},
   "outputs": [
    {
     "data": {
      "text/html": [
       "<div>\n",
       "<style scoped>\n",
       "    .dataframe tbody tr th:only-of-type {\n",
       "        vertical-align: middle;\n",
       "    }\n",
       "\n",
       "    .dataframe tbody tr th {\n",
       "        vertical-align: top;\n",
       "    }\n",
       "\n",
       "    .dataframe thead th {\n",
       "        text-align: right;\n",
       "    }\n",
       "</style>\n",
       "<table border=\"1\" class=\"dataframe\">\n",
       "  <thead>\n",
       "    <tr style=\"text-align: right;\">\n",
       "      <th></th>\n",
       "      <th>order_id</th>\n",
       "      <th>user_id</th>\n",
       "      <th>order_number</th>\n",
       "      <th>orders_day_of_week</th>\n",
       "      <th>order_hour_of_day</th>\n",
       "      <th>days_since_prior_order</th>\n",
       "      <th>first_order</th>\n",
       "      <th>product_id</th>\n",
       "      <th>add_to_cart_order</th>\n",
       "      <th>reordered</th>\n",
       "      <th>product_name</th>\n",
       "      <th>aisle_id</th>\n",
       "      <th>department_id</th>\n",
       "      <th>prices</th>\n",
       "      <th>_merge</th>\n",
       "      <th>price_range_loc</th>\n",
       "      <th>Busiest day</th>\n",
       "      <th>Busiest Hours</th>\n",
       "      <th>max_order</th>\n",
       "      <th>loyalty_flag</th>\n",
       "      <th>avg_spending</th>\n",
       "      <th>spending_habits</th>\n",
       "      <th>buying_freq</th>\n",
       "      <th>customer_freq</th>\n",
       "      <th>Gender</th>\n",
       "      <th>STATE</th>\n",
       "      <th>Age</th>\n",
       "      <th>date_joined</th>\n",
       "      <th>num_of_dependants</th>\n",
       "      <th>fam_status</th>\n",
       "      <th>income</th>\n",
       "      <th>region</th>\n",
       "      <th>activity_flag</th>\n",
       "      <th>generation</th>\n",
       "      <th>income_group</th>\n",
       "      <th>parent_status</th>\n",
       "      <th>weekday</th>\n",
       "      <th>department_name</th>\n",
       "      <th>best_seller</th>\n",
       "    </tr>\n",
       "  </thead>\n",
       "  <tbody>\n",
       "    <tr>\n",
       "      <th>0</th>\n",
       "      <td>2539329</td>\n",
       "      <td>1</td>\n",
       "      <td>1</td>\n",
       "      <td>2</td>\n",
       "      <td>8</td>\n",
       "      <td>NaN</td>\n",
       "      <td>True</td>\n",
       "      <td>196</td>\n",
       "      <td>1</td>\n",
       "      <td>0</td>\n",
       "      <td>Soda</td>\n",
       "      <td>77</td>\n",
       "      <td>7</td>\n",
       "      <td>9.0</td>\n",
       "      <td>both</td>\n",
       "      <td>Mid-range product</td>\n",
       "      <td>Regularly busy</td>\n",
       "      <td>Average_orders</td>\n",
       "      <td>10</td>\n",
       "      <td>New customer</td>\n",
       "      <td>6.367797</td>\n",
       "      <td>low spender</td>\n",
       "      <td>20.5</td>\n",
       "      <td>Non-frequent customer</td>\n",
       "      <td>Female</td>\n",
       "      <td>Alabama</td>\n",
       "      <td>31</td>\n",
       "      <td>2/17/2019</td>\n",
       "      <td>3</td>\n",
       "      <td>married</td>\n",
       "      <td>40423</td>\n",
       "      <td>South</td>\n",
       "      <td>Normal activity</td>\n",
       "      <td>Millennials 26-41</td>\n",
       "      <td>Lower-middle class 32K-53K</td>\n",
       "      <td>Parent</td>\n",
       "      <td>Monday</td>\n",
       "      <td>Beverages</td>\n",
       "      <td>Not applicable</td>\n",
       "    </tr>\n",
       "  </tbody>\n",
       "</table>\n",
       "</div>"
      ],
      "text/plain": [
       "   order_id  user_id  order_number  orders_day_of_week  order_hour_of_day  \\\n",
       "0   2539329        1             1                   2                  8   \n",
       "\n",
       "   days_since_prior_order  first_order  product_id  add_to_cart_order  \\\n",
       "0                     NaN         True         196                  1   \n",
       "\n",
       "   reordered product_name  aisle_id  department_id  prices _merge  \\\n",
       "0          0         Soda        77              7     9.0   both   \n",
       "\n",
       "     price_range_loc     Busiest day   Busiest Hours  max_order  loyalty_flag  \\\n",
       "0  Mid-range product  Regularly busy  Average_orders         10  New customer   \n",
       "\n",
       "   avg_spending spending_habits  buying_freq          customer_freq  Gender  \\\n",
       "0      6.367797     low spender         20.5  Non-frequent customer  Female   \n",
       "\n",
       "     STATE  Age date_joined  num_of_dependants fam_status  income region  \\\n",
       "0  Alabama   31   2/17/2019                  3    married   40423  South   \n",
       "\n",
       "     activity_flag         generation                income_group  \\\n",
       "0  Normal activity  Millennials 26-41  Lower-middle class 32K-53K   \n",
       "\n",
       "  parent_status weekday department_name     best_seller  \n",
       "0        Parent  Monday       Beverages  Not applicable  "
      ]
     },
     "execution_count": 99,
     "metadata": {},
     "output_type": "execute_result"
    }
   ],
   "source": [
    "# Double checking headers\n",
    "\n",
    "ords_prods_custs_merged_3.head(1)"
   ]
  },
  {
   "cell_type": "code",
   "execution_count": 100,
   "id": "4087860d",
   "metadata": {},
   "outputs": [
    {
     "data": {
      "text/plain": [
       "(32404859, 39)"
      ]
     },
     "execution_count": 100,
     "metadata": {},
     "output_type": "execute_result"
    }
   ],
   "source": [
    "# Checking shape\n",
    "\n",
    "ords_prods_custs_merged_3.shape"
   ]
  },
  {
   "cell_type": "code",
   "execution_count": 13,
   "id": "606fff8d",
   "metadata": {},
   "outputs": [],
   "source": [
    "# Exporting most updated df as .csv file\n",
    "\n",
    "ords_prods_custs_merged_3.to_csv(os.path.join(path, '02 Data','Prepared Data', 'ords_prods_custs_merged_final.csv'))\n"
   ]
  },
  {
   "cell_type": "code",
   "execution_count": null,
   "id": "42cb0aa9",
   "metadata": {},
   "outputs": [],
   "source": []
  }
 ],
 "metadata": {
  "kernelspec": {
   "display_name": "Python 3 (ipykernel)",
   "language": "python",
   "name": "python3"
  },
  "language_info": {
   "codemirror_mode": {
    "name": "ipython",
    "version": 3
   },
   "file_extension": ".py",
   "mimetype": "text/x-python",
   "name": "python",
   "nbconvert_exporter": "python",
   "pygments_lexer": "ipython3",
   "version": "3.9.7"
  }
 },
 "nbformat": 4,
 "nbformat_minor": 5
}
