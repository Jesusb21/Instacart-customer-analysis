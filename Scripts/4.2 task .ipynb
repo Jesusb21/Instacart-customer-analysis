{
 "cells": [
  {
   "cell_type": "markdown",
   "id": "93dfaec4",
   "metadata": {},
   "source": [
    "# 4.2 Importing libraries"
   ]
  },
  {
   "cell_type": "code",
   "execution_count": 1,
   "id": "40be085b",
   "metadata": {},
   "outputs": [],
   "source": [
    "#import libraries\n",
    "import pandas as pd\n",
    "import numpy as nd\n",
    "import os"
   ]
  },
  {
   "cell_type": "markdown",
   "id": "a6a0a38f",
   "metadata": {},
   "source": [
    "# 4.2 working with data types"
   ]
  },
  {
   "cell_type": "code",
   "execution_count": 4,
   "id": "49b27b32",
   "metadata": {},
   "outputs": [],
   "source": [
    "#integers\n",
    "h = 25\n",
    "j = 4\n",
    "g = 400\n",
    "k = 10"
   ]
  },
  {
   "cell_type": "code",
   "execution_count": 5,
   "id": "c93f7412",
   "metadata": {},
   "outputs": [
    {
     "data": {
      "text/plain": [
       "100"
      ]
     },
     "execution_count": 5,
     "metadata": {},
     "output_type": "execute_result"
    }
   ],
   "source": [
    "h*j"
   ]
  },
  {
   "cell_type": "code",
   "execution_count": 6,
   "id": "3dad3a88",
   "metadata": {},
   "outputs": [
    {
     "data": {
      "text/plain": [
       "100.0"
      ]
     },
     "execution_count": 6,
     "metadata": {},
     "output_type": "execute_result"
    }
   ],
   "source": [
    "g/j"
   ]
  },
  {
   "cell_type": "code",
   "execution_count": 7,
   "id": "bbf65083",
   "metadata": {},
   "outputs": [
    {
     "data": {
      "text/plain": [
       "100"
      ]
     },
     "execution_count": 7,
     "metadata": {},
     "output_type": "execute_result"
    }
   ],
   "source": [
    "k*k"
   ]
  },
  {
   "cell_type": "code",
   "execution_count": 8,
   "id": "bd5781b5",
   "metadata": {},
   "outputs": [
    {
     "data": {
      "text/plain": [
       "100"
      ]
     },
     "execution_count": 8,
     "metadata": {},
     "output_type": "execute_result"
    }
   ],
   "source": [
    "g - k*30"
   ]
  },
  {
   "cell_type": "code",
   "execution_count": 9,
   "id": "974bb98c",
   "metadata": {},
   "outputs": [],
   "source": [
    "#float\n",
    "\n",
    "t = 20.8\n",
    "y = 4.2"
   ]
  },
  {
   "cell_type": "code",
   "execution_count": 10,
   "id": "4f414c16",
   "metadata": {},
   "outputs": [
    {
     "data": {
      "text/plain": [
       "4.9523809523809526"
      ]
     },
     "execution_count": 10,
     "metadata": {},
     "output_type": "execute_result"
    }
   ],
   "source": [
    "t/y"
   ]
  },
  {
   "cell_type": "code",
   "execution_count": 12,
   "id": "04f7bdd1",
   "metadata": {},
   "outputs": [],
   "source": [
    "p = 'potato'\n",
    "m = 'stew'"
   ]
  },
  {
   "cell_type": "code",
   "execution_count": 13,
   "id": "0089d6e8",
   "metadata": {},
   "outputs": [
    {
     "data": {
      "text/plain": [
       "'potatostew'"
      ]
     },
     "execution_count": 13,
     "metadata": {},
     "output_type": "execute_result"
    }
   ],
   "source": [
    "p + m "
   ]
  },
  {
   "cell_type": "code",
   "execution_count": 14,
   "id": "f69bbe0c",
   "metadata": {},
   "outputs": [],
   "source": [
    "o = ' is '\n",
    "z = 'very, very delicious.'\n",
    "w = 'i would '\n",
    "q = 'like more.'"
   ]
  },
  {
   "cell_type": "code",
   "execution_count": 15,
   "id": "1b6aa377",
   "metadata": {},
   "outputs": [
    {
     "data": {
      "text/plain": [
       "'potatostew is very, very delicious.'"
      ]
     },
     "execution_count": 15,
     "metadata": {},
     "output_type": "execute_result"
    }
   ],
   "source": [
    "p+m+o+z"
   ]
  },
  {
   "cell_type": "code",
   "execution_count": 16,
   "id": "b65c04f0",
   "metadata": {},
   "outputs": [
    {
     "data": {
      "text/plain": [
       "'i would like more.'"
      ]
     },
     "execution_count": 16,
     "metadata": {},
     "output_type": "execute_result"
    }
   ],
   "source": [
    "w+q"
   ]
  },
  {
   "cell_type": "code",
   "execution_count": null,
   "id": "27441413",
   "metadata": {},
   "outputs": [],
   "source": []
  }
 ],
 "metadata": {
  "kernelspec": {
   "display_name": "Python 3 (ipykernel)",
   "language": "python",
   "name": "python3"
  },
  "language_info": {
   "codemirror_mode": {
    "name": "ipython",
    "version": 3
   },
   "file_extension": ".py",
   "mimetype": "text/x-python",
   "name": "python",
   "nbconvert_exporter": "python",
   "pygments_lexer": "ipython3",
   "version": "3.9.7"
  }
 },
 "nbformat": 4,
 "nbformat_minor": 5
}
